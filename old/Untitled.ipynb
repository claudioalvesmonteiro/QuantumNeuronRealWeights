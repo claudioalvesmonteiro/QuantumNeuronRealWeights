{
 "cells": [
  {
   "cell_type": "code",
   "execution_count": 2,
   "metadata": {},
   "outputs": [
    {
     "ename": "ModuleNotFoundError",
     "evalue": "No module named 'neuron'",
     "output_type": "error",
     "traceback": [
      "\u001b[0;31m---------------------------------------------------------------------------\u001b[0m",
      "\u001b[0;31mModuleNotFoundError\u001b[0m                       Traceback (most recent call last)",
      "\u001b[0;32m<ipython-input-2-fb2ad2e1f575>\u001b[0m in \u001b[0;36m<module>\u001b[0;34m\u001b[0m\n\u001b[0;32m----> 1\u001b[0;31m \u001b[0;32mfrom\u001b[0m \u001b[0mneuron\u001b[0m \u001b[0;32mimport\u001b[0m \u001b[0;34m*\u001b[0m\u001b[0;34m\u001b[0m\u001b[0;34m\u001b[0m\u001b[0m\n\u001b[0m\u001b[1;32m      2\u001b[0m \u001b[0;32mfrom\u001b[0m \u001b[0mencodingsource\u001b[0m \u001b[0;32mimport\u001b[0m \u001b[0;34m*\u001b[0m\u001b[0;34m\u001b[0m\u001b[0;34m\u001b[0m\u001b[0m\n\u001b[1;32m      3\u001b[0m \u001b[0;32mfrom\u001b[0m \u001b[0mhsgs\u001b[0m \u001b[0;32mimport\u001b[0m \u001b[0;34m*\u001b[0m\u001b[0;34m\u001b[0m\u001b[0;34m\u001b[0m\u001b[0m\n\u001b[1;32m      4\u001b[0m \u001b[0;32mfrom\u001b[0m \u001b[0mclassical_neuron\u001b[0m \u001b[0;32mimport\u001b[0m \u001b[0;34m*\u001b[0m\u001b[0;34m\u001b[0m\u001b[0;34m\u001b[0m\u001b[0m\n\u001b[1;32m      5\u001b[0m \u001b[0;32mfrom\u001b[0m \u001b[0mclassical_pso\u001b[0m \u001b[0;32mimport\u001b[0m \u001b[0;34m*\u001b[0m\u001b[0;34m\u001b[0m\u001b[0;34m\u001b[0m\u001b[0m\n",
      "\u001b[0;31mModuleNotFoundError\u001b[0m: No module named 'neuron'"
     ]
    }
   ],
   "source": [
    "from neuron import *\n",
    "from encodingsource import *\n",
    "from hsgs import *\n",
    "from classical_neuron import *\n",
    "from classical_pso import *\n",
    "from sf import *\n",
    "simulator = Aer.get_backend('qasm_simulator')\n",
    "import pandas as pd\n",
    "import numpy as np\n",
    "import matplotlib.pyplot as plt\n",
    "\n"
   ]
  },
  {
   "cell_type": "code",
   "execution_count": null,
   "metadata": {},
   "outputs": [],
   "source": [
    "inputVector = [-1,-1,1,1]#[1,1,1,1,1,1,1,1,1,1,1,1,1,1,1,1]#[1, 1, 1, 1, -1, 1, -1, 1, 1, 1, 1, 1, 1, 1, 1, 1]\n",
    "weightVector = [1,1,-1,1] #[-1,1,-1,-1,1,1,1,1,1,1,1,1,1,1,1,1]#[1, -1, 1, 1, -1, 1, 1, -1, -1, 1, 1, 1, 1, -1, 1, 1]\n",
    "\n",
    "inputVector = [-1, 1, 1, 1, -1, 1, 1, -1, 1, -1, -1, -1, 1, 1, -1, -1, -1, -1, -1, 1, -1, -1, -1, -1, -1, 1, -1, 1, -1, -1, -1, 1, 1, -1, -1, -1, -1, -1, -1, 1, -1, 1, 1, -1, -1, -1, 1, -1, 1, -1, -1, -1, -1, -1, 1, -1, 1, -1, 1, 1, -1, 1, 1, -1]\n",
    "weightVector = [-0.03216409993230598, -0.1520999574184498, 0.11549307734856797, 0.07819667776917735, -0.08683451299393112, 0.07428209202455867, -0.011628350965060036, -0.058852035623669065, 0.02091024109530386, 0.18422984345689053, -0.12001327917718091, -0.17281808213991004, 0.004445115622186578, 0.09949334308845695, 0.0644906589346581, 0.17559849756856852, -0.088707282935652, -0.017908127406289862, -0.1026406028784107, 0.1885141061843412, 0.04853405915763267, -0.1894412214705037, -0.18971428207273894, -0.16080045829897144, -0.14494276618814597, 0.16133137423246743, 0.032410503109816365, 0.1554236889112614, -0.18999964114222914, -0.02773208631445002, -0.1769047447607832, 0.07340800548043382, 0.04977970093090443, -0.18319674721020804, -0.1611156274775103, -0.08041675891466839, -0.10661038807499998, -0.15819257805946796, -0.07129341872229379, 0.17219959076743557, -0.012891323765141861, 0.13884392920174257, -0.03493177735039414, -0.16967932466594843, -0.1344533324680956, 0.07710909951302578, 0.16230727329009179, -0.11811109546183819, 0.05762967585657125, 0.15720292553372192, -0.16562784891930163, -0.07348394951216673, -0.1298264325738957, -0.06989954242058431, 0.1662649564426879, 0.15549686702988463, -0.1345078290406552, 0.07132344671653838, 0.13820247035438069, -0.06455638157173038, 0.1549689794465881, -0.18061152100490427, 0.021178877641755214, -0.15711833018132063]\n",
    "\n",
    "operator = \"encoding-input\"\n",
    "neuron = createNeuron( inputVector, weightVector, operator)\n",
    "resultadoEncoding = executeNeuron(neuron, simulator, threshold=None)\n",
    "print(\"encoding-input\", resultadoEncoding)   \n",
    "operator = \"encoding-weight\"\n",
    "neuron = createNeuron( inputVector, weightVector, operator)\n",
    "resultadoEncoding = executeNeuron(neuron, simulator, threshold=None)\n",
    "print(\"encoding-weight\", resultadoEncoding)   \n",
    "operator = \"hsgs\"\n",
    "neuron = createNeuron(inputVector, weightVector, operator)\n",
    "resultadoHSGS = executeNeuron(neuron, simulator, threshold=None)\n",
    "print(\"hsgs\", resultadoHSGS)\n",
    "\n",
    "resultadoClassico = runClassicalNeuronReturnProbability(inputVector, weightVector)\n",
    "print(\"classico\", resultadoClassico)  "
   ]
  }
 ],
 "metadata": {
  "kernelspec": {
   "display_name": "Python 3",
   "language": "python",
   "name": "python3"
  },
  "language_info": {
   "codemirror_mode": {
    "name": "ipython",
    "version": 3
   },
   "file_extension": ".py",
   "mimetype": "text/x-python",
   "name": "python",
   "nbconvert_exporter": "python",
   "pygments_lexer": "ipython3",
   "version": "3.7.3"
  }
 },
 "nbformat": 4,
 "nbformat_minor": 2
}
