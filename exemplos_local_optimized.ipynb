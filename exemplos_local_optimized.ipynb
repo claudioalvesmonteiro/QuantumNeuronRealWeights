{
 "cells": [
  {
   "cell_type": "code",
   "execution_count": null,
   "metadata": {},
   "outputs": [
    {
     "name": "stderr",
     "output_type": "stream",
     "text": [
      "/Users/gustavoisidio/miniconda3/envs/qiskit/lib/python3.6/site-packages/qiskit/__init__.py:67: DeprecationWarning: Using Qiskit with Python 3.6 is deprecated as of the 0.17.0 release. Support for running Qiskit with Python 3.6 will be removed in a future release.\n",
      "  \"future release.\", DeprecationWarning)\n"
     ]
    }
   ],
   "source": [
    "from encodingsource import InitializerUniformlyRotation\n",
    "from sf import sfGenerator\n",
    "from hsgs import hsgsGenerator\n",
    "import numpy as np\n",
    "import math\n",
    "import random\n",
    "from qiskit import execute, Aer, QuantumRegister, QuantumCircuit, ClassicalRegister\n",
    "from sympy.combinatorics.graycode import GrayCode\n",
    "# from qiskit.aqua.utils.controlled_circuit import apply_cu3\n",
    "from extrafunctions import *\n",
    "from neuron import *\n",
    "\n",
    "from qiskit import *\n",
    "from qiskit.visualization import plot_histogram\n",
    "from qiskit.tools.monitor import job_monitor\n",
    "\n",
    "np.random.seed(7)\n",
    "\n"
   ]
  },
  {
   "cell_type": "code",
   "execution_count": null,
   "metadata": {},
   "outputs": [],
   "source": [
    "from qiskit import IBMQ, Aer\n",
    "# IBMQ.delete_account()\n",
    "# IBMQ.save_account()\n",
    "IBMQ.load_account()\n",
    "# provider = IBMQ.load_account()\n",
    "# provider.backends()"
   ]
  },
  {
   "cell_type": "code",
   "execution_count": null,
   "metadata": {},
   "outputs": [],
   "source": [
    "from qiskit import IBMQ, Aer\n",
    "# IBMQ.get_provider(hub='ibm-q', group='open', project='main')\n",
    "provider = IBMQ.get_provider(hub='ibm-q', group='open', project='main')\n",
    "available_cloud_backends = provider.backends() \n",
    "print('\\nHere is the list of cloud backends that are available to you:')\n",
    "for i in available_cloud_backends: print(i)\n",
    "\n",
    "available_local_backends = Aer.backends() \n",
    "print('\\nHere is the list of local backends that are available to you: ')\n",
    "for i in available_local_backends: print(i)"
   ]
  },
  {
   "cell_type": "code",
   "execution_count": null,
   "metadata": {},
   "outputs": [],
   "source": [
    "# # Cloud\n",
    "# my_backend  = 'ibmq_athens'\n",
    "# simulator  = provider.get_backend(my_backend)"
   ]
  },
  {
   "cell_type": "code",
   "execution_count": null,
   "metadata": {},
   "outputs": [],
   "source": [
    "# Local\n",
    "simulator = Aer.get_backend('qasm_simulator')"
   ]
  },
  {
   "cell_type": "markdown",
   "metadata": {},
   "source": [
    "# Experimento muito simples"
   ]
  },
  {
   "cell_type": "markdown",
   "metadata": {},
   "source": [
    "saca como é simples o experimento...\n",
    "Experimento 1: HSGS\n",
    "peso sempre é esse: weightVector = [1, 1]\n",
    "entradas: [-1, -1], [1, -1], [1, 1]\n",
    "\n",
    "Experimento 2: HSGS\n",
    "peso sempre é esse: weightVector = [1, 1, 1, 1]\n",
    "entradas: [-1, -1, -1, -1], [1, -1, -1, -1], [1, 1, -1, -1], [1, 1, 1, -1], [1, 1, 1, 1]"
   ]
  },
  {
   "cell_type": "code",
   "execution_count": null,
   "metadata": {},
   "outputs": [],
   "source": [
    "def runNeuron(theInputVector, weightVector):\n",
    "    for i in range (len(theInputVector)):\n",
    "        neuron1 = createNeuron (inputVector=theInputVector[i],\n",
    "                                weightVector=weightVector,\n",
    "                                circuitGeneratorOfUOperator='hsgs',\n",
    "                                ancilla=False)\n",
    "\n",
    "        neuronout, counts = executeNeuron(neuron1,\n",
    "                             simulator=simulator,\n",
    "                             nshots=400,\n",
    "                             transpileFlag=True,\n",
    "                             optimization_level=3)\n",
    "        print(theInputVector[i], neuronout)\n",
    "        print(counts)\n",
    "        plot_histogram(counts)\n",
    "    "
   ]
  },
  {
   "cell_type": "markdown",
   "metadata": {},
   "source": [
    "## Experimento 1"
   ]
  },
  {
   "cell_type": "code",
   "execution_count": null,
   "metadata": {},
   "outputs": [],
   "source": [
    "theInputVector1 = [[-1, -1], [1, -1], [1, 1]]\n",
    "weightVector1=[1, 1]\n",
    "runNeuron(theInputVector=theInputVector1,\n",
    "          weightVector=weightVector1)"
   ]
  },
  {
   "cell_type": "markdown",
   "metadata": {},
   "source": [
    "## Experimento 2"
   ]
  },
  {
   "cell_type": "code",
   "execution_count": null,
   "metadata": {},
   "outputs": [],
   "source": [
    "theInputVector2 = [[-1, -1, -1, -1], [1, -1, -1, -1], [1, 1, -1, -1], [1, 1, 1, -1], [1, 1, 1, 1]]\n",
    "weightVector2=[1, 1, 1, 1]\n",
    "runNeuron(theInputVector=theInputVector2,\n",
    "          weightVector=weightVector2)"
   ]
  },
  {
   "cell_type": "code",
   "execution_count": null,
   "metadata": {},
   "outputs": [],
   "source": []
  }
 ],
 "metadata": {
  "kernelspec": {
   "display_name": "Python 3",
   "language": "python",
   "name": "python3"
  },
  "language_info": {
   "codemirror_mode": {
    "name": "ipython",
    "version": 3
   },
   "file_extension": ".py",
   "mimetype": "text/x-python",
   "name": "python",
   "nbconvert_exporter": "python",
   "pygments_lexer": "ipython3",
   "version": "3.6.13"
  }
 },
 "nbformat": 4,
 "nbformat_minor": 4
}
