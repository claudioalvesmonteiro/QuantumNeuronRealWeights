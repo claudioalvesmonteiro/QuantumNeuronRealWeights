{
 "cells": [
  {
   "cell_type": "code",
   "execution_count": 30,
   "metadata": {},
   "outputs": [],
   "source": [
    "import numpy as np\n",
    "from neuron import *\n",
    "from encodingsource import *\n",
    "from hsgs import *\n",
    "from classical_neuron import *\n",
    "from classical_pso import *\n",
    "from sf import *\n",
    "simulator = Aer.get_backend('qasm_simulator')\n",
    "import pandas as pd\n",
    "import numpy as np\n",
    "\n",
    "\n",
    "def normalize(v):\n",
    "    norm = np.linalg.norm(v)\n",
    "    return v / norm\n",
    "\n",
    "def returnProbability (inputVector, weightVector):\n",
    "    inputVector = normalize(inputVector)\n",
    "    weightVector = normalize(weightVector)\n",
    "    \n",
    "    innerProduct = np.inner(inputVector, weightVector)\n",
    "    prob = innerProduct**2\n",
    "    return prob\n",
    "\n",
    "def runNeuronReturnProbability (inputVector, weightVector):\n",
    "    inputVector = normalize(inputVector)\n",
    "    weightVector = normalize(weightVector)\n",
    "    \n",
    "    innerProduct = np.inner(inputVector, weightVector)\n",
    "    ampl1 = innerProduct#**2\n",
    "    ampl0 = math.sqrt(1-innerProduct**2)\n",
    "    \n",
    "    return abs(ampl1)"
   ]
  },
  {
   "cell_type": "code",
   "execution_count": 35,
   "metadata": {},
   "outputs": [
    {
     "data": {
      "text/plain": [
       "0.25244140625"
      ]
     },
     "execution_count": 35,
     "metadata": {},
     "output_type": "execute_result"
    }
   ],
   "source": [
    "inputVector = [-1,1,-1,-1]\n",
    "weightVector = [1,1,1,1]\n",
    "operator = \"hsgs\"\n",
    "\n",
    "neuron = createNeuron(inputVector, weightVector, operator)\n",
    "executeNeuron(neuron, simulator, 0.5)\n",
    "\n"
   ]
  },
  {
   "cell_type": "code",
   "execution_count": 36,
   "metadata": {},
   "outputs": [
    {
     "data": {
      "text/plain": [
       "0.25"
      ]
     },
     "execution_count": 36,
     "metadata": {},
     "output_type": "execute_result"
    }
   ],
   "source": [
    "returnProbability(inputVector, weightVector)"
   ]
  },
  {
   "cell_type": "code",
   "execution_count": 4,
   "metadata": {},
   "outputs": [
    {
     "data": {
      "text/html": [
       "<pre style=\"word-wrap: normal;white-space: pre;background: #fff0;line-height: 1.1;font-family: &quot;Courier New&quot;,Courier,monospace\">               ┌───┐┌───┐┌───┐                       ┌───┐»\n",
       " q_input_0: |0>┤ H ├┤ H ├┤ X ├───────────────────────┤ X ├»\n",
       "               ├───┤├───┤├───┤                       └─┬─┘»\n",
       " q_input_1: |0>┤ H ├┤ H ├┤ X ├───────────■─────────────■──»\n",
       "               └───┘└───┘└───┘           │                »\n",
       "q_target_0: |0>──────────────────────────┼────────────────»\n",
       "                              ┌──────────┴──────────┐     »\n",
       "q_output_0: |0>───────────────┤ U3(pi/2,-pi/2,pi/2) ├─────»\n",
       "                              └─────────────────────┘     »\n",
       " c_output_0: 0 ═══════════════════════════════════════════»\n",
       "                                                          »\n",
       "«                                    ┌───┐                          \n",
       "« q_input_0: ───────────■────────────┤ X ├───────────■──────────────\n",
       "«                       │            └─┬─┘           │              \n",
       "« q_input_1: ───────────┼──────────────■─────────────┼──────────────\n",
       "«                       │                            │              \n",
       "«q_target_0: ───────────┼────────────────────────────┼──────────────\n",
       "«            ┌──────────┴───────────┐     ┌──────────┴──────────┐┌─┐\n",
       "«q_output_0: ┤ U3(-pi/2,-pi/2,pi/2) ├─────┤ U3(pi/2,-pi/2,pi/2) ├┤M├\n",
       "«            └──────────────────────┘     └─────────────────────┘└╥┘\n",
       "«c_output_0: ═════════════════════════════════════════════════════╩═\n",
       "«                                                                   </pre>"
      ],
      "text/plain": [
       "<qiskit.visualization.text.TextDrawing at 0x10bd83e80>"
      ]
     },
     "execution_count": 4,
     "metadata": {},
     "output_type": "execute_result"
    }
   ],
   "source": [
    "neuron.draw()"
   ]
  },
  {
   "cell_type": "code",
   "execution_count": 21,
   "metadata": {},
   "outputs": [
    {
     "data": {
      "image/png": "[encoded data removed]",
      "text/plain": [
       "<Figure size 504x360 with 1 Axes>"
      ]
     },
     "execution_count": 21,
     "metadata": {},
     "output_type": "execute_result"
    }
   ],
   "source": [
    "from qiskit.tools.visualization import plot_histogram, plot_state_city\n",
    "\n",
    "simulator = Aer.get_backend('qasm_simulator')\n",
    "\n",
    "# Circuit execution\n",
    "#job = execute(neuron, simulator)\n",
    "inputVector = [1,-1,1,1]\n",
    "weightVector = [1,1,1,1]\n",
    "operator = \"hsgs\"\n",
    "\n",
    "neuron = createNeuron(inputVector, weightVector, operator)\n",
    "neuron.draw()\n",
    "result = execute(neuron, simulator).result()\n",
    "counts = result.get_counts(neuron)\n",
    "plot_histogram(counts, title='Bell-State counts')"
   ]
  },
  {
   "cell_type": "code",
   "execution_count": 26,
   "metadata": {},
   "outputs": [
    {
     "name": "stdout",
     "output_type": "stream",
     "text": [
      "[1, 3]\n"
     ]
    },
    {
     "data": {
      "text/plain": [
       "array([0.31622777, 0.9486833 ])"
      ]
     },
     "execution_count": 26,
     "metadata": {},
     "output_type": "execute_result"
    }
   ],
   "source": [
    "v= [-1,1]\n",
    "v = [i+2 for i in v]\n",
    "print(v)\n",
    "normalize(v)"
   ]
  },
  {
   "cell_type": "code",
   "execution_count": null,
   "metadata": {},
   "outputs": [],
   "source": []
  }
 ],
 "metadata": {
  "kernelspec": {
   "display_name": "Python 3",
   "language": "python",
   "name": "python3"
  },
  "language_info": {
   "codemirror_mode": {
    "name": "ipython",
    "version": 3
   },
   "file_extension": ".py",
   "mimetype": "text/x-python",
   "name": "python",
   "nbconvert_exporter": "python",
   "pygments_lexer": "ipython3",
   "version": "3.7.3"
  }
 },
 "nbformat": 4,
 "nbformat_minor": 2
}
