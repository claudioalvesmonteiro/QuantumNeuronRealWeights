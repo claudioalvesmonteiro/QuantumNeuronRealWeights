{
 "cells": [
  {
   "cell_type": "code",
   "execution_count": 1,
   "metadata": {},
   "outputs": [
    {
     "name": "stderr",
     "output_type": "stream",
     "text": [
      "/opt/conda/lib/python3.7/site-packages/qiskit/aqua/__init__.py:86: DeprecationWarning: The package qiskit.aqua is deprecated. It was moved/refactored to qiskit-terra For more information see <https://github.com/Qiskit/qiskit-aqua/blob/main/README.md#migration-guide>\n",
      "  warn_package('aqua', 'qiskit-terra')\n"
     ]
    }
   ],
   "source": [
    "from neuron import *\n",
    "from encodingsource import *\n",
    "from hsgs import *\n",
    "from classical_neuron import *\n",
    "from classical_pso import *\n",
    "from sf import *\n",
    "simulator = Aer.get_backend('qasm_simulator')\n",
    "import pandas as pd\n",
    "import numpy as np\n",
    "import matplotlib.pyplot as plt\n",
    "import json\n",
    "\n",
    "from experiment_functions import *"
   ]
  },
  {
   "cell_type": "markdown",
   "metadata": {},
   "source": [
    "### Encoding XOR Experiment"
   ]
  },
  {
   "cell_type": "code",
   "execution_count": 2,
   "metadata": {},
   "outputs": [],
   "source": [
    "with open('data/train_nonlinear.json') as json_file:\n",
    "    X_train = json.load(json_file)[0]\n",
    "\n",
    "with open('data/train_nonlinear.json') as json_file:\n",
    "    y_train = json.load(json_file)[1]\n",
    "    \n",
    "with open('data/test_nonlinear.json') as json_file:\n",
    "    X_test = json.load(json_file)[0]\n",
    "\n",
    "with open('data/test_nonlinear.json') as json_file:\n",
    "    y_test = json.load(json_file)[1]"
   ]
  },
  {
   "cell_type": "code",
   "execution_count": 3,
   "metadata": {},
   "outputs": [],
   "source": [
    "def float_to_binary(list_, m, n):\n",
    "    \"\"\"Convert the float value `x` to a binary string of length `m + n`\n",
    "    where the first `m` binary digits are the integer part and the last\n",
    "    'n' binary digits are the fractional part of `x`.\n",
    "    \"\"\"\n",
    "    list_scaled = []\n",
    "    for number in list_:\n",
    "        x_scaled = round(number * 2 ** n)\n",
    "        x_scaled = '{:0{}b}'.format(x_scaled, m + n)\n",
    "        for i in x_scaled:\n",
    "            if i == '0':\n",
    "                list_scaled.append(-1)\n",
    "            else:\n",
    "                list_scaled.append(1)\n",
    "    return list_scaled"
   ]
  },
  {
   "cell_type": "code",
   "execution_count": 4,
   "metadata": {},
   "outputs": [],
   "source": [
    "X_test_bin = []\n",
    "for i in X_test:\n",
    "    X_test_bin.append(float_to_binary(i, 1, 3))"
   ]
  },
  {
   "cell_type": "code",
   "execution_count": 5,
   "metadata": {},
   "outputs": [],
   "source": [
    "X_train_bin = []\n",
    "for i in X_train:\n",
    "    X_train_bin.append(float_to_binary(i, 1, 3))"
   ]
  },
  {
   "cell_type": "code",
   "execution_count": 6,
   "metadata": {},
   "outputs": [],
   "source": [
    "output = {'model':[],\n",
    "          #'phase_strategy':[],\n",
    "            'bias':[],\n",
    "            'threshold':[],\n",
    "            'lr':[],\n",
    "            'avg_error':[],\n",
    "            'trained_weights':[],\n",
    "            #'initial_weights':[],\n",
    "            'neuron_outputs':[]}"
   ]
  },
  {
   "cell_type": "code",
   "execution_count": 7,
   "metadata": {},
   "outputs": [],
   "source": [
    "# search space\n",
    "initial_weights =  list(np.random.uniform(low=0.0, high=1.0, size=(len(X_train_bin[0]),)))\n",
    "threshold_space = [0.1, 0.7, 0.3, 0.5, 0.8] #0.1, 0.7\n",
    "lr_space = [0.02, 0.1]\n",
    "bias_space = [False, True]"
   ]
  },
  {
   "cell_type": "code",
   "execution_count": 10,
   "metadata": {},
   "outputs": [
    {
     "name": "stdout",
     "output_type": "stream",
     "text": [
      "erros [1, 1, 1, 1, 1, 1, 1, 1, 1, 1, 1, 1, 1] [0, 0, 0, 1, 1, 0, 0, 1, 0, 0, 0, 1, 0]\n",
      "erros [1, 1, 1, 1, 1, 1, 1, 1, 1, 1, 1, 1, 1] [1, 1, 1, 1, 1, 1, 1, 1, 1, 1, 1, 1, 1]\n",
      "ERROS ENCODING     [0.5714, 0.4286, 0.5714, 0.4286, 0.5714] 0.5142800000000001\n",
      "\n",
      "\n",
      "erros [1, 1, 1, 1, 1, 1, 1, 1, 1, 1, 1, 1, 1] [0, 0, 0, 0, 0, 0, 0, 0, 0, 0, 0, 0, 0]\n",
      "erros [1, 1, 1, 1, 1, 1, 1, 1, 1, 1, 1, 1, 1] [1, 1, 1, 1, 1, 1, 1, 1, 1, 1, 1, 1, 1]\n",
      "ERROS ENCODING     [0.2857, 0.2857, 0.2857, 0.2857, 0.2857] 0.2857\n",
      "\n",
      "\n",
      "erros [1, 1, 1, 1, 1, 1, 1, 1, 1, 1, 1, 1, 1] [0, 0, 0, 1, 1, 0, 0, 1, 0, 1, 0, 1, 1]\n",
      "erros [1, 1, 1, 1, 1, 1, 1, 1, 1, 1, 1, 1, 1] [1, 1, 1, 1, 1, 1, 1, 1, 1, 1, 1, 1, 1]\n",
      "ERROS ENCODING     [0.5714, 0.5714, 0.5714, 0.5714, 0.5714] 0.5714\n",
      "\n",
      "\n",
      "erros [1, 1, 1, 1, 1, 1, 1, 1, 1, 1, 1, 1, 1] [0, 0, 0, 0, 0, 0, 0, 0, 0, 0, 0, 0, 0]\n",
      "erros [1, 1, 1, 1, 1, 1, 1, 1, 1, 1, 1, 1, 1] [1, 1, 1, 1, 1, 1, 1, 1, 1, 1, 1, 1, 1]\n",
      "ERROS ENCODING     [0.4286, 0.2857, 0.2857, 0.4286, 0.4286] 0.37143999999999994\n",
      "\n",
      "\n",
      "erros [1, 1, 1, 1, 1, 1, 1, 1, 1, 1, 1, 1, 1] [1, 1, 1, 1, 1, 1, 1, 1, 1, 1, 1, 1, 1]\n",
      "erros [1, 1, 1, 1, 1, 1, 1, 1, 1, 1, 1, 1, 1] [1, 1, 1, 1, 1, 1, 1, 1, 1, 1, 1, 1, 1]\n",
      "ERROS ENCODING     [0.4286, 0.4286, 0.4286, 0.4286, 0.4286] 0.4286\n",
      "\n",
      "\n",
      "erros [1, 1, 1, 1, 1, 1, 1, 1, 1, 1, 1, 1, 1] [1, 1, 1, 1, 1, 1, 1, 1, 1, 1, 1, 1, 1]\n",
      "erros [1, 1, 1, 1, 1, 1, 1, 1, 1, 1, 1, 1, 1] [1, 1, 1, 1, 1, 1, 1, 1, 1, 1, 1, 1, 1]\n",
      "ERROS ENCODING     [0.4286, 0.4286, 0.4286, 0.4286, 0.4286] 0.4286\n",
      "\n",
      "\n",
      "erros [1, 1, 1, 1, 1, 1, 1, 1, 1, 1, 1, 1, 1] [1, 1, 1, 1, 1, 1, 1, 1, 1, 1, 1, 1, 1]\n",
      "erros [1, 1, 1, 1, 1, 1, 1, 1, 1, 1, 1, 1, 1] [1, 1, 1, 1, 1, 1, 1, 1, 1, 1, 1, 1, 1]\n",
      "ERROS ENCODING     [0.4286, 0.4286, 0.4286, 0.4286, 0.4286] 0.4286\n",
      "\n",
      "\n",
      "erros [1, 1, 1, 1, 1, 1, 1, 1, 1, 1, 1, 1, 1] [1, 1, 1, 1, 1, 1, 1, 1, 1, 1, 1, 1, 1]\n",
      "erros [1, 1, 1, 1, 1, 1, 1, 1, 1, 1, 1, 1, 1] [1, 1, 1, 1, 1, 1, 1, 1, 1, 1, 1, 1, 1]\n",
      "ERROS ENCODING     [0.4286, 0.4286, 0.4286, 0.4286, 0.4286] 0.4286\n",
      "\n",
      "\n",
      "erros [1, 1, 1, 1, 1, 1, 1, 1, 1, 1, 1, 1, 1] [1, 1, 1, 1, 1, 1, 1, 1, 1, 1, 1, 1, 1]\n",
      "erros [1, 1, 1, 1, 1, 1, 1, 1, 1, 1, 1, 1, 1] [1, 1, 1, 1, 1, 1, 1, 1, 1, 1, 1, 1, 1]\n",
      "ERROS ENCODING     [0.4286, 0.4286, 0.4286, 0.4286, 0.4286] 0.4286\n",
      "\n",
      "\n",
      "erros [1, 1, 1, 1, 1, 1, 1, 1, 1, 1, 1, 1, 1] [0, 0, 0, 0, 0, 0, 0, 0, 0, 0, 0, 0, 0]\n",
      "erros [1, 1, 1, 1, 1, 1, 1, 1, 1, 1, 1, 1, 1] [1, 1, 1, 1, 1, 1, 1, 1, 1, 1, 1, 1, 1]\n",
      "ERROS ENCODING     [0.4286, 0.4286, 0.4286, 0.4286, 0.4286] 0.4286\n",
      "\n",
      "\n",
      "erros [1, 1, 1, 1, 1, 1, 1, 1, 1, 1, 1, 1, 1] [1, 1, 1, 1, 1, 1, 1, 1, 1, 1, 1, 1, 1]\n",
      "erros [1, 1, 1, 1, 1, 1, 1, 1, 1, 1, 1, 1, 1] [1, 1, 1, 1, 1, 1, 1, 1, 1, 1, 1, 1, 1]\n",
      "ERROS ENCODING     [0.4286, 0.4286, 0.4286, 0.4286, 0.4286] 0.4286\n",
      "\n",
      "\n",
      "erros [1, 1, 1, 1, 1, 1, 1, 1, 1, 1, 1, 1, 1] [0, 0, 0, 0, 0, 0, 0, 0, 0, 0, 0, 0, 0]\n",
      "erros [1, 1, 1, 1, 1, 1, 1, 1, 1, 1, 1, 1, 1] [1, 1, 1, 1, 1, 1, 1, 1, 1, 1, 1, 1, 1]\n",
      "ERROS ENCODING     [0.4286, 0.4286, 0.4286, 0.4286, 0.4286] 0.4286\n",
      "\n",
      "\n",
      "erros [1, 1, 1, 1, 1, 1, 1, 1, 1, 1, 1, 1, 1] [1, 1, 1, 1, 1, 1, 1, 1, 1, 1, 1, 1, 1]\n",
      "erros [1, 1, 1, 1, 1, 1, 1, 1, 1, 1, 1, 1, 1] [1, 1, 1, 1, 1, 1, 1, 1, 1, 1, 1, 1, 1]\n",
      "ERROS ENCODING     [0.4286, 0.4286, 0.4286, 0.4286, 0.4286] 0.4286\n",
      "\n",
      "\n",
      "erros [1, 1, 1, 1, 1, 1, 1, 1, 1, 1, 1, 1, 1] [0, 0, 0, 0, 0, 0, 0, 0, 0, 0, 0, 0, 0]\n",
      "erros [1, 1, 1, 1, 1, 1, 1, 1, 1, 1, 1, 1, 1] [1, 1, 1, 1, 1, 1, 1, 1, 1, 1, 1, 1, 1]\n",
      "ERROS ENCODING     [0.2857, 0.2857, 0.2857, 0.2857, 0.2857] 0.2857\n",
      "\n",
      "\n",
      "erros [1, 1, 1, 1, 1, 1, 1, 1, 1, 1, 1, 1, 1] [1, 1, 1, 1, 1, 1, 1, 1, 1, 1, 1, 1, 1]\n",
      "erros [1, 1, 1, 1, 1, 1, 1, 1, 1, 1, 1, 1, 1] [1, 1, 1, 1, 1, 1, 1, 1, 1, 1, 1, 1, 1]\n",
      "ERROS ENCODING     [0.4286, 0.4286, 0.4286, 0.4286, 0.4286] 0.4286\n",
      "\n",
      "\n",
      "erros [1, 1, 1, 1, 1, 1, 1, 1, 1, 1, 1, 1, 1] [0, 0, 0, 0, 1, 0, 0, 1, 0, 1, 0, 1, 1]\n",
      "erros [1, 1, 1, 1, 1, 1, 1, 1, 1, 1, 1, 1, 1] [1, 1, 1, 1, 1, 1, 1, 1, 1, 1, 1, 1, 1]\n",
      "ERROS ENCODING     [0.4286, 0.4286, 0.4286, 0.4286, 0.4286] 0.4286\n",
      "\n",
      "\n",
      "erros [1, 1, 1, 1, 1, 1, 1, 1, 1, 1, 1, 1, 1] [1, 1, 1, 1, 1, 1, 1, 1, 1, 1, 1, 1, 1]\n",
      "erros [1, 1, 1, 1, 1, 1, 1, 1, 1, 1, 1, 1, 1] [1, 1, 1, 1, 1, 1, 1, 1, 1, 1, 1, 1, 1]\n",
      "ERROS ENCODING     [0.4286, 0.4286, 0.4286, 0.4286, 0.4286] 0.4286\n",
      "\n",
      "\n",
      "erros [1, 1, 1, 1, 1, 1, 1, 1, 1, 1, 1, 1, 1] [1, 1, 1, 1, 1, 1, 1, 1, 1, 1, 1, 1, 1]\n",
      "erros [1, 1, 1, 1, 1, 1, 1, 1, 1, 1, 1, 1, 1] [1, 1, 1, 1, 1, 1, 1, 1, 1, 1, 1, 1, 1]\n",
      "ERROS ENCODING     [0.4286, 0.4286, 0.4286, 0.4286, 0.4286] 0.4286\n",
      "\n",
      "\n",
      "erros [1, 1, 1, 1, 1, 1, 1, 1, 1, 1, 1, 1, 1] [1, 1, 1, 1, 1, 1, 1, 1, 1, 1, 1, 1, 1]\n",
      "erros [1, 1, 1, 1, 1, 1, 1, 1, 1, 1, 1, 1, 1] [1, 1, 1, 1, 1, 1, 1, 1, 1, 1, 1, 1, 1]\n",
      "ERROS ENCODING     [0.4286, 0.4286, 0.4286, 0.4286, 0.4286] 0.4286\n",
      "\n",
      "\n",
      "erros [1, 1, 1, 1, 1, 1, 1, 1, 1, 1, 1, 1, 1] [1, 1, 1, 1, 1, 1, 1, 1, 1, 1, 1, 1, 1]\n",
      "erros [1, 1, 1, 1, 1, 1, 1, 1, 1, 1, 1, 1, 1] [1, 1, 1, 1, 1, 1, 1, 1, 1, 1, 1, 1, 1]\n",
      "ERROS ENCODING     [0.4286, 0.4286, 0.4286, 0.4286, 0.4286] 0.4286\n",
      "\n",
      "\n",
      "CPU times: user 4h 5min 54s, sys: 2min 41s, total: 4h 8min 36s\n",
      "Wall time: 4h 4min 5s\n"
     ]
    }
   ],
   "source": [
    "%%time\n",
    "for threshold in threshold_space:\n",
    "    for lr in lr_space:\n",
    "        for bias in bias_space:\n",
    "            # execute experiment\n",
    "            weights = experiment_TRAIN(X_train_bin, \n",
    "                                       y_train,\n",
    "                                       lrParameter=lr, \n",
    "                                       threshold=threshold,\n",
    "                                       n_epochs=20, \n",
    "                                       trainingBias=bias,\n",
    "                                       trainingApproaches={'encoding-weight'})\n",
    "\n",
    "\n",
    "            results = experiment_TEST(X_test_bin, \n",
    "                                      y_test, \n",
    "                                      threshold=threshold,\n",
    "                                      weightVectorsEncoding = weights[0], \n",
    "                                      repeat=5,\n",
    "                                      bias=bias,\n",
    "                                      testingApproaches={'encoding-weight'})\n",
    "\n",
    "\n",
    "            output['model'].append('Encoding')\n",
    "            output['lr'].append(lr)\n",
    "            output['bias'].append(bias)\n",
    "            output['threshold'].append(threshold)\n",
    "            output['avg_error'].append(results['error_encoding'])\n",
    "            output['neuron_outputs'].append(results['outputsEncoding'])\n",
    "            output['trained_weights'].append(results['weights_learned_encoding'])\n",
    "            #output['initial_weights'].append(initial_weights)\n",
    "            print('\\n')"
   ]
  },
  {
   "cell_type": "code",
   "execution_count": 13,
   "metadata": {},
   "outputs": [],
   "source": [
    "pd.DataFrame(output).to_csv('testesout/outputs/nonlinear/encoding_nonlinear_binarized.csv')"
   ]
  }
 ],
 "metadata": {
  "environment": {
   "name": "common-cpu.m76",
   "type": "gcloud",
   "uri": "gcr.io/deeplearning-platform-release/base-cpu:m76"
  },
  "kernelspec": {
   "display_name": "Python 3",
   "language": "python",
   "name": "python3"
  },
  "language_info": {
   "codemirror_mode": {
    "name": "ipython",
    "version": 3
   },
   "file_extension": ".py",
   "mimetype": "text/x-python",
   "name": "python",
   "nbconvert_exporter": "python",
   "pygments_lexer": "ipython3",
   "version": "3.7.10"
  }
 },
 "nbformat": 4,
 "nbformat_minor": 4
}
