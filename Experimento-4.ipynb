{
 "cells": [
  {
   "cell_type": "code",
   "execution_count": 34,
   "metadata": {
    "scrolled": true
   },
   "outputs": [
    {
     "name": "stderr",
     "output_type": "stream",
     "text": [
      "ibmqfactory.load_account:WARNING:2020-10-21 22:25:37,924: Credentials are already in use. The existing account in the session will be replaced.\n"
     ]
    },
    {
     "data": {
      "text/plain": [
       "<AccountProvider for IBMQ(hub='ibm-q', group='open', project='main')>"
      ]
     },
     "execution_count": 34,
     "metadata": {},
     "output_type": "execute_result"
    }
   ],
   "source": [
    "from neuron import *\n",
    "from encodingsource import *\n",
    "from hsgs import *\n",
    "from classical_neuron import *\n",
    "from classical_pso import *\n",
    "from sf import *\n",
    "import pandas as pd\n",
    "import numpy as np\n",
    "import matplotlib.pyplot as plt\n",
    "from qiskit import *\n",
    "import random\n",
    "import matplotlib\n",
    "import matplotlib.pyplot as plt\n",
    "import numpy as np\n",
    "\n",
    "\n",
    "from qiskit import IBMQ\n",
    "# IBMQ.delete_account()\n",
    "# IBMQ.save_account('')\n",
    "IBMQ.load_account()\n",
    "# my_provider.backends()\n"
   ]
  },
  {
   "cell_type": "code",
   "execution_count": 35,
   "metadata": {},
   "outputs": [],
   "source": [
    "allcombinations_input_weight = [([1, 1, 1, 1], [1, 1, 1, 1]),\n",
    " ([1, 1, 1, 1], [1, 1, 1, -1]),\n",
    " ([1, 1, 1, 1], [1, 1, -1, 1]),\n",
    " ([1, 1, 1, 1], [1, 1, -1, -1]),\n",
    " ([1, 1, 1, 1], [1, -1, 1, 1]),\n",
    " ([1, 1, 1, 1], [1, -1, 1, -1]),\n",
    " ([1, 1, 1, 1], [1, -1, -1, 1]),\n",
    " ([1, 1, 1, 1], [1, -1, -1, -1]),\n",
    " ([1, 1, 1, 1], [-1, 1, 1, 1]),\n",
    " ([1, 1, 1, 1], [-1, 1, 1, -1]),\n",
    " ([1, 1, 1, 1], [-1, 1, -1, 1]),\n",
    " ([1, 1, 1, 1], [-1, 1, -1, -1]),\n",
    " ([1, 1, 1, 1], [-1, -1, 1, 1]),\n",
    " ([1, 1, 1, 1], [-1, -1, 1, -1]),\n",
    " ([1, 1, 1, 1], [-1, -1, -1, 1]),\n",
    " ([1, 1, 1, 1], [-1, -1, -1, -1]),\n",
    " ([1, 1, 1, -1], [1, 1, 1, 1]),\n",
    " ([1, 1, 1, -1], [1, 1, 1, -1]),\n",
    " ([1, 1, 1, -1], [1, 1, -1, 1]),\n",
    " ([1, 1, 1, -1], [1, 1, -1, -1]),\n",
    " ([1, 1, 1, -1], [1, -1, 1, 1]),\n",
    " ([1, 1, 1, -1], [1, -1, 1, -1]),\n",
    " ([1, 1, 1, -1], [1, -1, -1, 1]),\n",
    " ([1, 1, 1, -1], [1, -1, -1, -1]),\n",
    " ([1, 1, 1, -1], [-1, 1, 1, 1]),\n",
    " ([1, 1, 1, -1], [-1, 1, 1, -1]),\n",
    " ([1, 1, 1, -1], [-1, 1, -1, 1]),\n",
    " ([1, 1, 1, -1], [-1, 1, -1, -1]),\n",
    " ([1, 1, 1, -1], [-1, -1, 1, 1]),\n",
    " ([1, 1, 1, -1], [-1, -1, 1, -1]),\n",
    " ([1, 1, 1, -1], [-1, -1, -1, 1]),\n",
    " ([1, 1, 1, -1], [-1, -1, -1, -1]),\n",
    " ([1, 1, -1, 1], [1, 1, 1, 1]),\n",
    " ([1, 1, -1, 1], [1, 1, 1, -1]),\n",
    " ([1, 1, -1, 1], [1, 1, -1, 1]),\n",
    " ([1, 1, -1, 1], [1, 1, -1, -1]),\n",
    " ([1, 1, -1, 1], [1, -1, 1, 1]),\n",
    " ([1, 1, -1, 1], [1, -1, 1, -1]),\n",
    " ([1, 1, -1, 1], [1, -1, -1, 1]),\n",
    " ([1, 1, -1, 1], [1, -1, -1, -1]),\n",
    " ([1, 1, -1, 1], [-1, 1, 1, 1]),\n",
    " ([1, 1, -1, 1], [-1, 1, 1, -1]),\n",
    " ([1, 1, -1, 1], [-1, 1, -1, 1]),\n",
    " ([1, 1, -1, 1], [-1, 1, -1, -1]),\n",
    " ([1, 1, -1, 1], [-1, -1, 1, 1]),\n",
    " ([1, 1, -1, 1], [-1, -1, 1, -1]),\n",
    " ([1, 1, -1, 1], [-1, -1, -1, 1]),\n",
    " ([1, 1, -1, 1], [-1, -1, -1, -1]),\n",
    " ([1, 1, -1, -1], [1, 1, 1, 1]),\n",
    " ([1, 1, -1, -1], [1, 1, 1, -1]),\n",
    " ([1, 1, -1, -1], [1, 1, -1, 1]),\n",
    " ([1, 1, -1, -1], [1, 1, -1, -1]),\n",
    " ([1, 1, -1, -1], [1, -1, 1, 1]),\n",
    " ([1, 1, -1, -1], [1, -1, 1, -1]),\n",
    " ([1, 1, -1, -1], [1, -1, -1, 1]),\n",
    " ([1, 1, -1, -1], [1, -1, -1, -1]),\n",
    " ([1, 1, -1, -1], [-1, 1, 1, 1]),\n",
    " ([1, 1, -1, -1], [-1, 1, 1, -1]),\n",
    " ([1, 1, -1, -1], [-1, 1, -1, 1]),\n",
    " ([1, 1, -1, -1], [-1, 1, -1, -1]),\n",
    " ([1, 1, -1, -1], [-1, -1, 1, 1]),\n",
    " ([1, 1, -1, -1], [-1, -1, 1, -1]),\n",
    " ([1, 1, -1, -1], [-1, -1, -1, 1]),\n",
    " ([1, 1, -1, -1], [-1, -1, -1, -1]),\n",
    " ([1, -1, 1, 1], [1, 1, 1, 1]),\n",
    " ([1, -1, 1, 1], [1, 1, 1, -1]),\n",
    " ([1, -1, 1, 1], [1, 1, -1, 1]),\n",
    " ([1, -1, 1, 1], [1, 1, -1, -1]),\n",
    " ([1, -1, 1, 1], [1, -1, 1, 1]),\n",
    " ([1, -1, 1, 1], [1, -1, 1, -1]),\n",
    " ([1, -1, 1, 1], [1, -1, -1, 1]),\n",
    " ([1, -1, 1, 1], [1, -1, -1, -1]),\n",
    " ([1, -1, 1, 1], [-1, 1, 1, 1]),\n",
    " ([1, -1, 1, 1], [-1, 1, 1, -1]),\n",
    " ([1, -1, 1, 1], [-1, 1, -1, 1]),\n",
    " ([1, -1, 1, 1], [-1, 1, -1, -1]),\n",
    " ([1, -1, 1, 1], [-1, -1, 1, 1]),\n",
    " ([1, -1, 1, 1], [-1, -1, 1, -1]),\n",
    " ([1, -1, 1, 1], [-1, -1, -1, 1]),\n",
    " ([1, -1, 1, 1], [-1, -1, -1, -1]),\n",
    " ([1, -1, 1, -1], [1, 1, 1, 1]),\n",
    " ([1, -1, 1, -1], [1, 1, 1, -1]),\n",
    " ([1, -1, 1, -1], [1, 1, -1, 1]),\n",
    " ([1, -1, 1, -1], [1, 1, -1, -1]),\n",
    " ([1, -1, 1, -1], [1, -1, 1, 1]),\n",
    " ([1, -1, 1, -1], [1, -1, 1, -1]),\n",
    " ([1, -1, 1, -1], [1, -1, -1, 1]),\n",
    " ([1, -1, 1, -1], [1, -1, -1, -1]),\n",
    " ([1, -1, 1, -1], [-1, 1, 1, 1]),\n",
    " ([1, -1, 1, -1], [-1, 1, 1, -1]),\n",
    " ([1, -1, 1, -1], [-1, 1, -1, 1]),\n",
    " ([1, -1, 1, -1], [-1, 1, -1, -1]),\n",
    " ([1, -1, 1, -1], [-1, -1, 1, 1]),\n",
    " ([1, -1, 1, -1], [-1, -1, 1, -1]),\n",
    " ([1, -1, 1, -1], [-1, -1, -1, 1]),\n",
    " ([1, -1, 1, -1], [-1, -1, -1, -1]),\n",
    " ([1, -1, -1, 1], [1, 1, 1, 1]),\n",
    " ([1, -1, -1, 1], [1, 1, 1, -1]),\n",
    " ([1, -1, -1, 1], [1, 1, -1, 1]),\n",
    " ([1, -1, -1, 1], [1, 1, -1, -1]),\n",
    " ([1, -1, -1, 1], [1, -1, 1, 1]),\n",
    " ([1, -1, -1, 1], [1, -1, 1, -1]),\n",
    " ([1, -1, -1, 1], [1, -1, -1, 1]),\n",
    " ([1, -1, -1, 1], [1, -1, -1, -1]),\n",
    " ([1, -1, -1, 1], [-1, 1, 1, 1]),\n",
    " ([1, -1, -1, 1], [-1, 1, 1, -1]),\n",
    " ([1, -1, -1, 1], [-1, 1, -1, 1]),\n",
    " ([1, -1, -1, 1], [-1, 1, -1, -1]),\n",
    " ([1, -1, -1, 1], [-1, -1, 1, 1]),\n",
    " ([1, -1, -1, 1], [-1, -1, 1, -1]),\n",
    " ([1, -1, -1, 1], [-1, -1, -1, 1]),\n",
    " ([1, -1, -1, 1], [-1, -1, -1, -1]),\n",
    " ([1, -1, -1, -1], [1, 1, 1, 1]),\n",
    " ([1, -1, -1, -1], [1, 1, 1, -1]),\n",
    " ([1, -1, -1, -1], [1, 1, -1, 1]),\n",
    " ([1, -1, -1, -1], [1, 1, -1, -1]),\n",
    " ([1, -1, -1, -1], [1, -1, 1, 1]),\n",
    " ([1, -1, -1, -1], [1, -1, 1, -1]),\n",
    " ([1, -1, -1, -1], [1, -1, -1, 1]),\n",
    " ([1, -1, -1, -1], [1, -1, -1, -1]),\n",
    " ([1, -1, -1, -1], [-1, 1, 1, 1]),\n",
    " ([1, -1, -1, -1], [-1, 1, 1, -1]),\n",
    " ([1, -1, -1, -1], [-1, 1, -1, 1]),\n",
    " ([1, -1, -1, -1], [-1, 1, -1, -1]),\n",
    " ([1, -1, -1, -1], [-1, -1, 1, 1]),\n",
    " ([1, -1, -1, -1], [-1, -1, 1, -1]),\n",
    " ([1, -1, -1, -1], [-1, -1, -1, 1]),\n",
    " ([1, -1, -1, -1], [-1, -1, -1, -1]),\n",
    " ([-1, 1, 1, 1], [1, 1, 1, 1]),\n",
    " ([-1, 1, 1, 1], [1, 1, 1, -1]),\n",
    " ([-1, 1, 1, 1], [1, 1, -1, 1]),\n",
    " ([-1, 1, 1, 1], [1, 1, -1, -1]),\n",
    " ([-1, 1, 1, 1], [1, -1, 1, 1]),\n",
    " ([-1, 1, 1, 1], [1, -1, 1, -1]),\n",
    " ([-1, 1, 1, 1], [1, -1, -1, 1]),\n",
    " ([-1, 1, 1, 1], [1, -1, -1, -1]),\n",
    " ([-1, 1, 1, 1], [-1, 1, 1, 1]),\n",
    " ([-1, 1, 1, 1], [-1, 1, 1, -1]),\n",
    " ([-1, 1, 1, 1], [-1, 1, -1, 1]),\n",
    " ([-1, 1, 1, 1], [-1, 1, -1, -1]),\n",
    " ([-1, 1, 1, 1], [-1, -1, 1, 1]),\n",
    " ([-1, 1, 1, 1], [-1, -1, 1, -1]),\n",
    " ([-1, 1, 1, 1], [-1, -1, -1, 1]),\n",
    " ([-1, 1, 1, 1], [-1, -1, -1, -1]),\n",
    " ([-1, 1, 1, -1], [1, 1, 1, 1]),\n",
    " ([-1, 1, 1, -1], [1, 1, 1, -1]),\n",
    " ([-1, 1, 1, -1], [1, 1, -1, 1]),\n",
    " ([-1, 1, 1, -1], [1, 1, -1, -1]),\n",
    " ([-1, 1, 1, -1], [1, -1, 1, 1]),\n",
    " ([-1, 1, 1, -1], [1, -1, 1, -1]),\n",
    " ([-1, 1, 1, -1], [1, -1, -1, 1]),\n",
    " ([-1, 1, 1, -1], [1, -1, -1, -1]),\n",
    " ([-1, 1, 1, -1], [-1, 1, 1, 1]),\n",
    " ([-1, 1, 1, -1], [-1, 1, 1, -1]),\n",
    " ([-1, 1, 1, -1], [-1, 1, -1, 1]),\n",
    " ([-1, 1, 1, -1], [-1, 1, -1, -1]),\n",
    " ([-1, 1, 1, -1], [-1, -1, 1, 1]),\n",
    " ([-1, 1, 1, -1], [-1, -1, 1, -1]),\n",
    " ([-1, 1, 1, -1], [-1, -1, -1, 1]),\n",
    " ([-1, 1, 1, -1], [-1, -1, -1, -1]),\n",
    " ([-1, 1, -1, 1], [1, 1, 1, 1]),\n",
    " ([-1, 1, -1, 1], [1, 1, 1, -1]),\n",
    " ([-1, 1, -1, 1], [1, 1, -1, 1]),\n",
    " ([-1, 1, -1, 1], [1, 1, -1, -1]),\n",
    " ([-1, 1, -1, 1], [1, -1, 1, 1]),\n",
    " ([-1, 1, -1, 1], [1, -1, 1, -1]),\n",
    " ([-1, 1, -1, 1], [1, -1, -1, 1]),\n",
    " ([-1, 1, -1, 1], [1, -1, -1, -1]),\n",
    " ([-1, 1, -1, 1], [-1, 1, 1, 1]),\n",
    " ([-1, 1, -1, 1], [-1, 1, 1, -1]),\n",
    " ([-1, 1, -1, 1], [-1, 1, -1, 1]),\n",
    " ([-1, 1, -1, 1], [-1, 1, -1, -1]),\n",
    " ([-1, 1, -1, 1], [-1, -1, 1, 1]),\n",
    " ([-1, 1, -1, 1], [-1, -1, 1, -1]),\n",
    " ([-1, 1, -1, 1], [-1, -1, -1, 1]),\n",
    " ([-1, 1, -1, 1], [-1, -1, -1, -1]),\n",
    " ([-1, 1, -1, -1], [1, 1, 1, 1]),\n",
    " ([-1, 1, -1, -1], [1, 1, 1, -1]),\n",
    " ([-1, 1, -1, -1], [1, 1, -1, 1]),\n",
    " ([-1, 1, -1, -1], [1, 1, -1, -1]),\n",
    " ([-1, 1, -1, -1], [1, -1, 1, 1]),\n",
    " ([-1, 1, -1, -1], [1, -1, 1, -1]),\n",
    " ([-1, 1, -1, -1], [1, -1, -1, 1]),\n",
    " ([-1, 1, -1, -1], [1, -1, -1, -1]),\n",
    " ([-1, 1, -1, -1], [-1, 1, 1, 1]),\n",
    " ([-1, 1, -1, -1], [-1, 1, 1, -1]),\n",
    " ([-1, 1, -1, -1], [-1, 1, -1, 1]),\n",
    " ([-1, 1, -1, -1], [-1, 1, -1, -1]),\n",
    " ([-1, 1, -1, -1], [-1, -1, 1, 1]),\n",
    " ([-1, 1, -1, -1], [-1, -1, 1, -1]),\n",
    " ([-1, 1, -1, -1], [-1, -1, -1, 1]),\n",
    " ([-1, 1, -1, -1], [-1, -1, -1, -1]),\n",
    " ([-1, -1, 1, 1], [1, 1, 1, 1]),\n",
    " ([-1, -1, 1, 1], [1, 1, 1, -1]),\n",
    " ([-1, -1, 1, 1], [1, 1, -1, 1]),\n",
    " ([-1, -1, 1, 1], [1, 1, -1, -1]),\n",
    " ([-1, -1, 1, 1], [1, -1, 1, 1]),\n",
    " ([-1, -1, 1, 1], [1, -1, 1, -1]),\n",
    " ([-1, -1, 1, 1], [1, -1, -1, 1]),\n",
    " ([-1, -1, 1, 1], [1, -1, -1, -1]),\n",
    " ([-1, -1, 1, 1], [-1, 1, 1, 1]),\n",
    " ([-1, -1, 1, 1], [-1, 1, 1, -1]),\n",
    " ([-1, -1, 1, 1], [-1, 1, -1, 1]),\n",
    " ([-1, -1, 1, 1], [-1, 1, -1, -1]),\n",
    " ([-1, -1, 1, 1], [-1, -1, 1, 1]),\n",
    " ([-1, -1, 1, 1], [-1, -1, 1, -1]),\n",
    " ([-1, -1, 1, 1], [-1, -1, -1, 1]),\n",
    " ([-1, -1, 1, 1], [-1, -1, -1, -1]),\n",
    " ([-1, -1, 1, -1], [1, 1, 1, 1]),\n",
    " ([-1, -1, 1, -1], [1, 1, 1, -1]),\n",
    " ([-1, -1, 1, -1], [1, 1, -1, 1]),\n",
    " ([-1, -1, 1, -1], [1, 1, -1, -1]),\n",
    " ([-1, -1, 1, -1], [1, -1, 1, 1]),\n",
    " ([-1, -1, 1, -1], [1, -1, 1, -1]),\n",
    " ([-1, -1, 1, -1], [1, -1, -1, 1]),\n",
    " ([-1, -1, 1, -1], [1, -1, -1, -1]),\n",
    " ([-1, -1, 1, -1], [-1, 1, 1, 1]),\n",
    " ([-1, -1, 1, -1], [-1, 1, 1, -1]),\n",
    " ([-1, -1, 1, -1], [-1, 1, -1, 1]),\n",
    " ([-1, -1, 1, -1], [-1, 1, -1, -1]),\n",
    " ([-1, -1, 1, -1], [-1, -1, 1, 1]),\n",
    " ([-1, -1, 1, -1], [-1, -1, 1, -1]),\n",
    " ([-1, -1, 1, -1], [-1, -1, -1, 1]),\n",
    " ([-1, -1, 1, -1], [-1, -1, -1, -1]),\n",
    " ([-1, -1, -1, 1], [1, 1, 1, 1]),\n",
    " ([-1, -1, -1, 1], [1, 1, 1, -1]),\n",
    " ([-1, -1, -1, 1], [1, 1, -1, 1]),\n",
    " ([-1, -1, -1, 1], [1, 1, -1, -1]),\n",
    " ([-1, -1, -1, 1], [1, -1, 1, 1]),\n",
    " ([-1, -1, -1, 1], [1, -1, 1, -1]),\n",
    " ([-1, -1, -1, 1], [1, -1, -1, 1]),\n",
    " ([-1, -1, -1, 1], [1, -1, -1, -1]),\n",
    " ([-1, -1, -1, 1], [-1, 1, 1, 1]),\n",
    " ([-1, -1, -1, 1], [-1, 1, 1, -1]),\n",
    " ([-1, -1, -1, 1], [-1, 1, -1, 1]),\n",
    " ([-1, -1, -1, 1], [-1, 1, -1, -1]),\n",
    " ([-1, -1, -1, 1], [-1, -1, 1, 1]),\n",
    " ([-1, -1, -1, 1], [-1, -1, 1, -1]),\n",
    " ([-1, -1, -1, 1], [-1, -1, -1, 1]),\n",
    " ([-1, -1, -1, 1], [-1, -1, -1, -1]),\n",
    " ([-1, -1, -1, -1], [1, 1, 1, 1]),\n",
    " ([-1, -1, -1, -1], [1, 1, 1, -1]),\n",
    " ([-1, -1, -1, -1], [1, 1, -1, 1]),\n",
    " ([-1, -1, -1, -1], [1, 1, -1, -1]),\n",
    " ([-1, -1, -1, -1], [1, -1, 1, 1]),\n",
    " ([-1, -1, -1, -1], [1, -1, 1, -1]),\n",
    " ([-1, -1, -1, -1], [1, -1, -1, 1]),\n",
    " ([-1, -1, -1, -1], [1, -1, -1, -1]),\n",
    " ([-1, -1, -1, -1], [-1, 1, 1, 1]),\n",
    " ([-1, -1, -1, -1], [-1, 1, 1, -1]),\n",
    " ([-1, -1, -1, -1], [-1, 1, -1, 1]),\n",
    " ([-1, -1, -1, -1], [-1, 1, -1, -1]),\n",
    " ([-1, -1, -1, -1], [-1, -1, 1, 1]),\n",
    " ([-1, -1, -1, -1], [-1, -1, 1, -1]),\n",
    " ([-1, -1, -1, -1], [-1, -1, -1, 1]),\n",
    " ([-1, -1, -1, -1], [-1, -1, -1, -1])]"
   ]
  },
  {
   "cell_type": "code",
   "execution_count": 36,
   "metadata": {},
   "outputs": [],
   "source": [
    "def compareAll(testSet=allcombinations_input_weight, runLocal=False, backend='ibmq_qasm_simulator'):\n",
    "    \n",
    "    my_provider = IBMQ.get_provider()\n",
    "    simulator  = my_provider.get_backend(backend)\n",
    "    \n",
    "    if runLocal:\n",
    "        simulator = Aer.get_backend('qasm_simulator')\n",
    "        print(\"Using local qasm_simulator\", \"testSet size:\", len(testSet))\n",
    "    else: print(\"Using backend:\", backend, \"testSet size:\", len(testSet))\n",
    "    \n",
    "    classicalResult = []\n",
    "    hsgsResult = []\n",
    "    encodingWeightResult = []\n",
    "    \n",
    "    for i in range(len(testSet)):\n",
    "        \n",
    "        print(i, end = '')\n",
    "        \n",
    "        (inputVector, weightVector) = testSet[i]\n",
    "\n",
    "        # Classico\n",
    "        resultadoClassico = runClassicalNeuronReturnProbability(inputVector, weightVector)\n",
    "        classicalResult.append(resultadoClassico)\n",
    "\n",
    "        # HSGS\n",
    "        operator = \"hsgs\"\n",
    "        neuron = createNeuron(inputVector, weightVector, operator)\n",
    "        resultadoHSGS = executeNeuron(neuron, simulator, threshold=None)\n",
    "        hsgsResult.append(resultadoHSGS)\n",
    "\n",
    "        # encoding-weight\n",
    "        operator = \"encoding-weight\"\n",
    "        neuron = createNeuron( inputVector, weightVector, operator)\n",
    "        resultadoEncoding = executeNeuron(neuron, simulator, threshold=None)\n",
    "        encodingWeightResult.append(resultadoEncoding)\n",
    "    \n",
    "    return [classicalResult, hsgsResult, encodingWeightResult]\n"
   ]
  },
  {
   "cell_type": "code",
   "execution_count": 37,
   "metadata": {},
   "outputs": [],
   "source": [
    "# random.shuffle(allcombinations_input_weight)\n",
    "# testSet = [testSet[0], testSet[15], testSet[17], testSet[30], testSet[34]]\n",
    "testSet = allcombinations_input_weight\n",
    "testSet = [testSet[0], testSet[1], testSet[3]]"
   ]
  },
  {
   "cell_type": "code",
   "execution_count": 44,
   "metadata": {},
   "outputs": [
    {
     "name": "stdout",
     "output_type": "stream",
     "text": [
      "Using local qasm_simulator testSet size: 3\n",
      "012"
     ]
    },
    {
     "data": {
      "text/plain": [
       "[[1.0, 0.25, 0.0], [1.0, 0.251708984375, 0.0], [1.0, 0.258544921875, 0.0]]"
      ]
     },
     "execution_count": 44,
     "metadata": {},
     "output_type": "execute_result"
    }
   ],
   "source": [
    "simulatorResult = compareAll(testSet=testSet,\n",
    "                             runLocal=True,\n",
    "                             backend='ibmq_qasm_simulator')\n",
    "simulatorResult"
   ]
  },
  {
   "cell_type": "code",
   "execution_count": 39,
   "metadata": {},
   "outputs": [
    {
     "name": "stdout",
     "output_type": "stream",
     "text": [
      "Using backend: ibmq_athens testSet size: 3\n",
      "012"
     ]
    },
    {
     "data": {
      "text/plain": [
       "[[1.0, 0.25, 0.0],\n",
       " [0.85498046875, 0.3140869140625, 0.1097412109375],\n",
       " [0.8519287109375, 0.289794921875, 0.147216796875]]"
      ]
     },
     "execution_count": 39,
     "metadata": {},
     "output_type": "execute_result"
    }
   ],
   "source": [
    "athensResult = compareAll(testSet=testSet,\n",
    "                        runLocal=False,\n",
    "                        backend='ibmq_athens')\n",
    "athensResult"
   ]
  },
  {
   "cell_type": "code",
   "execution_count": 40,
   "metadata": {
    "scrolled": false
   },
   "outputs": [
    {
     "name": "stdout",
     "output_type": "stream",
     "text": [
      "Using backend: ibmq_valencia testSet size: 3\n",
      "0"
     ]
    },
    {
     "name": "stderr",
     "output_type": "stream",
     "text": [
      "Future exception was never retrieved\n",
      "future: <Future finished exception=ConnectionClosed('WebSocket connection is closed: code = 1006 (connection closed abnormally [internal]), no reason')>\n",
      "Traceback (most recent call last):\n",
      "  File \"/miniconda3/envs/qiskit2/lib/python3.8/asyncio/tasks.py\", line 282, in __step\n",
      "    result = coro.throw(exc)\n",
      "  File \"/miniconda3/envs/qiskit2/lib/python3.8/site-packages/websockets/protocol.py\", line 674, in transfer_data\n",
      "    message = yield from self.read_message()\n",
      "  File \"/miniconda3/envs/qiskit2/lib/python3.8/site-packages/websockets/protocol.py\", line 742, in read_message\n",
      "    frame = yield from self.read_data_frame(max_size=self.max_size)\n",
      "  File \"/miniconda3/envs/qiskit2/lib/python3.8/site-packages/websockets/protocol.py\", line 815, in read_data_frame\n",
      "    frame = yield from self.read_frame(max_size)\n",
      "  File \"/miniconda3/envs/qiskit2/lib/python3.8/site-packages/websockets/protocol.py\", line 880, in read_frame\n",
      "    frame = yield from Frame.read(\n",
      "  File \"/miniconda3/envs/qiskit2/lib/python3.8/site-packages/websockets/framing.py\", line 99, in read\n",
      "    data = yield from reader(2)\n",
      "  File \"/miniconda3/envs/qiskit2/lib/python3.8/asyncio/streams.py\", line 723, in readexactly\n",
      "    await self._wait_for_data('readexactly')\n",
      "  File \"/miniconda3/envs/qiskit2/lib/python3.8/asyncio/streams.py\", line 517, in _wait_for_data\n",
      "    await self._waiter\n",
      "  File \"/miniconda3/envs/qiskit2/lib/python3.8/asyncio/futures.py\", line 260, in __await__\n",
      "    yield self  # This tells Task to wait for completion.\n",
      "  File \"/miniconda3/envs/qiskit2/lib/python3.8/asyncio/tasks.py\", line 349, in __wakeup\n",
      "    future.result()\n",
      "  File \"/miniconda3/envs/qiskit2/lib/python3.8/asyncio/futures.py\", line 173, in result\n",
      "    raise exceptions.CancelledError\n",
      "asyncio.exceptions.CancelledError\n",
      "\n",
      "The above exception was the direct cause of the following exception:\n",
      "\n",
      "websockets.exceptions.ConnectionClosed: WebSocket connection is closed: code = 1006 (connection closed abnormally [internal]), no reason\n"
     ]
    },
    {
     "name": "stdout",
     "output_type": "stream",
     "text": [
      "12"
     ]
    },
    {
     "data": {
      "text/plain": [
       "[[1.0, 0.25, 0.0],\n",
       " [0.79052734375, 0.2762451171875, 0.16357421875],\n",
       " [0.7210693359375, 0.26318359375, 0.170166015625]]"
      ]
     },
     "execution_count": 40,
     "metadata": {},
     "output_type": "execute_result"
    }
   ],
   "source": [
    "valenciaResult = compareAll(testSet=testSet,\n",
    "                        runLocal=False,\n",
    "                        backend='ibmq_valencia')\n",
    "valenciaResult"
   ]
  },
  {
   "cell_type": "code",
   "execution_count": 41,
   "metadata": {},
   "outputs": [
    {
     "name": "stdout",
     "output_type": "stream",
     "text": [
      "Using backend: ibmq_ourense testSet size: 3\n",
      "012"
     ]
    },
    {
     "data": {
      "text/plain": [
       "[[1.0, 0.25, 0.0],\n",
       " [0.7078857421875, 0.3377685546875, 0.2811279296875],\n",
       " [0.6351318359375, 0.3128662109375, 0.27587890625]]"
      ]
     },
     "execution_count": 41,
     "metadata": {},
     "output_type": "execute_result"
    }
   ],
   "source": [
    "ourenseResult = compareAll(testSet=testSet,\n",
    "                        runLocal=False,\n",
    "                        backend='ibmq_ourense')\n",
    "ourenseResult"
   ]
  },
  {
   "cell_type": "code",
   "execution_count": 42,
   "metadata": {},
   "outputs": [
    {
     "name": "stdout",
     "output_type": "stream",
     "text": [
      "Using backend: ibmq_ourense testSet size: 3\n",
      "01"
     ]
    },
    {
     "name": "stderr",
     "output_type": "stream",
     "text": [
      "Future exception was never retrieved\n",
      "future: <Future finished exception=ConnectionClosed('WebSocket connection is closed: code = 1006 (connection closed abnormally [internal]), no reason')>\n",
      "Traceback (most recent call last):\n",
      "  File \"/miniconda3/envs/qiskit2/lib/python3.8/asyncio/tasks.py\", line 282, in __step\n",
      "    result = coro.throw(exc)\n",
      "  File \"/miniconda3/envs/qiskit2/lib/python3.8/site-packages/websockets/protocol.py\", line 674, in transfer_data\n",
      "    message = yield from self.read_message()\n",
      "  File \"/miniconda3/envs/qiskit2/lib/python3.8/site-packages/websockets/protocol.py\", line 742, in read_message\n",
      "    frame = yield from self.read_data_frame(max_size=self.max_size)\n",
      "  File \"/miniconda3/envs/qiskit2/lib/python3.8/site-packages/websockets/protocol.py\", line 815, in read_data_frame\n",
      "    frame = yield from self.read_frame(max_size)\n",
      "  File \"/miniconda3/envs/qiskit2/lib/python3.8/site-packages/websockets/protocol.py\", line 880, in read_frame\n",
      "    frame = yield from Frame.read(\n",
      "  File \"/miniconda3/envs/qiskit2/lib/python3.8/site-packages/websockets/framing.py\", line 99, in read\n",
      "    data = yield from reader(2)\n",
      "  File \"/miniconda3/envs/qiskit2/lib/python3.8/asyncio/streams.py\", line 723, in readexactly\n",
      "    await self._wait_for_data('readexactly')\n",
      "  File \"/miniconda3/envs/qiskit2/lib/python3.8/asyncio/streams.py\", line 517, in _wait_for_data\n",
      "    await self._waiter\n",
      "  File \"/miniconda3/envs/qiskit2/lib/python3.8/asyncio/futures.py\", line 260, in __await__\n",
      "    yield self  # This tells Task to wait for completion.\n",
      "  File \"/miniconda3/envs/qiskit2/lib/python3.8/asyncio/tasks.py\", line 349, in __wakeup\n",
      "    future.result()\n",
      "  File \"/miniconda3/envs/qiskit2/lib/python3.8/asyncio/futures.py\", line 173, in result\n",
      "    raise exceptions.CancelledError\n",
      "asyncio.exceptions.CancelledError\n",
      "\n",
      "The above exception was the direct cause of the following exception:\n",
      "\n",
      "websockets.exceptions.ConnectionClosed: WebSocket connection is closed: code = 1006 (connection closed abnormally [internal]), no reason\n"
     ]
    },
    {
     "name": "stdout",
     "output_type": "stream",
     "text": [
      "2"
     ]
    },
    {
     "data": {
      "text/plain": [
       "[[1.0, 0.25, 0.0],\n",
       " [0.70166015625, 0.354248046875, 0.2406005859375],\n",
       " [0.6204833984375, 0.33837890625, 0.24267578125]]"
      ]
     },
     "execution_count": 42,
     "metadata": {},
     "output_type": "execute_result"
    }
   ],
   "source": [
    "vigoResult = compareAll(testSet=testSet,\n",
    "                        runLocal=False,\n",
    "                        backend='ibmq_ourense')\n",
    "vigoResult"
   ]
  },
  {
   "cell_type": "code",
   "execution_count": 45,
   "metadata": {
    "scrolled": true
   },
   "outputs": [
    {
     "data": {
      "image/png": "[encoded data removed]",
      "text/plain": [
       "<Figure size 432x288 with 1 Axes>"
      ]
     },
     "metadata": {
      "needs_background": "light"
     },
     "output_type": "display_data"
    }
   ],
   "source": [
    "classical = simulatorResult[0]\n",
    "hsgsSimulator = simulatorResult[1]\n",
    "hsgsReal = athensResult[1]\n",
    "\n",
    "x = np.arange(len(hsgsSimulator))  # the label locations\n",
    "width = 0.25  # the width of the bars\n",
    "\n",
    "# Set position of bar on X axis\n",
    "r1 = np.arange(len(classical))\n",
    "r2 = [x + width for x in r1]\n",
    "r3 = [x + width for x in r2]\n",
    "\n",
    "fig, ax = plt.subplots()\n",
    "rects1 = ax.bar(r1, classical, width, label='classical')\n",
    "rects2 = ax.bar(r2, hsgsSimulator, width, label='simulator')\n",
    "rects3 = ax.bar(r3, hsgsReal, width, label='athens')\n",
    "\n",
    "# Add some text for labels, title and custom x-axis tick labels, etc.\n",
    "ax.set_ylabel('Neuron Output')\n",
    "ax.set_title('HSGS output from a couple of samples')\n",
    "ax.set_xticks(x)\n",
    "ax.legend()\n",
    "\n",
    "fig.tight_layout()\n",
    "\n",
    "plt.show()"
   ]
  },
  {
   "cell_type": "code",
   "execution_count": 46,
   "metadata": {
    "scrolled": true
   },
   "outputs": [
    {
     "data": {
      "image/png": "[encoded data removed]",
      "text/plain": [
       "<Figure size 432x288 with 1 Axes>"
      ]
     },
     "metadata": {
      "needs_background": "light"
     },
     "output_type": "display_data"
    }
   ],
   "source": [
    "classical = simulatorResult[0]\n",
    "encodingSimulator = simulatorResult[2]\n",
    "encodingReal = athensResult[2]\n",
    "\n",
    "x = np.arange(len(encodingSimulator))  # the label locations\n",
    "width = 0.25  # the width of the bars\n",
    "\n",
    "# Set position of bar on X axis\n",
    "r1 = np.arange(len(classical))\n",
    "r2 = [x + width for x in r1]\n",
    "r3 = [x + width for x in r2]\n",
    "\n",
    "fig, ax = plt.subplots()\n",
    "rects1 = ax.bar(r1, classical, width, label='classical')\n",
    "rects1 = ax.bar(r2, hsgsSimulator, width, label='simulator')\n",
    "rects2 = ax.bar(r3, hsgsReal, width, label='athens')\n",
    "\n",
    "# Add some text for labels, title and custom x-axis tick labels, etc.\n",
    "ax.set_ylabel('Neuron Output')\n",
    "ax.set_title('Encoding-weight output from a couple of samples')\n",
    "ax.set_xticks(x)\n",
    "ax.legend()\n",
    "\n",
    "fig.tight_layout()\n",
    "\n",
    "plt.show()"
   ]
  },
  {
   "cell_type": "code",
   "execution_count": 47,
   "metadata": {},
   "outputs": [
    {
     "data": {
      "image/png": "[encoded data removed]",
      "text/plain": [
       "<Figure size 432x288 with 1 Axes>"
      ]
     },
     "metadata": {
      "needs_background": "light"
     },
     "output_type": "display_data"
    }
   ],
   "source": [
    "classical = simulatorResult[0]\n",
    "encodingSimulator = simulatorResult[2]\n",
    "encodingReal = athensResult[2]\n",
    "hsgsSimulator = simulatorResult[1]\n",
    "hsgsReal = athensResult[1]\n",
    "\n",
    "encodingValencia = valenciaResult[2]\n",
    "hsgsValencia = valenciaResult[1]\n",
    "encodingOurense = ourenseResult[2]\n",
    "hsgsOurense = ourenseResult[1]\n",
    "\n",
    "x = np.arange(len(encodingSimulator))  # the label locations\n",
    "width = 0.1  # the width of the bars\n",
    "\n",
    "# Set position of bar on X axis\n",
    "r1 = np.arange(len(classical))\n",
    "r2 = [x + width for x in r1]\n",
    "r3 = [x + width for x in r2]\n",
    "r4 = [x + width for x in r3]\n",
    "r5 = [x + width for x in r4]\n",
    "r6 = [x + width for x in r5]\n",
    "r7 = [x + width for x in r6]\n",
    "r8 = [x + width for x in r7]\n",
    "r9 = [x + width for x in r8]\n",
    "\n",
    "fig, ax = plt.subplots()\n",
    "\n",
    "rects1 = ax.bar(r1, classical, width, label='classical')\n",
    "\n",
    "rects2 = ax.bar(r2, hsgsSimulator, width, label='simulator hsgs')\n",
    "rects3 = ax.bar(r3, encodingSimulator, width, label='simulator encoding')\n",
    "\n",
    "rects4 = ax.bar(r4, hsgsReal, width, label='athens hsgs')\n",
    "rects5 = ax.bar(r5, encodingReal, width, label='athens encoding')\n",
    "\n",
    "rects6 = ax.bar(r6, hsgsValencia, width, label='valencia hsgs')\n",
    "rects7 = ax.bar(r7, encodingValencia, width, label='valencia encoding')\n",
    "\n",
    "rects8 = ax.bar(r8, hsgsOurense, width, label='ourense hsgs')\n",
    "rects9 = ax.bar(r9, encodingOurense, width, label='ourense encoding')\n",
    "\n",
    "# Add some text for labels, title and custom x-axis tick labels, etc.\n",
    "ax.set_ylabel('Neuron Output')\n",
    "ax.set_title('Output from a couple of samples')\n",
    "ax.set_xticks(x)\n",
    "ax.legend()\n",
    "\n",
    "fig.tight_layout()\n",
    "\n",
    "plt.show()"
   ]
  },
  {
   "cell_type": "code",
   "execution_count": null,
   "metadata": {},
   "outputs": [],
   "source": []
  }
 ],
 "metadata": {
  "kernelspec": {
   "display_name": "Python 3",
   "language": "python",
   "name": "python3"
  },
  "language_info": {
   "codemirror_mode": {
    "name": "ipython",
    "version": 3
   },
   "file_extension": ".py",
   "mimetype": "text/x-python",
   "name": "python",
   "nbconvert_exporter": "python",
   "pygments_lexer": "ipython3",
   "version": "3.8.3"
  }
 },
 "nbformat": 4,
 "nbformat_minor": 2
}
