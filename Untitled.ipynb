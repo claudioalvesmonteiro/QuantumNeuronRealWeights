{
 "cells": [
  {
   "cell_type": "code",
   "execution_count": 1,
   "metadata": {},
   "outputs": [],
   "source": [
    "from neuron import *\n",
    "from encodingsource import *\n",
    "from hsgs import *\n",
    "from classical_neuron import *\n",
    "from classical_pso import *\n",
    "from sf import *\n",
    "import pandas as pd\n",
    "import numpy as np\n",
    "import matplotlib.pyplot as plt\n",
    "from qiskit import *\n",
    "import random\n",
    "import matplotlib\n",
    "import matplotlib.pyplot as plt\n",
    "import numpy as np"
   ]
  },
  {
   "cell_type": "code",
   "execution_count": 2,
   "metadata": {},
   "outputs": [],
   "source": [
    "classical = [[1.0, 1.0, 1.0, 1.0, 1.0],\n",
    " [1.0, 1.0, 1.0, 1.0, 1.0],\n",
    " [1.0, 1.0, 1.0, 1.0, 1.0]]"
   ]
  },
  {
   "cell_type": "code",
   "execution_count": 3,
   "metadata": {},
   "outputs": [],
   "source": [
    "athens = [[1.0, 1.0, 1.0, 1.0, 1.0],\n",
    " [0.8741455078125,\n",
    "  0.8792724609375,\n",
    "  0.8470458984375,\n",
    "  0.8419189453125,\n",
    "  0.8369140625],\n",
    " [0.848388671875,\n",
    "  0.8106689453125,\n",
    "  0.8092041015625,\n",
    "  0.7767333984375,\n",
    "  0.7974853515625]]"
   ]
  },
  {
   "cell_type": "code",
   "execution_count": 4,
   "metadata": {},
   "outputs": [],
   "source": [
    "valencia = [[1.0, 1.0, 1.0, 1.0, 1.0],\n",
    " [0.7850341796875,\n",
    "  0.661376953125,\n",
    "  0.638916015625,\n",
    "  0.76025390625,\n",
    "  0.6962890625],\n",
    " [0.7222900390625,\n",
    "  0.611572265625,\n",
    "  0.576171875,\n",
    "  0.567138671875,\n",
    "  0.575439453125]]"
   ]
  },
  {
   "cell_type": "code",
   "execution_count": null,
   "metadata": {},
   "outputs": [],
   "source": [
    "ourense = [[1.0, 1.0, 1.0, 1.0, 1.0],\n",
    " [0.6915283203125,\n",
    "  0.7193603515625,\n",
    "  0.6807861328125,\n",
    "  0.6715087890625,\n",
    "  0.6700439453125],\n",
    " [0.656494140625,\n",
    "  0.6512451171875,\n",
    "  0.6317138671875,\n",
    "  0.6192626953125,\n",
    "  0.6466064453125]]"
   ]
  }
 ],
 "metadata": {
  "kernelspec": {
   "display_name": "Python 3",
   "language": "python",
   "name": "python3"
  },
  "language_info": {
   "codemirror_mode": {
    "name": "ipython",
    "version": 3
   },
   "file_extension": ".py",
   "mimetype": "text/x-python",
   "name": "python",
   "nbconvert_exporter": "python",
   "pygments_lexer": "ipython3",
   "version": "3.8.3"
  }
 },
 "nbformat": 4,
 "nbformat_minor": 4
}
