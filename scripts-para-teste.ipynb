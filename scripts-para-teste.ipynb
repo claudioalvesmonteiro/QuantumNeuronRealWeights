{
 "cells": [
  {
   "cell_type": "code",
   "execution_count": 2,
   "metadata": {},
   "outputs": [
    {
     "name": "stderr",
     "output_type": "stream",
     "text": [
      "/anaconda3/lib/python3.7/site-packages/requests/__init__.py:91: RequestsDependencyWarning: urllib3 (1.25.10) or chardet (3.0.4) doesn't match a supported version!\n",
      "  RequestsDependencyWarning)\n"
     ]
    }
   ],
   "source": [
    "from neuron import *\n",
    "from encodingsource import *\n",
    "from hsgs import *\n",
    "from classical_neuron import *\n",
    "from classical_pso import *\n",
    "from sf import *\n",
    "import pandas as pd\n",
    "import numpy as np\n",
    "import matplotlib.pyplot as plt\n",
    "\n",
    "from encodingv2 import *\n",
    "\n",
    "simulator = Aer.get_backend('qasm_simulator')"
   ]
  },
  {
   "cell_type": "markdown",
   "metadata": {},
   "source": [
    "## Imprimindo um circuito gerado pelo Encoding"
   ]
  },
  {
   "cell_type": "code",
   "execution_count": 3,
   "metadata": {},
   "outputs": [
    {
     "data": {
      "text/html": [
       "<pre style=\"word-wrap: normal;white-space: pre;background: #fff0;line-height: 1.1;font-family: &quot;Courier New&quot;,Courier,monospace\">                          ┌──────────────┐     ┌──────────────┐        \n",
       "q_input_0: |0>────────────┤ U3(pi/2,0,0) ├─────┤ U3(pi/2,0,0) ├──────X─\n",
       "              ┌──────────┐└──────┬───────┘┌───┐└──────┬───────┘┌───┐ │ \n",
       "q_input_1: |0>┤ Ry(pi/2) ├───────■────────┤ X ├───────■────────┤ X ├─X─\n",
       "              └──────────┘                └───┘                └───┘   \n",
       "q_input_2: |0>─────────────────────────────────────────────────────────\n",
       "                                                                       \n",
       "c_output_0: 0 ═════════════════════════════════════════════════════════\n",
       "                                                                       </pre>"
      ],
      "text/plain": [
       "<qiskit.visualization.text.TextDrawing at 0x10b4f5828>"
      ]
     },
     "execution_count": 3,
     "metadata": {},
     "output_type": "execute_result"
    }
   ],
   "source": [
    "circuit = QuantumCircuit()\n",
    "q_input = QuantumRegister(3, 'q_input')\n",
    "c_output = ClassicalRegister(1, 'c_output')\n",
    "circuit.add_register(q_input)\n",
    "circuit.add_register(c_output)\n",
    "\n",
    "v = [1,1,1,1]\n",
    "encodingGenerator2(v, circuit, q_input)\n",
    "\n",
    "circuit.draw()"
   ]
  },
  {
   "cell_type": "markdown",
   "metadata": {},
   "source": [
    "### Criando neuronio usando hsgs, sf, encoding e comparando com o resultado clássico\n"
   ]
  },
  {
   "cell_type": "code",
   "execution_count": 4,
   "metadata": {},
   "outputs": [
    {
     "name": "stdout",
     "output_type": "stream",
     "text": [
      "encoding-input 0.048095703125\n",
      "encoding-weight 0.2176513671875\n",
      "hsgs 0.252197265625\n",
      "classico 0.21734167312340363\n"
     ]
    }
   ],
   "source": [
    "def barrar(v):\n",
    "    for i in range(len(v)):\n",
    "        v[i] *= -1 \n",
    "\n",
    "#inputVector = [1,1,1,1,1,1,1,1,1,1,1,1,1,1,-1,1]#[1, 1, 1, 1, -1, 1, -1, 1, 1, 1, 1, 1, 1, 1, 1, 1]\n",
    "#weightVector = [-1,1,1,-1,1,1,1,1,1,1,1,1,1,1,1,1]#[1, -1, 1, 1, -1, 1, 1, -1, -1, 1, 1, 1, 1, -1, 1, 1]\n",
    "\n",
    "\n",
    "inputVector = [-1, 1, 1, 1, -1, 1, 1, -1, 1, -1, -1, -1, 1, 1, -1, -1, -1, -1, -1, 1, -1, -1, -1, -1, -1, 1, -1, 1, -1, -1, -1, 1, 1, -1, -1, -1, -1, -1, -1, 1, -1, 1, 1, -1, -1, -1, 1, -1, 1, -1, -1, -1, -1, -1, 1, -1, 1, -1, 1, 1, -1, 1, 1, -1] \n",
    "weightVector = [-0.03216409993230598, -0.1520999574184498, 0.11549307734856797, 0.07819667776917735, -0.08683451299393112, 0.07428209202455867, -0.011628350965060036, -0.058852035623669065, 0.02091024109530386, 0.18422984345689053, -0.12001327917718091, -0.17281808213991004, 0.004445115622186578, 0.09949334308845695, 0.0644906589346581, 0.17559849756856852, -0.088707282935652, -0.017908127406289862, -0.1026406028784107, 0.1885141061843412, 0.04853405915763267, -0.1894412214705037, -0.18971428207273894, -0.16080045829897144, -0.14494276618814597, 0.16133137423246743, 0.032410503109816365, 0.1554236889112614, -0.18999964114222914, -0.02773208631445002, -0.1769047447607832, 0.07340800548043382, 0.04977970093090443, -0.18319674721020804, -0.1611156274775103, -0.08041675891466839, -0.10661038807499998, -0.15819257805946796, -0.07129341872229379, 0.17219959076743557, -0.012891323765141861, 0.13884392920174257, -0.03493177735039414, -0.16967932466594843, -0.1344533324680956, 0.07710909951302578, 0.16230727329009179, -0.11811109546183819, 0.05762967585657125, 0.15720292553372192, -0.16562784891930163, -0.07348394951216673, -0.1298264325738957, -0.06989954242058431, 0.1662649564426879, 0.15549686702988463, -0.1345078290406552, 0.07132344671653838, 0.13820247035438069, -0.06455638157173038, 0.1549689794465881, -0.18061152100490427, 0.021178877641755214, -0.15711833018132063]\n",
    "\n",
    "operator = \"encoding-input\"\n",
    "neuron = createNeuron( inputVector, weightVector, operator)\n",
    "resultadoEncoding = executeNeuron(neuron, simulator, threshold=None)\n",
    "print(\"encoding-input\", resultadoEncoding)   \n",
    "operator = \"encoding-weight\"\n",
    "neuron = createNeuron( inputVector, weightVector, operator)\n",
    "resultadoEncoding = executeNeuron(neuron, simulator, threshold=None)\n",
    "print(\"encoding-weight\", resultadoEncoding)   \n",
    "operator = \"hsgs\"\n",
    "neuron = createNeuron(inputVector, weightVector, operator)\n",
    "resultadoHSGS = executeNeuron(neuron, simulator, threshold=None)\n",
    "print(\"hsgs\", resultadoHSGS)\n",
    "\n",
    "resultadoClassico = runClassicalNeuronReturnProbability(inputVector, weightVector)\n",
    "print(\"classico\", resultadoClassico)  "
   ]
  },
  {
   "cell_type": "markdown",
   "metadata": {},
   "source": [
    "## Vendo que $U_w$ |$\\psi_w$> = |m-1>, considerando HSGS e Encoding para gerar U_w. Atenção para o caso do Encoding."
   ]
  },
  {
   "cell_type": "code",
   "execution_count": null,
   "metadata": {},
   "outputs": [],
   "source": [
    "weightVector = [-1, -1, 1, 1]#,1,1,1,1,1,1,1,1,1,1,1,1]#[0.05, 0.03, -0.5, 0.01]\n",
    "\n",
    "##### USANDO HSGS PARA U_I e U_W\n",
    "n=2\n",
    "circuit = QuantumCircuit()\n",
    "q_input = QuantumRegister(n, 'q_input')\n",
    "c_output = ClassicalRegister(n, 'c_output')\n",
    "\n",
    "circuit.add_register(q_input)\n",
    "circuit.add_register(c_output)\n",
    "\n",
    "#Ui\n",
    "for i in range(n):\n",
    "    circuit.h(q_input[i])\n",
    "hsgsGenerator(weightVector, circuit, q_input, n)\n",
    "\n",
    "#U_w\n",
    "hsgsGenerator(weightVector, circuit, q_input, 2)\n",
    "\n",
    "for i in range(n):\n",
    "    circuit.h(q_input[i])\n",
    "    circuit.x(q_input[i])\n",
    "\n",
    "backend = Aer.get_backend('statevector_simulator')\n",
    "job = execute(circuit, backend)\n",
    "result = job.result()\n",
    "outputstate = result.get_statevector(circuit, decimals=3)\n",
    "\n",
    "print(\"resultado simulador HSGS\",outputstate)\n",
    "\n",
    "##### USANDO ENCODING PARA U_I e U_W\n",
    "weightVector = [-1, -1, 1, 1]#,1,1,1,1,1,1,1,1,1,1,1,1]#[0.05, 0.03, -0.5, 0.01]\n",
    "n=2\n",
    "circuit = QuantumCircuit()\n",
    "q_input = QuantumRegister(n, 'q_input')\n",
    "c_output = ClassicalRegister(n, 'c_output')\n",
    "\n",
    "circuit.add_register(q_input)\n",
    "circuit.add_register(c_output)\n",
    "\n",
    "#Ui\n",
    "Encoding(circuit, weightVector, q_input)  \n",
    "\n",
    "#U_w\n",
    "hsgsGenerator(weightVector, circuit, q_input, 2)\n",
    "\n",
    "for i in range(n):\n",
    "    circuit.h(q_input[i])\n",
    "    circuit.x(q_input[i])\n",
    "\n",
    "backend = Aer.get_backend('statevector_simulator')\n",
    "job = execute(circuit, backend)\n",
    "result = job.result()\n",
    "outputstate = result.get_statevector(circuit, decimals=3)\n",
    "\n",
    "print(\"resultado simulador Encoding\",outputstate)\n"
   ]
  },
  {
   "cell_type": "markdown",
   "metadata": {
    "scrolled": true
   },
   "source": []
  },
  {
   "cell_type": "code",
   "execution_count": null,
   "metadata": {},
   "outputs": [],
   "source": []
  },
  {
   "cell_type": "code",
   "execution_count": null,
   "metadata": {},
   "outputs": [],
   "source": []
  },
  {
   "cell_type": "code",
   "execution_count": null,
   "metadata": {},
   "outputs": [],
   "source": [
    "\n"
   ]
  },
  {
   "cell_type": "code",
   "execution_count": null,
   "metadata": {},
   "outputs": [],
   "source": []
  },
  {
   "cell_type": "markdown",
   "metadata": {},
   "source": [
    "## Executar um teste com 10 entradas diferentes para n=3, com pesos que sejam diferentes nas seguintes quantidades #0 #1, #2, #3, #4, #5, #6, #7, #8, em relação às entradas e comparar o erro do SF, HSGS e Encoding em relação à saída teórica esperada. "
   ]
  },
  {
   "cell_type": "code",
   "execution_count": null,
   "metadata": {
    "scrolled": true
   },
   "outputs": [],
   "source": [
    "n=3\n",
    "dicOldInput = {}\n",
    "\n",
    "qtdeEntradas = 20\n",
    "qtdeExperimentoDiferencas = 2**n\n",
    "repeticoes = 3\n",
    "precisao = 3\n",
    "\n",
    "errosMedioHSGS = [0]*qtdeExperimentoDiferencas\n",
    "errosMedioSF = [0]*qtdeExperimentoDiferencas\n",
    "errosMedioEncoding = [0]*qtdeExperimentoDiferencas\n",
    "\n",
    "for i in range(qtdeEntradas):\n",
    "    print(i, qtdeEntradas)\n",
    "    procureNovaEntrada = True\n",
    "    while procureNovaEntrada:\n",
    "        inputVector = generateRandomState(2**n)\n",
    "        if not tuple(inputVector) in dicOldInput:\n",
    "            dicOldInput[tuple(inputVector)] = True\n",
    "        procureNovaEntrada = False\n",
    "    for diferencaEntradaPeso in range(qtdeExperimentoDiferencas):\n",
    "        erroMedioHSGS = 0\n",
    "        erroMedioSF = 0\n",
    "        erroMedioEncoding = 0\n",
    "        for repeticao in range(repeticoes):\n",
    "            weightVector = generateWeightWithSomeDifference(inputVector, diferencaEntradaPeso)\n",
    "            operator = \"hsgs\"\n",
    "            neuron = createNeuron(inputVector, weightVector, operator)\n",
    "            resultadoHSGS = executeNeuron(neuron, simulator, threshold=None)\n",
    "            operator = \"sf\"\n",
    "            neuron = createNeuron(inputVector, weightVector, operator)\n",
    "            resultadoSF =executeNeuron(neuron, simulator, threshold=None)\n",
    "            operator = \"encoding\"\n",
    "            neuron = createNeuron(inputVector, weightVector, operator)\n",
    "            resultadoEncoding =executeNeuron(neuron, simulator, threshold=None)\n",
    "            resultadoClassico = runClassicalNeuronReturnProbability(inputVector, weightVector)\n",
    "            erroHSGS = abs(resultadoHSGS-resultadoClassico)\n",
    "            erroSF = abs(resultadoSF-resultadoClassico)\n",
    "            erroEncoding = abs(resultadoEncoding-resultadoClassico)\n",
    "            \n",
    "            erroMedioHSGS += round(erroHSGS,precisao)/(repeticoes*qtdeEntradas)\n",
    "            erroMedioSF += round(erroSF,precisao)/(repeticoes*qtdeEntradas)\n",
    "            erroEncoding += round(erroEncoding,precisao)/(repeticoes*qtdeEntradas)\n",
    "        \n",
    "        errosMedioHSGS[diferencaEntradaPeso] += erroMedioHSGS\n",
    "        errosMedioSF[diferencaEntradaPeso] += erroMedioSF\n",
    "        errosMedioEncoding[diferencaEntradaPeso] += erroEncoding\n",
    "\n",
    "print(errosMedioHSGS,errosMedioSF,errosMedioEncoding )\n",
    "plt.plot( range(qtdeExperimentoDiferencas), errosMedioHSGS, label=\"HSGS\" )\n",
    "plt.plot( range(qtdeExperimentoDiferencas), errosMedioSF, label=\"SF\")\n",
    "plt.plot( range(qtdeExperimentoDiferencas), errosMedioEncoding,label=\"encoding\")\n",
    "plt.legend()\n",
    "\n",
    "\n"
   ]
  },
  {
   "cell_type": "markdown",
   "metadata": {},
   "source": [
    "### Importando a base e separando a classe"
   ]
  },
  {
   "cell_type": "code",
   "execution_count": null,
   "metadata": {},
   "outputs": [],
   "source": []
  },
  {
   "cell_type": "markdown",
   "metadata": {},
   "source": [
    "### Treinando neuronio clássico e quântico com Regra Delta"
   ]
  },
  {
   "cell_type": "code",
   "execution_count": null,
   "metadata": {
    "scrolled": true
   },
   "outputs": [],
   "source": [
    "inputVectors = [[-1,1,-1,1,1,1,1,-1],[1,1,-1,1,1,1,1,-1]]\n",
    "weightVector = [-1,-1,1,1,-1,-1,1,1]\n",
    "#weightVector = normalize(weightVector)\n",
    "\n",
    "y_trains = [1,1]\n",
    "n_epochs = 2000\n",
    "threshold = 0.5\n",
    "\n",
    "weightVectorHSGS = weightVector[:]\n",
    "#weightVectorSF = weightVector[:]\n",
    "weightVectorEncoding = weightVector[:]\n",
    "\n",
    "tamTreinamento = len(inputVectors)\n",
    "\n",
    "for iteration in range(n_epochs):\n",
    "    print(\"\\niteration\", iteration)\n",
    "    erroHSGS = 0\n",
    "    erroEncoding = 0\n",
    "    for posicaoTreinamento in range(tamTreinamento):\n",
    "        inputVector = inputVectors[posicaoTreinamento]\n",
    "        y_train = y_trains[posicaoTreinamento]\n",
    "\n",
    "        \"\"\"\n",
    "        executando o HSGS\n",
    "        \"\"\"\n",
    "        operator = \"hsgs\"\n",
    "        wBinaryHSGSBinary = deterministicBinarization(weightVectorHSGS) # Binarization of Real weights\n",
    "        neuron = createNeuron(inputVector, wBinaryHSGSBinary, operator)\n",
    "        resultadoHSGS = executeNeuron(neuron, simulator, threshold=None)\n",
    "        print(\"res hsgs\",resultadoHSGS, y_train)\n",
    "\n",
    "        \"\"\"\n",
    "        treinando o HSGS\n",
    "        \"\"\"\n",
    "        deltaRule(inputVector, weightVectorHSGS, threshold=0.5, lr=0.2, y_train=y_train, out=resultadoHSGS)\n",
    "        #print()\n",
    "\n",
    "        \"\"\"\n",
    "        executando o encoding\n",
    "        \"\"\"\n",
    "        operator = \"encoding\"\n",
    "        neuron = createNeuron(inputVector, weightVectorEncoding, operator)\n",
    "        resultadoEncoding =executeNeuron(neuron, simulator, threshold=None)\n",
    "        print(\"res encoding\",resultadoEncoding, y_train)\n",
    "        \"\"\"\n",
    "        treinando o encoding\n",
    "        \"\"\"\n",
    "        deltaRule(inputVector, weightVectorEncoding, threshold=0.5, lr=0.2, y_train=y_train, out=resultadoEncoding)\n",
    "\n",
    "        \"\"\"\n",
    "        erros\n",
    "        \"\"\"\n",
    "        resultadoEncoding_bin = 0\n",
    "        if abs(resultadoEncoding) > threshold:\n",
    "            resultadoEncoding_bin = 1\n",
    "\n",
    "        resultadoHSGS_bin = 0\n",
    "        if abs(resultadoHSGS) > threshold:\n",
    "            resultadoHSGS_bin = 1\n",
    "\n",
    "        #print(\"\\nerro Encoding:\", abs(resultadoEncoding_bin-y_train))\n",
    "        #print(\"erro HSGS:\", abs(resultadoHSGS_bin-y_train))\n",
    "        erroHSGS += abs(resultadoHSGS_bin-y_train)\n",
    "        erroEncoding += abs(resultadoEncoding_bin-y_train)\n",
    "    print(\"erro HSGS\", erroHSGS, \"erro encoding\", erroEncoding)\n",
    "    print(weightVectorHSGS, wBinaryHSGSBinary,weightVectorEncoding)\n",
    "    \n",
    "\n",
    "\n"
   ]
  },
  {
   "cell_type": "markdown",
   "metadata": {},
   "source": [
    "### Rodando neuronio quântico em dataset com threshold em 0.5"
   ]
  },
  {
   "cell_type": "code",
   "execution_count": null,
   "metadata": {
    "scrolled": true
   },
   "outputs": [],
   "source": [
    "operator = \"hsgs\"\n",
    "weightVector = [-1,1,-1,-1,1,1,1,1,1,1,1,1,1,1,1,1]#[1, -1, 1, 1, -1, 1, 1, -1, -1, 1, 1, 1, 1, -1, 1, 1]\n",
    "\n",
    "runDataset(listOfInput=x_train,\n",
    "           listOfExpectedOutput=y_train,\n",
    "           weightVector=weightVector,\n",
    "           circuitGeneratorOfUOperator=operator, \n",
    "           simulator=simulator, \n",
    "           threshold=0.5, \n",
    "           memoryOfExecutions={})"
   ]
  },
  {
   "cell_type": "markdown",
   "metadata": {},
   "source": [
    "### Treinando neuronio Clássico com Regra Delta e pesos reais"
   ]
  },
  {
   "cell_type": "code",
   "execution_count": null,
   "metadata": {},
   "outputs": [],
   "source": [
    "runNeuron (nb_epochs=23,\n",
    "           binaryWeights=False,\n",
    "           stochastic=False)"
   ]
  },
  {
   "cell_type": "markdown",
   "metadata": {},
   "source": [
    "### Treinando neuronio Quântico com Regra Delta"
   ]
  },
  {
   "cell_type": "code",
   "execution_count": null,
   "metadata": {},
   "outputs": [],
   "source": [
    "trainNeuron(method='delta',\n",
    "            nb_epochs=30,\n",
    "            binaryWeights=True,\n",
    "            stochastic=False,\n",
    "            listOfInput=x_train,\n",
    "            listOfExpectedOutput=y_train,\n",
    "            circuitGeneratorOfUOperator='hsgs',\n",
    "            simulator=simulator,\n",
    "            threshold=0.5,\n",
    "            lr = 0.01,\n",
    "            memoryOfExecutions={})"
   ]
  },
  {
   "cell_type": "code",
   "execution_count": null,
   "metadata": {},
   "outputs": [],
   "source": [
    "trainNeuron(method='delta',\n",
    "            nb_epochs=30,\n",
    "            binaryWeights=True,\n",
    "            stochastic=False,\n",
    "            listOfInput=x_train,\n",
    "            listOfExpectedOutput=y_train,\n",
    "            circuitGeneratorOfUOperator='hsgs',\n",
    "            simulator=simulator,\n",
    "            threshold=0.3,\n",
    "            lr = 0.01,\n",
    "            memoryOfExecutions={})"
   ]
  },
  {
   "cell_type": "code",
   "execution_count": null,
   "metadata": {},
   "outputs": [],
   "source": []
  }
 ],
 "metadata": {
  "kernelspec": {
   "display_name": "Python 3",
   "language": "python",
   "name": "python3"
  },
  "language_info": {
   "codemirror_mode": {
    "name": "ipython",
    "version": 3
   },
   "file_extension": ".py",
   "mimetype": "text/x-python",
   "name": "python",
   "nbconvert_exporter": "python",
   "pygments_lexer": "ipython3",
   "version": "3.7.3"
  }
 },
 "nbformat": 4,
 "nbformat_minor": 4
}
