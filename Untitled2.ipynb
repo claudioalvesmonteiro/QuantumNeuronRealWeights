{
 "cells": [
  {
   "cell_type": "code",
   "execution_count": 10,
   "metadata": {},
   "outputs": [
    {
     "name": "stderr",
     "output_type": "stream",
     "text": [
      "/anaconda3/lib/python3.7/site-packages/qiskit/providers/ibmq/utils/deprecation.py:53: DeprecationWarning: IBMQ.load_accounts() is being deprecated. Please use IBM Q Experience v2 credentials and IBMQ.load_account() (note the singular form) instead. You can find the instructions to make the updates here: \n",
      "https://github.com/Qiskit/qiskit-ibmq-provider#updating-to-the-new-ibm-q-experience\n",
      "  DeprecationWarning)\n",
      "/anaconda3/lib/python3.7/site-packages/qiskit/providers/ibmq/ibmqfactory.py:483: DeprecationWarning: Calling IBMQ.load_accounts() with v2 credentials. This is provided for backwards compatibility and may lead to unexpected behaviour when mixing v1 and v2 account credentials.\n",
      "  'v1 and v2 account credentials.', DeprecationWarning)\n",
      "/anaconda3/lib/python3.7/site-packages/qiskit/providers/ibmq/ibmqfactory.py:181: UserWarning: Credentials are already in use. The existing account in the session will be replaced.\n",
      "  warnings.warn('Credentials are already in use. The existing '\n"
     ]
    }
   ],
   "source": [
    "from neuron import *\n",
    "from encodingsource import *\n",
    "from hsgs import *\n",
    "from classical_neuron import *\n",
    "from classical_pso import *\n",
    "from sf import *\n",
    "import pandas as pd\n",
    "import numpy as np\n",
    "import matplotlib.pyplot as plt\n",
    "from qiskit import IBMQ\n",
    "\n",
    "IBMQ.load_accounts()"
   ]
  },
  {
   "cell_type": "code",
   "execution_count": 11,
   "metadata": {},
   "outputs": [
    {
     "name": "stderr",
     "output_type": "stream",
     "text": [
      "/anaconda3/lib/python3.7/site-packages/qiskit/providers/ibmq/ibmqfactory.py:595: DeprecationWarning: IBMQ.get_backend() is being deprecated. Please use IBMQ.get_provider() to retrieve a provider and AccountProvider.get_backend(\"name\") to retrieve a backend.\n",
      "  DeprecationWarning)\n"
     ]
    }
   ],
   "source": [
    "simulator = IBMQ.get_backend(\"ibmq_athens\") #qasm_simulator #ibmq_santiago\n"
   ]
  },
  {
   "cell_type": "code",
   "execution_count": 15,
   "metadata": {},
   "outputs": [
    {
     "name": "stdout",
     "output_type": "stream",
     "text": [
      "hsgs 0.3013916015625\n"
     ]
    }
   ],
   "source": [
    "inputVector = [1, -1, 1, 1]\n",
    "weightVector = [1, -1, 1, -1]\n",
    "\n",
    "operator = \"hsgs\"\n",
    "neuron = createNeuron(inputVector, weightVector, operator)\n",
    "resultadoHSGS = executeNeuron(neuron, simulator, threshold=None)\n",
    "print(\"hsgs\", resultadoHSGS)\n",
    "#neuron.draw()\n"
   ]
  },
  {
   "cell_type": "code",
   "execution_count": 16,
   "metadata": {},
   "outputs": [
    {
     "name": "stdout",
     "output_type": "stream",
     "text": [
      "encoding-weight 0.2557373046875\n"
     ]
    }
   ],
   "source": [
    "operator = \"encoding-weight\"\n",
    "neuron = createNeuron( inputVector, weightVector, operator)\n",
    "resultadoEncoding = executeNeuron(neuron, simulator, threshold=None)\n",
    "print(\"encoding-weight\", resultadoEncoding)  "
   ]
  },
  {
   "cell_type": "code",
   "execution_count": 18,
   "metadata": {},
   "outputs": [
    {
     "name": "stdout",
     "output_type": "stream",
     "text": [
      "hsgs 0.2801513671875\n"
     ]
    }
   ],
   "source": [
    "inputVector = [-1, 1, -1, 1, 1, 1, 1, 1]\n",
    "weightVector = [1, -1, 1, -1, -1, -1, -1, -1]\n",
    "\n",
    "operator = \"hsgs\"\n",
    "neuron = createNeuron(inputVector, weightVector, operator)\n",
    "resultadoHSGS = executeNeuron(neuron, simulator, threshold=None)\n",
    "print(\"hsgs\", resultadoHSGS)\n",
    "#neuron.draw()       "
   ]
  },
  {
   "cell_type": "code",
   "execution_count": 19,
   "metadata": {},
   "outputs": [
    {
     "name": "stdout",
     "output_type": "stream",
     "text": [
      "encoding-weight 0.3309326171875\n"
     ]
    }
   ],
   "source": [
    "operator = \"encoding-weight\"\n",
    "neuron = createNeuron( inputVector, weightVector, operator)\n",
    "resultadoEncoding = executeNeuron(neuron, simulator, threshold=None)\n",
    "print(\"encoding-weight\", resultadoEncoding)  "
   ]
  },
  {
   "cell_type": "code",
   "execution_count": 20,
   "metadata": {},
   "outputs": [
    {
     "name": "stdout",
     "output_type": "stream",
     "text": [
      "classico 0.9999999999999998\n"
     ]
    }
   ],
   "source": [
    "resultadoClassico = runClassicalNeuronReturnProbability(inputVector, weightVector)\n",
    "print(\"classico\", resultadoClassico)  "
   ]
  },
  {
   "cell_type": "code",
   "execution_count": 21,
   "metadata": {},
   "outputs": [
    {
     "name": "stdout",
     "output_type": "stream",
     "text": [
      "encoding-input 1.0\n",
      "encoding-weight 1.0\n",
      "hsgs 1.0\n",
      "classico 0.9999999999999998\n"
     ]
    }
   ],
   "source": [
    "simulator = Aer.get_backend('qasm_simulator')\n",
    "operator = \"encoding-input\"\n",
    "neuron = createNeuron( inputVector, weightVector, operator)\n",
    "resultadoEncoding = executeNeuron(neuron, simulator, threshold=None)\n",
    "print(\"encoding-input\", resultadoEncoding)   \n",
    "operator = \"encoding-weight\"\n",
    "neuron = createNeuron( inputVector, weightVector, operator)\n",
    "resultadoEncoding = executeNeuron(neuron, simulator, threshold=None)\n",
    "print(\"encoding-weight\", resultadoEncoding)   \n",
    "operator = \"hsgs\"\n",
    "neuron = createNeuron(inputVector, weightVector, operator)\n",
    "resultadoHSGS = executeNeuron(neuron, simulator, threshold=None)\n",
    "print(\"hsgs\", resultadoHSGS)\n",
    "\n",
    "resultadoClassico = runClassicalNeuronReturnProbability(inputVector, weightVector)\n",
    "print(\"classico\", resultadoClassico)  "
   ]
  },
  {
   "cell_type": "code",
   "execution_count": 23,
   "metadata": {},
   "outputs": [
    {
     "ename": "QiskitBackendNotFoundError",
     "evalue": "'No backend matches the criteria'",
     "output_type": "error",
     "traceback": [
      "\u001b[0;31m---------------------------------------------------------------------------\u001b[0m",
      "\u001b[0;31mQiskitBackendNotFoundError\u001b[0m                Traceback (most recent call last)",
      "\u001b[0;32m<ipython-input-23-011387b93629>\u001b[0m in \u001b[0;36m<module>\u001b[0;34m\u001b[0m\n\u001b[0;32m----> 1\u001b[0;31m \u001b[0msimulator\u001b[0m \u001b[0;34m=\u001b[0m \u001b[0mAer\u001b[0m\u001b[0;34m.\u001b[0m\u001b[0mget_backend\u001b[0m\u001b[0;34m(\u001b[0m\u001b[0;34m'athens'\u001b[0m\u001b[0;34m)\u001b[0m\u001b[0;34m\u001b[0m\u001b[0;34m\u001b[0m\u001b[0m\n\u001b[0m\u001b[1;32m      2\u001b[0m \u001b[0moperator\u001b[0m \u001b[0;34m=\u001b[0m \u001b[0;34m\"encoding-input\"\u001b[0m\u001b[0;34m\u001b[0m\u001b[0;34m\u001b[0m\u001b[0m\n\u001b[1;32m      3\u001b[0m \u001b[0mneuron\u001b[0m \u001b[0;34m=\u001b[0m \u001b[0mcreateNeuron\u001b[0m\u001b[0;34m(\u001b[0m \u001b[0minputVector\u001b[0m\u001b[0;34m,\u001b[0m \u001b[0mweightVector\u001b[0m\u001b[0;34m,\u001b[0m \u001b[0moperator\u001b[0m\u001b[0;34m)\u001b[0m\u001b[0;34m\u001b[0m\u001b[0;34m\u001b[0m\u001b[0m\n\u001b[1;32m      4\u001b[0m \u001b[0mresultadoEncoding\u001b[0m \u001b[0;34m=\u001b[0m \u001b[0mexecuteNeuron\u001b[0m\u001b[0;34m(\u001b[0m\u001b[0mneuron\u001b[0m\u001b[0;34m,\u001b[0m \u001b[0msimulator\u001b[0m\u001b[0;34m,\u001b[0m \u001b[0mthreshold\u001b[0m\u001b[0;34m=\u001b[0m\u001b[0;32mNone\u001b[0m\u001b[0;34m)\u001b[0m\u001b[0;34m\u001b[0m\u001b[0;34m\u001b[0m\u001b[0m\n\u001b[1;32m      5\u001b[0m \u001b[0mprint\u001b[0m\u001b[0;34m(\u001b[0m\u001b[0;34m\"encoding-input\"\u001b[0m\u001b[0;34m,\u001b[0m \u001b[0mresultadoEncoding\u001b[0m\u001b[0;34m)\u001b[0m\u001b[0;34m\u001b[0m\u001b[0;34m\u001b[0m\u001b[0m\n",
      "\u001b[0;32m/anaconda3/lib/python3.7/site-packages/qiskit/providers/aer/aerprovider.py\u001b[0m in \u001b[0;36mget_backend\u001b[0;34m(self, name, **kwargs)\u001b[0m\n\u001b[1;32m     35\u001b[0m \u001b[0;34m\u001b[0m\u001b[0m\n\u001b[1;32m     36\u001b[0m     \u001b[0;32mdef\u001b[0m \u001b[0mget_backend\u001b[0m\u001b[0;34m(\u001b[0m\u001b[0mself\u001b[0m\u001b[0;34m,\u001b[0m \u001b[0mname\u001b[0m\u001b[0;34m=\u001b[0m\u001b[0;32mNone\u001b[0m\u001b[0;34m,\u001b[0m \u001b[0;34m**\u001b[0m\u001b[0mkwargs\u001b[0m\u001b[0;34m)\u001b[0m\u001b[0;34m:\u001b[0m\u001b[0;34m\u001b[0m\u001b[0;34m\u001b[0m\u001b[0m\n\u001b[0;32m---> 37\u001b[0;31m         \u001b[0;32mreturn\u001b[0m \u001b[0msuper\u001b[0m\u001b[0;34m(\u001b[0m\u001b[0;34m)\u001b[0m\u001b[0;34m.\u001b[0m\u001b[0mget_backend\u001b[0m\u001b[0;34m(\u001b[0m\u001b[0mname\u001b[0m\u001b[0;34m=\u001b[0m\u001b[0mname\u001b[0m\u001b[0;34m,\u001b[0m \u001b[0;34m**\u001b[0m\u001b[0mkwargs\u001b[0m\u001b[0;34m)\u001b[0m\u001b[0;34m\u001b[0m\u001b[0;34m\u001b[0m\u001b[0m\n\u001b[0m\u001b[1;32m     38\u001b[0m \u001b[0;34m\u001b[0m\u001b[0m\n\u001b[1;32m     39\u001b[0m     \u001b[0;32mdef\u001b[0m \u001b[0mbackends\u001b[0m\u001b[0;34m(\u001b[0m\u001b[0mself\u001b[0m\u001b[0;34m,\u001b[0m \u001b[0mname\u001b[0m\u001b[0;34m=\u001b[0m\u001b[0;32mNone\u001b[0m\u001b[0;34m,\u001b[0m \u001b[0mfilters\u001b[0m\u001b[0;34m=\u001b[0m\u001b[0;32mNone\u001b[0m\u001b[0;34m,\u001b[0m \u001b[0;34m**\u001b[0m\u001b[0mkwargs\u001b[0m\u001b[0;34m)\u001b[0m\u001b[0;34m:\u001b[0m\u001b[0;34m\u001b[0m\u001b[0;34m\u001b[0m\u001b[0m\n",
      "\u001b[0;32m/anaconda3/lib/python3.7/site-packages/qiskit/providers/baseprovider.py\u001b[0m in \u001b[0;36mget_backend\u001b[0;34m(self, name, **kwargs)\u001b[0m\n\u001b[1;32m     44\u001b[0m             \u001b[0;32mraise\u001b[0m \u001b[0mQiskitBackendNotFoundError\u001b[0m\u001b[0;34m(\u001b[0m\u001b[0;34m'More than one backend matches the criteria'\u001b[0m\u001b[0;34m)\u001b[0m\u001b[0;34m\u001b[0m\u001b[0;34m\u001b[0m\u001b[0m\n\u001b[1;32m     45\u001b[0m         \u001b[0;32mif\u001b[0m \u001b[0;32mnot\u001b[0m \u001b[0mbackends\u001b[0m\u001b[0;34m:\u001b[0m\u001b[0;34m\u001b[0m\u001b[0;34m\u001b[0m\u001b[0m\n\u001b[0;32m---> 46\u001b[0;31m             \u001b[0;32mraise\u001b[0m \u001b[0mQiskitBackendNotFoundError\u001b[0m\u001b[0;34m(\u001b[0m\u001b[0;34m'No backend matches the criteria'\u001b[0m\u001b[0;34m)\u001b[0m\u001b[0;34m\u001b[0m\u001b[0;34m\u001b[0m\u001b[0m\n\u001b[0m\u001b[1;32m     47\u001b[0m \u001b[0;34m\u001b[0m\u001b[0m\n\u001b[1;32m     48\u001b[0m         \u001b[0;32mreturn\u001b[0m \u001b[0mbackends\u001b[0m\u001b[0;34m[\u001b[0m\u001b[0;36m0\u001b[0m\u001b[0;34m]\u001b[0m\u001b[0;34m\u001b[0m\u001b[0;34m\u001b[0m\u001b[0m\n",
      "\u001b[0;31mQiskitBackendNotFoundError\u001b[0m: 'No backend matches the criteria'"
     ]
    }
   ],
   "source": [
    "simulator = Aer.get_backend('athens')\n",
    "operator = \"encoding-input\"\n",
    "neuron = createNeuron( inputVector, weightVector, operator)\n",
    "resultadoEncoding = executeNeuron(neuron, simulator, threshold=None)\n",
    "print(\"encoding-input\", resultadoEncoding)   \n",
    "operator = \"encoding-weight\"\n",
    "neuron = createNeuron( inputVector, weightVector, operator)\n",
    "resultadoEncoding = executeNeuron(neuron, simulator, threshold=None)\n",
    "print(\"encoding-weight\", resultadoEncoding)   \n",
    "operator = \"hsgs\"\n",
    "neuron = createNeuron(inputVector, weightVector, operator)\n",
    "resultadoHSGS = executeNeuron(neuron, simulator, threshold=None)\n",
    "print(\"hsgs\", resultadoHSGS)\n",
    "\n",
    "resultadoClassico = runClassicalNeuronReturnProbability(inputVector, weightVector)\n",
    "print(\"classico\", resultadoClassico)  "
   ]
  },
  {
   "cell_type": "code",
   "execution_count": 8,
   "metadata": {},
   "outputs": [
    {
     "name": "stdout",
     "output_type": "stream",
     "text": [
      "sf 0.251953125\n"
     ]
    }
   ],
   "source": [
    "operator = \"sf\"\n",
    "neuron = createNeuron( inputVector, weightVector, operator)\n",
    "resultadoEncoding = executeNeuron(neuron, simulator, threshold=None)\n",
    "print(\"sf\", resultadoEncoding)  "
   ]
  },
  {
   "cell_type": "code",
   "execution_count": 9,
   "metadata": {},
   "outputs": [
    {
     "data": {
      "text/html": [
       "<pre style=\"word-wrap: normal;white-space: pre;background: #fff0;line-height: 1.1;font-family: &quot;Courier New&quot;,Courier,monospace\">               ┌───┐┌───┐              ┌───┐┌───┐              ┌───┐»\n",
       " q_input_0: |0>┤ H ├┤ X ├──────■───────┤ X ├┤ X ├──────■───────┤ X ├»\n",
       "               ├───┤└───┘┌─────┴──────┐└───┘└───┘┌─────┴──────┐└───┘»\n",
       " q_input_1: |0>┤ H ├─────┤ U3(0,0,pi) ├──────────┤ U3(0,0,pi) ├─────»\n",
       "               └───┘     └────────────┘          └────────────┘     »\n",
       "q_output_0: |0>─────────────────────────────────────────────────────»\n",
       "                                                                    »\n",
       " c_output_0: 0 ═════════════════════════════════════════════════════»\n",
       "                                                                    »\n",
       "«                          ┌───┐┌───┐                       ┌───┐»\n",
       "« q_input_0: ──────■───────┤ H ├┤ X ├───────────────────────┤ X ├»\n",
       "«            ┌─────┴──────┐├───┤├───┤                       └─┬─┘»\n",
       "« q_input_1: ┤ U3(0,0,pi) ├┤ H ├┤ X ├───────────■─────────────■──»\n",
       "«            └────────────┘└───┘└───┘┌──────────┴──────────┐     »\n",
       "«q_output_0: ────────────────────────┤ U3(pi/2,-pi/2,pi/2) ├─────»\n",
       "«                                    └─────────────────────┘     »\n",
       "«c_output_0: ════════════════════════════════════════════════════»\n",
       "«                                                                »\n",
       "«                                    ┌───┐                          \n",
       "« q_input_0: ───────────■────────────┤ X ├───────────■──────────────\n",
       "«                       │            └─┬─┘           │              \n",
       "« q_input_1: ───────────┼──────────────■─────────────┼──────────────\n",
       "«            ┌──────────┴───────────┐     ┌──────────┴──────────┐┌─┐\n",
       "«q_output_0: ┤ U3(-pi/2,-pi/2,pi/2) ├─────┤ U3(pi/2,-pi/2,pi/2) ├┤M├\n",
       "«            └──────────────────────┘     └─────────────────────┘└╥┘\n",
       "«c_output_0: ═════════════════════════════════════════════════════╩═\n",
       "«                                                                   </pre>"
      ],
      "text/plain": [
       "<qiskit.visualization.text.TextDrawing at 0x1a2730cf98>"
      ]
     },
     "execution_count": 9,
     "metadata": {},
     "output_type": "execute_result"
    }
   ],
   "source": [
    "neuron.draw()"
   ]
  },
  {
   "cell_type": "code",
   "execution_count": 3,
   "metadata": {},
   "outputs": [
    {
     "name": "stderr",
     "output_type": "stream",
     "text": [
      "Fatal read error on socket transport\n",
      "protocol: <asyncio.sslproto.SSLProtocol object at 0x1a2bec4048>\n",
      "transport: <_SelectorSocketTransport fd=66 read=polling write=<idle, bufsize=0>>\n",
      "Traceback (most recent call last):\n",
      "  File \"/anaconda3/lib/python3.7/asyncio/selector_events.py\", line 801, in _read_ready__data_received\n",
      "    data = self._sock.recv(self.max_size)\n",
      "TimeoutError: [Errno 60] Operation timed out\n",
      "Error checking job status using websocket, retrying using HTTP.\n"
     ]
    },
    {
     "name": "stdout",
     "output_type": "stream",
     "text": [
      "hsgs 0.3370361328125\n"
     ]
    },
    {
     "ename": "RequestsApiError",
     "evalue": "400 Client Error: Bad Request for url: https://api.quantum-computing.ibm.com/api/Network/ibm-q/Groups/open/Projects/main/Jobs?access_token=.... The format of the input arguments is incorrect., Error code: 3231.",
     "output_type": "error",
     "traceback": [
      "\u001b[0;31m---------------------------------------------------------------------------\u001b[0m",
      "\u001b[0;31mRequestsApiError\u001b[0m                          Traceback (most recent call last)",
      "\u001b[0;32m<ipython-input-3-c9827604f12b>\u001b[0m in \u001b[0;36m<module>\u001b[0;34m\u001b[0m\n\u001b[1;32m      8\u001b[0m \u001b[0moperator\u001b[0m \u001b[0;34m=\u001b[0m \u001b[0;34m\"encoding-weight\"\u001b[0m\u001b[0;34m\u001b[0m\u001b[0;34m\u001b[0m\u001b[0m\n\u001b[1;32m      9\u001b[0m \u001b[0mneuron\u001b[0m \u001b[0;34m=\u001b[0m \u001b[0mcreateNeuron\u001b[0m\u001b[0;34m(\u001b[0m \u001b[0minputVector\u001b[0m\u001b[0;34m,\u001b[0m \u001b[0mweightVector\u001b[0m\u001b[0;34m,\u001b[0m \u001b[0moperator\u001b[0m\u001b[0;34m)\u001b[0m\u001b[0;34m\u001b[0m\u001b[0;34m\u001b[0m\u001b[0m\n\u001b[0;32m---> 10\u001b[0;31m \u001b[0mresultadoEncoding\u001b[0m \u001b[0;34m=\u001b[0m \u001b[0mexecuteNeuron\u001b[0m\u001b[0;34m(\u001b[0m\u001b[0mneuron\u001b[0m\u001b[0;34m,\u001b[0m \u001b[0msimulator\u001b[0m\u001b[0;34m,\u001b[0m \u001b[0mthreshold\u001b[0m\u001b[0;34m=\u001b[0m\u001b[0;32mNone\u001b[0m\u001b[0;34m)\u001b[0m\u001b[0;34m\u001b[0m\u001b[0;34m\u001b[0m\u001b[0m\n\u001b[0m\u001b[1;32m     11\u001b[0m \u001b[0mprint\u001b[0m\u001b[0;34m(\u001b[0m\u001b[0;34m\"encoding-weight\"\u001b[0m\u001b[0;34m,\u001b[0m \u001b[0mresultadoEncoding\u001b[0m\u001b[0;34m)\u001b[0m\u001b[0;34m\u001b[0m\u001b[0;34m\u001b[0m\u001b[0m\n",
      "\u001b[0;32m~/Dropbox/UFPE/pesquisa/experimentos-quantica/jupyter-quantum/qneuronreal-master-3/qneuronreal/neuron.py\u001b[0m in \u001b[0;36mexecuteNeuron\u001b[0;34m(neuronQuantumCircuit, simulator, threshold, nshots)\u001b[0m\n\u001b[1;32m    118\u001b[0m     \u001b[0mcircuit\u001b[0m \u001b[0;34m=\u001b[0m \u001b[0mneuronQuantumCircuit\u001b[0m\u001b[0;34m\u001b[0m\u001b[0;34m\u001b[0m\u001b[0m\n\u001b[1;32m    119\u001b[0m     \u001b[0mjob\u001b[0m \u001b[0;34m=\u001b[0m \u001b[0mexecute\u001b[0m\u001b[0;34m(\u001b[0m\u001b[0mcircuit\u001b[0m\u001b[0;34m,\u001b[0m \u001b[0mbackend\u001b[0m\u001b[0;34m=\u001b[0m\u001b[0msimulator\u001b[0m\u001b[0;34m,\u001b[0m \u001b[0mshots\u001b[0m\u001b[0;34m=\u001b[0m\u001b[0mnshots\u001b[0m\u001b[0;34m)\u001b[0m\u001b[0;34m\u001b[0m\u001b[0;34m\u001b[0m\u001b[0m\n\u001b[0;32m--> 120\u001b[0;31m     \u001b[0mresult\u001b[0m \u001b[0;34m=\u001b[0m \u001b[0mjob\u001b[0m\u001b[0;34m.\u001b[0m\u001b[0mresult\u001b[0m\u001b[0;34m(\u001b[0m\u001b[0;34m)\u001b[0m\u001b[0;34m\u001b[0m\u001b[0;34m\u001b[0m\u001b[0m\n\u001b[0m\u001b[1;32m    121\u001b[0m     \u001b[0mcount\u001b[0m \u001b[0;34m=\u001b[0m \u001b[0mresult\u001b[0m\u001b[0;34m.\u001b[0m\u001b[0mget_counts\u001b[0m\u001b[0;34m(\u001b[0m\u001b[0;34m)\u001b[0m\u001b[0;34m\u001b[0m\u001b[0;34m\u001b[0m\u001b[0m\n\u001b[1;32m    122\u001b[0m     \u001b[0;31m# print(count)\u001b[0m\u001b[0;34m\u001b[0m\u001b[0;34m\u001b[0m\u001b[0;34m\u001b[0m\u001b[0m\n",
      "\u001b[0;32m/anaconda3/lib/python3.7/site-packages/qiskit/providers/ibmq/job/ibmqjob.py\u001b[0m in \u001b[0;36mresult\u001b[0;34m(self, timeout, wait)\u001b[0m\n\u001b[1;32m    247\u001b[0m             \u001b[0mJobError\u001b[0m\u001b[0;34m:\u001b[0m \u001b[0;32mif\u001b[0m \u001b[0mattempted\u001b[0m \u001b[0mto\u001b[0m \u001b[0mrecover\u001b[0m \u001b[0ma\u001b[0m \u001b[0mresult\u001b[0m \u001b[0mon\u001b[0m \u001b[0ma\u001b[0m \u001b[0mfailed\u001b[0m \u001b[0mjob\u001b[0m\u001b[0;34m.\u001b[0m\u001b[0;34m\u001b[0m\u001b[0;34m\u001b[0m\u001b[0m\n\u001b[1;32m    248\u001b[0m         \"\"\"\n\u001b[0;32m--> 249\u001b[0;31m         \u001b[0mself\u001b[0m\u001b[0;34m.\u001b[0m\u001b[0m_wait_for_completion\u001b[0m\u001b[0;34m(\u001b[0m\u001b[0mtimeout\u001b[0m\u001b[0;34m=\u001b[0m\u001b[0mtimeout\u001b[0m\u001b[0;34m,\u001b[0m \u001b[0mwait\u001b[0m\u001b[0;34m=\u001b[0m\u001b[0mwait\u001b[0m\u001b[0;34m)\u001b[0m\u001b[0;34m\u001b[0m\u001b[0;34m\u001b[0m\u001b[0m\n\u001b[0m\u001b[1;32m    250\u001b[0m \u001b[0;34m\u001b[0m\u001b[0m\n\u001b[1;32m    251\u001b[0m         \u001b[0mstatus\u001b[0m \u001b[0;34m=\u001b[0m \u001b[0mself\u001b[0m\u001b[0;34m.\u001b[0m\u001b[0mstatus\u001b[0m\u001b[0;34m(\u001b[0m\u001b[0;34m)\u001b[0m\u001b[0;34m\u001b[0m\u001b[0;34m\u001b[0m\u001b[0m\n",
      "\u001b[0;32m/anaconda3/lib/python3.7/site-packages/qiskit/providers/ibmq/job/ibmqjob.py\u001b[0m in \u001b[0;36m_wait_for_completion\u001b[0;34m(self, timeout, wait)\u001b[0m\n\u001b[1;32m    544\u001b[0m                 \u001b[0mspecified\u001b[0m \u001b[0mtimeout\u001b[0m\u001b[0;34m.\u001b[0m\u001b[0;34m\u001b[0m\u001b[0;34m\u001b[0m\u001b[0m\n\u001b[1;32m    545\u001b[0m         \"\"\"\n\u001b[0;32m--> 546\u001b[0;31m         \u001b[0mself\u001b[0m\u001b[0;34m.\u001b[0m\u001b[0m_wait_for_submission\u001b[0m\u001b[0;34m(\u001b[0m\u001b[0mtimeout\u001b[0m\u001b[0;34m)\u001b[0m\u001b[0;34m\u001b[0m\u001b[0;34m\u001b[0m\u001b[0m\n\u001b[0m\u001b[1;32m    547\u001b[0m \u001b[0;34m\u001b[0m\u001b[0m\n\u001b[1;32m    548\u001b[0m         \u001b[0;31m# Attempt to use websocket if available.\u001b[0m\u001b[0;34m\u001b[0m\u001b[0;34m\u001b[0m\u001b[0;34m\u001b[0m\u001b[0m\n",
      "\u001b[0;32m/anaconda3/lib/python3.7/site-packages/qiskit/providers/ibmq/job/ibmqjob.py\u001b[0m in \u001b[0;36m_wait_for_submission\u001b[0;34m(self, timeout)\u001b[0m\n\u001b[1;32m    576\u001b[0m                 \u001b[0msubmit_info\u001b[0m \u001b[0;34m=\u001b[0m \u001b[0mself\u001b[0m\u001b[0;34m.\u001b[0m\u001b[0m_future\u001b[0m\u001b[0;34m.\u001b[0m\u001b[0mresult\u001b[0m\u001b[0;34m(\u001b[0m\u001b[0mtimeout\u001b[0m\u001b[0;34m=\u001b[0m\u001b[0mtimeout\u001b[0m\u001b[0;34m)\u001b[0m\u001b[0;34m\u001b[0m\u001b[0;34m\u001b[0m\u001b[0m\n\u001b[1;32m    577\u001b[0m                 \u001b[0;32mif\u001b[0m \u001b[0mself\u001b[0m\u001b[0;34m.\u001b[0m\u001b[0m_future_captured_exception\u001b[0m \u001b[0;32mis\u001b[0m \u001b[0;32mnot\u001b[0m \u001b[0;32mNone\u001b[0m\u001b[0;34m:\u001b[0m\u001b[0;34m\u001b[0m\u001b[0;34m\u001b[0m\u001b[0m\n\u001b[0;32m--> 578\u001b[0;31m                     \u001b[0;32mraise\u001b[0m \u001b[0mself\u001b[0m\u001b[0;34m.\u001b[0m\u001b[0m_future_captured_exception\u001b[0m\u001b[0;34m\u001b[0m\u001b[0;34m\u001b[0m\u001b[0m\n\u001b[0m\u001b[1;32m    579\u001b[0m             \u001b[0;32mexcept\u001b[0m \u001b[0mTimeoutError\u001b[0m \u001b[0;32mas\u001b[0m \u001b[0mex\u001b[0m\u001b[0;34m:\u001b[0m\u001b[0;34m\u001b[0m\u001b[0;34m\u001b[0m\u001b[0m\n\u001b[1;32m    580\u001b[0m                 raise JobTimeoutError(\n",
      "\u001b[0;32m/anaconda3/lib/python3.7/site-packages/qiskit/providers/ibmq/job/ibmqjob.py\u001b[0m in \u001b[0;36m_submit_callback\u001b[0;34m(self)\u001b[0m\n\u001b[1;32m    464\u001b[0m                 submit_info = self._api.submit_job(\n\u001b[1;32m    465\u001b[0m                     \u001b[0mbackend_name\u001b[0m\u001b[0;34m=\u001b[0m\u001b[0mbackend_name\u001b[0m\u001b[0;34m,\u001b[0m\u001b[0;34m\u001b[0m\u001b[0;34m\u001b[0m\u001b[0m\n\u001b[0;32m--> 466\u001b[0;31m                     qobj_dict=self._qobj_payload)\n\u001b[0m\u001b[1;32m    467\u001b[0m             \u001b[0;32mexcept\u001b[0m \u001b[0mException\u001b[0m \u001b[0;32mas\u001b[0m \u001b[0merr\u001b[0m\u001b[0;34m:\u001b[0m  \u001b[0;31m# pylint: disable=broad-except\u001b[0m\u001b[0;34m\u001b[0m\u001b[0;34m\u001b[0m\u001b[0m\n\u001b[1;32m    468\u001b[0m                 \u001b[0;31m# Undefined error during submission:\u001b[0m\u001b[0;34m\u001b[0m\u001b[0;34m\u001b[0m\u001b[0;34m\u001b[0m\u001b[0m\n",
      "\u001b[0;32m/anaconda3/lib/python3.7/site-packages/qiskit/providers/ibmq/api_v2/clients/account.py\u001b[0m in \u001b[0;36msubmit_job\u001b[0;34m(self, qobj_dict, backend_name)\u001b[0m\n\u001b[1;32m    297\u001b[0m     \u001b[0;32mdef\u001b[0m \u001b[0msubmit_job\u001b[0m\u001b[0;34m(\u001b[0m\u001b[0mself\u001b[0m\u001b[0;34m,\u001b[0m \u001b[0mqobj_dict\u001b[0m\u001b[0;34m,\u001b[0m \u001b[0mbackend_name\u001b[0m\u001b[0;34m)\u001b[0m\u001b[0;34m:\u001b[0m\u001b[0;34m\u001b[0m\u001b[0;34m\u001b[0m\u001b[0m\n\u001b[1;32m    298\u001b[0m         \u001b[0;31m# pylint: disable=missing-docstring\u001b[0m\u001b[0;34m\u001b[0m\u001b[0;34m\u001b[0m\u001b[0;34m\u001b[0m\u001b[0m\n\u001b[0;32m--> 299\u001b[0;31m         \u001b[0;32mreturn\u001b[0m \u001b[0mself\u001b[0m\u001b[0;34m.\u001b[0m\u001b[0mjob_submit\u001b[0m\u001b[0;34m(\u001b[0m\u001b[0mbackend_name\u001b[0m\u001b[0;34m,\u001b[0m \u001b[0mqobj_dict\u001b[0m\u001b[0;34m)\u001b[0m\u001b[0;34m\u001b[0m\u001b[0;34m\u001b[0m\u001b[0m\n\u001b[0m\u001b[1;32m    300\u001b[0m \u001b[0;34m\u001b[0m\u001b[0m\n\u001b[1;32m    301\u001b[0m     def get_jobs(self, limit=10, skip=0, backend=None, only_completed=False,\n",
      "\u001b[0;32m/anaconda3/lib/python3.7/site-packages/qiskit/providers/ibmq/api_v2/clients/account.py\u001b[0m in \u001b[0;36mjob_submit\u001b[0;34m(self, backend_name, qobj_dict)\u001b[0m\n\u001b[1;32m    112\u001b[0m             \u001b[0mdict\u001b[0m\u001b[0;34m:\u001b[0m \u001b[0mjob\u001b[0m \u001b[0mstatus\u001b[0m\u001b[0;34m.\u001b[0m\u001b[0;34m\u001b[0m\u001b[0;34m\u001b[0m\u001b[0m\n\u001b[1;32m    113\u001b[0m         \"\"\"\n\u001b[0;32m--> 114\u001b[0;31m         \u001b[0;32mreturn\u001b[0m \u001b[0mself\u001b[0m\u001b[0;34m.\u001b[0m\u001b[0mclient_api\u001b[0m\u001b[0;34m.\u001b[0m\u001b[0msubmit_job\u001b[0m\u001b[0;34m(\u001b[0m\u001b[0mbackend_name\u001b[0m\u001b[0;34m,\u001b[0m \u001b[0mqobj_dict\u001b[0m\u001b[0;34m)\u001b[0m\u001b[0;34m\u001b[0m\u001b[0;34m\u001b[0m\u001b[0m\n\u001b[0m\u001b[1;32m    115\u001b[0m \u001b[0;34m\u001b[0m\u001b[0m\n\u001b[1;32m    116\u001b[0m     \u001b[0;32mdef\u001b[0m \u001b[0mjob_submit_object_storage\u001b[0m\u001b[0;34m(\u001b[0m\u001b[0mself\u001b[0m\u001b[0;34m,\u001b[0m \u001b[0mbackend_name\u001b[0m\u001b[0;34m,\u001b[0m \u001b[0mqobj_dict\u001b[0m\u001b[0;34m)\u001b[0m\u001b[0;34m:\u001b[0m\u001b[0;34m\u001b[0m\u001b[0;34m\u001b[0m\u001b[0m\n",
      "\u001b[0;32m/anaconda3/lib/python3.7/site-packages/qiskit/providers/ibmq/api_v2/rest/root.py\u001b[0m in \u001b[0;36msubmit_job\u001b[0;34m(self, backend_name, qobj_dict)\u001b[0m\n\u001b[1;32m    108\u001b[0m         }\n\u001b[1;32m    109\u001b[0m \u001b[0;34m\u001b[0m\u001b[0m\n\u001b[0;32m--> 110\u001b[0;31m         \u001b[0;32mreturn\u001b[0m \u001b[0mself\u001b[0m\u001b[0;34m.\u001b[0m\u001b[0msession\u001b[0m\u001b[0;34m.\u001b[0m\u001b[0mpost\u001b[0m\u001b[0;34m(\u001b[0m\u001b[0murl\u001b[0m\u001b[0;34m,\u001b[0m \u001b[0mjson\u001b[0m\u001b[0;34m=\u001b[0m\u001b[0mpayload\u001b[0m\u001b[0;34m)\u001b[0m\u001b[0;34m.\u001b[0m\u001b[0mjson\u001b[0m\u001b[0;34m(\u001b[0m\u001b[0;34m)\u001b[0m\u001b[0;34m\u001b[0m\u001b[0;34m\u001b[0m\u001b[0m\n\u001b[0m\u001b[1;32m    111\u001b[0m \u001b[0;34m\u001b[0m\u001b[0m\n\u001b[1;32m    112\u001b[0m     \u001b[0;32mdef\u001b[0m \u001b[0msubmit_job_object_storage\u001b[0m\u001b[0;34m(\u001b[0m\u001b[0mself\u001b[0m\u001b[0;34m,\u001b[0m \u001b[0mbackend_name\u001b[0m\u001b[0;34m,\u001b[0m \u001b[0mshots\u001b[0m\u001b[0;34m=\u001b[0m\u001b[0;36m1\u001b[0m\u001b[0;34m)\u001b[0m\u001b[0;34m:\u001b[0m\u001b[0;34m\u001b[0m\u001b[0;34m\u001b[0m\u001b[0m\n",
      "\u001b[0;32m/anaconda3/lib/python3.7/site-packages/requests/sessions.py\u001b[0m in \u001b[0;36mpost\u001b[0;34m(self, url, data, json, **kwargs)\u001b[0m\n\u001b[1;32m    579\u001b[0m         \"\"\"\n\u001b[1;32m    580\u001b[0m \u001b[0;34m\u001b[0m\u001b[0m\n\u001b[0;32m--> 581\u001b[0;31m         \u001b[0;32mreturn\u001b[0m \u001b[0mself\u001b[0m\u001b[0;34m.\u001b[0m\u001b[0mrequest\u001b[0m\u001b[0;34m(\u001b[0m\u001b[0;34m'POST'\u001b[0m\u001b[0;34m,\u001b[0m \u001b[0murl\u001b[0m\u001b[0;34m,\u001b[0m \u001b[0mdata\u001b[0m\u001b[0;34m=\u001b[0m\u001b[0mdata\u001b[0m\u001b[0;34m,\u001b[0m \u001b[0mjson\u001b[0m\u001b[0;34m=\u001b[0m\u001b[0mjson\u001b[0m\u001b[0;34m,\u001b[0m \u001b[0;34m**\u001b[0m\u001b[0mkwargs\u001b[0m\u001b[0;34m)\u001b[0m\u001b[0;34m\u001b[0m\u001b[0;34m\u001b[0m\u001b[0m\n\u001b[0m\u001b[1;32m    582\u001b[0m \u001b[0;34m\u001b[0m\u001b[0m\n\u001b[1;32m    583\u001b[0m     \u001b[0;32mdef\u001b[0m \u001b[0mput\u001b[0m\u001b[0;34m(\u001b[0m\u001b[0mself\u001b[0m\u001b[0;34m,\u001b[0m \u001b[0murl\u001b[0m\u001b[0;34m,\u001b[0m \u001b[0mdata\u001b[0m\u001b[0;34m=\u001b[0m\u001b[0;32mNone\u001b[0m\u001b[0;34m,\u001b[0m \u001b[0;34m**\u001b[0m\u001b[0mkwargs\u001b[0m\u001b[0;34m)\u001b[0m\u001b[0;34m:\u001b[0m\u001b[0;34m\u001b[0m\u001b[0;34m\u001b[0m\u001b[0m\n",
      "\u001b[0;32m/anaconda3/lib/python3.7/site-packages/qiskit/providers/ibmq/api_v2/session.py\u001b[0m in \u001b[0;36mrequest\u001b[0;34m(self, method, url, bare, **kwargs)\u001b[0m\n\u001b[1;32m    164\u001b[0m                 \u001b[0mmessage\u001b[0m \u001b[0;34m=\u001b[0m \u001b[0mmessage\u001b[0m\u001b[0;34m.\u001b[0m\u001b[0mreplace\u001b[0m\u001b[0;34m(\u001b[0m\u001b[0mself\u001b[0m\u001b[0;34m.\u001b[0m\u001b[0maccess_token\u001b[0m\u001b[0;34m,\u001b[0m \u001b[0;34m'...'\u001b[0m\u001b[0;34m)\u001b[0m\u001b[0;34m\u001b[0m\u001b[0;34m\u001b[0m\u001b[0m\n\u001b[1;32m    165\u001b[0m \u001b[0;34m\u001b[0m\u001b[0m\n\u001b[0;32m--> 166\u001b[0;31m             \u001b[0;32mraise\u001b[0m \u001b[0mRequestsApiError\u001b[0m\u001b[0;34m(\u001b[0m\u001b[0mex\u001b[0m\u001b[0;34m,\u001b[0m \u001b[0mmessage\u001b[0m\u001b[0;34m)\u001b[0m \u001b[0;32mfrom\u001b[0m \u001b[0;32mNone\u001b[0m\u001b[0;34m\u001b[0m\u001b[0;34m\u001b[0m\u001b[0m\n\u001b[0m\u001b[1;32m    167\u001b[0m \u001b[0;34m\u001b[0m\u001b[0m\n\u001b[1;32m    168\u001b[0m         \u001b[0;32mreturn\u001b[0m \u001b[0mresponse\u001b[0m\u001b[0;34m\u001b[0m\u001b[0;34m\u001b[0m\u001b[0m\n",
      "\u001b[0;31mRequestsApiError\u001b[0m: 400 Client Error: Bad Request for url: https://api.quantum-computing.ibm.com/api/Network/ibm-q/Groups/open/Projects/main/Jobs?access_token=.... The format of the input arguments is incorrect., Error code: 3231."
     ]
    }
   ],
   "source": [
    "inputVector = [-1, -1, 1, 1]\n",
    "weightVector = [-1, -1, 1, -1]\n",
    "\n",
    "operator = \"hsgs\"\n",
    "neuron = createNeuron(inputVector, weightVector, operator)\n",
    "resultadoHSGS = executeNeuron(neuron, simulator, threshold=None)\n",
    "print(\"hsgs\", resultadoHSGS)\n",
    "operator = \"encoding-weight\"\n",
    "neuron = createNeuron( inputVector, weightVector, operator)\n",
    "resultadoEncoding = executeNeuron(neuron, simulator, threshold=None)\n",
    "print(\"encoding-weight\", resultadoEncoding)  "
   ]
  },
  {
   "cell_type": "code",
   "execution_count": null,
   "metadata": {},
   "outputs": [],
   "source": [
    "inputVector = [-1, 1, 1, 1]\n",
    "weightVector = [-1, -1, 1, -1]\n",
    "\n",
    "operator = \"hsgs\"\n",
    "neuron = createNeuron(inputVector, weightVector, operator)\n",
    "resultadoHSGS = executeNeuron(neuron, simulator, threshold=None)\n",
    "print(\"hsgs\", resultadoHSGS)\n",
    "operator = \"encoding-weight\"\n",
    "neuron = createNeuron( inputVector, weightVector, operator)\n",
    "resultadoEncoding = executeNeuron(neuron, simulator, threshold=None)\n",
    "print(\"encoding-weight\", resultadoEncoding)  "
   ]
  },
  {
   "cell_type": "code",
   "execution_count": null,
   "metadata": {},
   "outputs": [],
   "source": [
    "inputVector = [1, 1, 1, 1]\n",
    "weightVector = [-1, -1, 1, -1]\n",
    "\n",
    "operator = \"hsgs\"\n",
    "neuron = createNeuron(inputVector, weightVector, operator)\n",
    "resultadoHSGS = executeNeuron(neuron, simulator, threshold=None)\n",
    "print(\"hsgs\", resultadoHSGS)\n",
    "operator = \"encoding-weight\"\n",
    "neuron = createNeuron( inputVector, weightVector, operator)\n",
    "resultadoEncoding = executeNeuron(neuron, simulator, threshold=None)\n",
    "print(\"encoding-weight\", resultadoEncoding)  "
   ]
  },
  {
   "cell_type": "code",
   "execution_count": null,
   "metadata": {},
   "outputs": [],
   "source": []
  },
  {
   "cell_type": "code",
   "execution_count": 26,
   "metadata": {},
   "outputs": [
    {
     "name": "stdout",
     "output_type": "stream",
     "text": [
      "encoding-weight 0.331298828125\n",
      "hsgs 0.640869140625\n",
      "classico 0.9999999999999998\n"
     ]
    }
   ],
   "source": [
    "inputVector = [-1, 1, -1, 1, 1, 1, 1, 1]\n",
    "weightVector = [1, -1, 1, -1, -1, -1, -1, -1]\n",
    "\n",
    "simulator = IBMQ.get_backend(\"ibmq_vigo\") #qasm_simulator #ibmq_santiago\n",
    "\n",
    "\n",
    "operator = \"encoding-weight\"\n",
    "neuron = createNeuron( inputVector, weightVector, operator)\n",
    "resultadoEncoding = executeNeuron(neuron, simulator, threshold=None)\n",
    "print(\"encoding-weight\", resultadoEncoding)   \n",
    "operator = \"hsgs\"\n",
    "neuron = createNeuron(inputVector, weightVector, operator)\n",
    "resultadoHSGS = executeNeuron(neuron, simulator, threshold=None)\n",
    "print(\"hsgs\", resultadoHSGS)\n",
    "\n",
    "resultadoClassico = runClassicalNeuronReturnProbability(inputVector, weightVector)\n",
    "print(\"classico\", resultadoClassico)  "
   ]
  },
  {
   "cell_type": "code",
   "execution_count": 27,
   "metadata": {},
   "outputs": [
    {
     "name": "stdout",
     "output_type": "stream",
     "text": [
      "encoding-weight 0.3863525390625\n",
      "hsgs 0.2685546875\n",
      "classico 0.9999999999999998\n"
     ]
    }
   ],
   "source": [
    "inputVector = [-1, 1, -1, 1, 1, 1, 1, 1]\n",
    "weightVector = [1, -1, 1, -1, -1, -1, -1, -1]\n",
    "\n",
    "simulator = IBMQ.get_backend(\"ibmq_santiago\") #qasm_simulator #ibmq_santiago\n",
    "\n",
    "\n",
    "operator = \"encoding-weight\"\n",
    "neuron = createNeuron( inputVector, weightVector, operator)\n",
    "resultadoEncoding = executeNeuron(neuron, simulator, threshold=None)\n",
    "print(\"encoding-weight\", resultadoEncoding)   \n",
    "operator = \"hsgs\"\n",
    "neuron = createNeuron(inputVector, weightVector, operator)\n",
    "resultadoHSGS = executeNeuron(neuron, simulator, threshold=None)\n",
    "print(\"hsgs\", resultadoHSGS)\n",
    "\n",
    "resultadoClassico = runClassicalNeuronReturnProbability(inputVector, weightVector)\n",
    "print(\"classico\", resultadoClassico)  "
   ]
  },
  {
   "cell_type": "code",
   "execution_count": 28,
   "metadata": {},
   "outputs": [
    {
     "name": "stdout",
     "output_type": "stream",
     "text": [
      "encoding-weight 0.30419921875\n",
      "hsgs 0.4312744140625\n",
      "classico 0.9999999999999998\n"
     ]
    }
   ],
   "source": [
    "inputVector = [-1, 1, -1, 1, 1, 1, 1, 1]\n",
    "weightVector = [1, -1, 1, -1, -1, -1, -1, -1]\n",
    "\n",
    "simulator = IBMQ.get_backend(\"ibmq_valencia\") #qasm_simulator #ibmq_santiago\n",
    "\n",
    "\n",
    "operator = \"encoding-weight\"\n",
    "neuron = createNeuron( inputVector, weightVector, operator)\n",
    "resultadoEncoding = executeNeuron(neuron, simulator, threshold=None)\n",
    "print(\"encoding-weight\", resultadoEncoding)   \n",
    "operator = \"hsgs\"\n",
    "neuron = createNeuron(inputVector, weightVector, operator)\n",
    "resultadoHSGS = executeNeuron(neuron, simulator, threshold=None)\n",
    "print(\"hsgs\", resultadoHSGS)\n",
    "\n",
    "resultadoClassico = runClassicalNeuronReturnProbability(inputVector, weightVector)\n",
    "print(\"classico\", resultadoClassico)  "
   ]
  },
  {
   "cell_type": "code",
   "execution_count": 29,
   "metadata": {},
   "outputs": [
    {
     "name": "stdout",
     "output_type": "stream",
     "text": [
      "encoding-weight 0.3902587890625\n",
      "hsgs 0.666015625\n",
      "classico 0.9999999999999998\n"
     ]
    }
   ],
   "source": [
    "inputVector = [-1, 1, -1, 1, 1, 1, 1, 1]\n",
    "weightVector = [1, -1, 1, -1, -1, -1, -1, -1]\n",
    "\n",
    "simulator = IBMQ.get_backend(\"ibmq_ourense\") #qasm_simulator #ibmq_santiago\n",
    "\n",
    "\n",
    "operator = \"encoding-weight\"\n",
    "neuron = createNeuron( inputVector, weightVector, operator)\n",
    "resultadoEncoding = executeNeuron(neuron, simulator, threshold=None)\n",
    "print(\"encoding-weight\", resultadoEncoding)   \n",
    "operator = \"hsgs\"\n",
    "neuron = createNeuron(inputVector, weightVector, operator)\n",
    "resultadoHSGS = executeNeuron(neuron, simulator, threshold=None)\n",
    "print(\"hsgs\", resultadoHSGS)\n",
    "\n",
    "resultadoClassico = runClassicalNeuronReturnProbability(inputVector, weightVector)\n",
    "print(\"classico\", resultadoClassico)  "
   ]
  },
  {
   "cell_type": "code",
   "execution_count": 30,
   "metadata": {},
   "outputs": [
    {
     "name": "stdout",
     "output_type": "stream",
     "text": [
      "encoding-weight 0.4588623046875\n",
      "hsgs 0.4808349609375\n",
      "classico 0.9999999999999998\n"
     ]
    }
   ],
   "source": [
    "inputVector = [-1, 1, -1, 1, 1, 1, 1, 1]\n",
    "weightVector = [1, -1, 1, -1, -1, -1, -1, -1]\n",
    "\n",
    "simulator = IBMQ.get_backend(\"ibmq_5_yorktown\") #qasm_simulator #ibmq_santiago\n",
    "\n",
    "\n",
    "operator = \"encoding-weight\"\n",
    "neuron = createNeuron( inputVector, weightVector, operator)\n",
    "resultadoEncoding = executeNeuron(neuron, simulator, threshold=None)\n",
    "print(\"encoding-weight\", resultadoEncoding)   \n",
    "operator = \"hsgs\"\n",
    "neuron = createNeuron(inputVector, weightVector, operator)\n",
    "resultadoHSGS = executeNeuron(neuron, simulator, threshold=None)\n",
    "print(\"hsgs\", resultadoHSGS)\n",
    "\n",
    "resultadoClassico = runClassicalNeuronReturnProbability(inputVector, weightVector)\n",
    "print(\"classico\", resultadoClassico)  "
   ]
  },
  {
   "cell_type": "code",
   "execution_count": 31,
   "metadata": {},
   "outputs": [
    {
     "name": "stderr",
     "output_type": "stream",
     "text": [
      "Error checking job status using websocket, retrying using HTTP.\n"
     ]
    },
    {
     "name": "stdout",
     "output_type": "stream",
     "text": [
      "encoding-weight 0.3114013671875\n"
     ]
    },
    {
     "name": "stderr",
     "output_type": "stream",
     "text": [
      "Error checking job status using websocket, retrying using HTTP.\n"
     ]
    },
    {
     "name": "stdout",
     "output_type": "stream",
     "text": [
      "hsgs 0.4378662109375\n",
      "classico 0.9999999999999998\n"
     ]
    }
   ],
   "source": [
    "inputVector = [-1, 1, -1, 1, 1, 1, 1, 1]\n",
    "weightVector = [1, -1, 1, -1, -1, -1, -1, -1]\n",
    "\n",
    "simulator = IBMQ.get_backend(\"ibmq_16_melbourne\") #qasm_simulator #ibmq_santiago\n",
    "\n",
    "\n",
    "operator = \"encoding-weight\"\n",
    "neuron = createNeuron( inputVector, weightVector, operator)\n",
    "resultadoEncoding = executeNeuron(neuron, simulator, threshold=None)\n",
    "print(\"encoding-weight\", resultadoEncoding)   \n",
    "operator = \"hsgs\"\n",
    "neuron = createNeuron(inputVector, weightVector, operator)\n",
    "resultadoHSGS = executeNeuron(neuron, simulator, threshold=None)\n",
    "print(\"hsgs\", resultadoHSGS)\n",
    "\n",
    "resultadoClassico = runClassicalNeuronReturnProbability(inputVector, weightVector)\n",
    "print(\"classico\", resultadoClassico)  "
   ]
  },
  {
   "cell_type": "code",
   "execution_count": null,
   "metadata": {},
   "outputs": [],
   "source": []
  }
 ],
 "metadata": {
  "kernelspec": {
   "display_name": "Python 3",
   "language": "python",
   "name": "python3"
  },
  "language_info": {
   "codemirror_mode": {
    "name": "ipython",
    "version": 3
   },
   "file_extension": ".py",
   "mimetype": "text/x-python",
   "name": "python",
   "nbconvert_exporter": "python",
   "pygments_lexer": "ipython3",
   "version": "3.7.3"
  }
 },
 "nbformat": 4,
 "nbformat_minor": 2
}
