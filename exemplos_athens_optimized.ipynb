{
 "cells": [
  {
   "cell_type": "code",
   "execution_count": 1,
   "metadata": {},
   "outputs": [
    {
     "name": "stderr",
     "output_type": "stream",
     "text": [
      "/Users/gustavoisidio/miniconda3/envs/qiskit/lib/python3.6/site-packages/qiskit/__init__.py:67: DeprecationWarning: Using Qiskit with Python 3.6 is deprecated as of the 0.17.0 release. Support for running Qiskit with Python 3.6 will be removed in a future release.\n",
      "  \"future release.\", DeprecationWarning)\n"
     ]
    }
   ],
   "source": [
    "from encodingsource import InitializerUniformlyRotation\n",
    "from sf import sfGenerator\n",
    "from hsgs import hsgsGenerator\n",
    "import numpy as np\n",
    "import math\n",
    "import random\n",
    "from qiskit import execute, Aer, QuantumRegister, QuantumCircuit, ClassicalRegister\n",
    "from sympy.combinatorics.graycode import GrayCode\n",
    "# from qiskit.aqua.utils.controlled_circuit import apply_cu3\n",
    "from extrafunctions import *\n",
    "from neuron import *\n",
    "\n",
    "from qiskit import *\n",
    "from qiskit.visualization import plot_histogram\n",
    "from qiskit.tools.monitor import job_monitor\n",
    "\n",
    "np.random.seed(7)\n",
    "\n"
   ]
  },
  {
   "cell_type": "code",
   "execution_count": 2,
   "metadata": {},
   "outputs": [
    {
     "data": {
      "text/plain": [
       "<AccountProvider for IBMQ(hub='ibm-q', group='open', project='main')>"
      ]
     },
     "execution_count": 2,
     "metadata": {},
     "output_type": "execute_result"
    }
   ],
   "source": [
    "from qiskit import IBMQ, Aer\n",
    "# IBMQ.delete_account()\n",
    "# IBMQ.save_account()\n",
    "IBMQ.load_account()\n",
    "# provider = IBMQ.load_account()\n",
    "# provider.backends()"
   ]
  },
  {
   "cell_type": "code",
   "execution_count": 3,
   "metadata": {},
   "outputs": [
    {
     "name": "stdout",
     "output_type": "stream",
     "text": [
      "\n",
      "Here is the list of cloud backends that are available to you:\n",
      "ibmq_qasm_simulator\n",
      "ibmqx2\n",
      "ibmq_16_melbourne\n",
      "ibmq_armonk\n",
      "ibmq_athens\n",
      "ibmq_santiago\n",
      "ibmq_lima\n",
      "ibmq_belem\n",
      "ibmq_quito\n",
      "simulator_statevector\n",
      "simulator_mps\n",
      "simulator_extended_stabilizer\n",
      "simulator_stabilizer\n",
      "ibmq_manila\n",
      "\n",
      "Here is the list of local backends that are available to you: \n",
      "aer_simulator\n",
      "aer_simulator_statevector\n",
      "aer_simulator_density_matrix\n",
      "aer_simulator_stabilizer\n",
      "aer_simulator_matrix_product_state\n",
      "aer_simulator_extended_stabilizer\n",
      "aer_simulator_unitary\n",
      "aer_simulator_superop\n",
      "qasm_simulator\n",
      "statevector_simulator\n",
      "unitary_simulator\n",
      "pulse_simulator\n"
     ]
    }
   ],
   "source": [
    "from qiskit import IBMQ, Aer\n",
    "# IBMQ.get_provider(hub='ibm-q', group='open', project='main')\n",
    "provider = IBMQ.get_provider(hub='ibm-q', group='open', project='main')\n",
    "available_cloud_backends = provider.backends() \n",
    "print('\\nHere is the list of cloud backends that are available to you:')\n",
    "for i in available_cloud_backends: print(i)\n",
    "\n",
    "available_local_backends = Aer.backends() \n",
    "print('\\nHere is the list of local backends that are available to you: ')\n",
    "for i in available_local_backends: print(i)"
   ]
  },
  {
   "cell_type": "code",
   "execution_count": 4,
   "metadata": {},
   "outputs": [],
   "source": [
    "# Cloud\n",
    "my_backend  = 'ibmq_athens'\n",
    "simulator  = provider.get_backend(my_backend)"
   ]
  },
  {
   "cell_type": "code",
   "execution_count": 5,
   "metadata": {},
   "outputs": [],
   "source": [
    "# # Local\n",
    "# simulator = Aer.get_backend('qasm_simulator')"
   ]
  },
  {
   "cell_type": "markdown",
   "metadata": {},
   "source": [
    "# Experimento muito simples"
   ]
  },
  {
   "cell_type": "markdown",
   "metadata": {},
   "source": [
    "saca como é simples o experimento...\n",
    "Experimento 1: HSGS\n",
    "peso sempre é esse: weightVector = [1, 1]\n",
    "entradas: [-1, -1], [1, -1], [1, 1]\n",
    "\n",
    "Experimento 2: HSGS\n",
    "peso sempre é esse: weightVector = [1, 1, 1, 1]\n",
    "entradas: [-1, -1, -1, -1], [1, -1, -1, -1], [1, 1, -1, -1], [1, 1, 1, -1], [1, 1, 1, 1]"
   ]
  },
  {
   "cell_type": "code",
   "execution_count": 6,
   "metadata": {},
   "outputs": [],
   "source": [
    "def runNeuron(theInputVector, weightVector):\n",
    "    for i in range (len(theInputVector)):\n",
    "        neuron1 = createNeuron (inputVector=theInputVector[i],\n",
    "                                weightVector=weightVector,\n",
    "                                circuitGeneratorOfUOperator='hsgs',\n",
    "                                ancilla=False)\n",
    "\n",
    "        neuronout, counts = executeNeuron(neuron1,\n",
    "                             simulator=simulator,\n",
    "                             transpileFlag=True,\n",
    "                             optimization_level=3)\n",
    "        print(theInputVector[i], neuronout)\n",
    "        print(counts)\n",
    "        plot_histogram(counts)\n",
    "    "
   ]
  },
  {
   "cell_type": "markdown",
   "metadata": {},
   "source": [
    "## Experimento 1"
   ]
  },
  {
   "cell_type": "code",
   "execution_count": 7,
   "metadata": {},
   "outputs": [
    {
     "name": "stdout",
     "output_type": "stream",
     "text": [
      "[-1, -1] 0.9698486328125\n",
      "{'0': 247, '1': 7945}\n"
     ]
    },
    {
     "name": "stderr",
     "output_type": "stream",
     "text": [
      "Fatal read error on socket transport\n",
      "protocol: <asyncio.sslproto.SSLProtocol object at 0x138c43588>\n",
      "transport: <_SelectorSocketTransport fd=64 read=polling write=<idle, bufsize=0>>\n",
      "Traceback (most recent call last):\n",
      "  File \"/Users/gustavoisidio/miniconda3/envs/qiskit/lib/python3.6/asyncio/selector_events.py\", line 714, in _read_ready\n",
      "    data = self._sock.recv(self.max_size)\n",
      "TimeoutError: [Errno 60] Operation timed out\n"
     ]
    },
    {
     "name": "stdout",
     "output_type": "stream",
     "text": [
      "[1, -1] 0.01513671875\n",
      "{'0': 8068, '1': 124}\n",
      "[1, 1] 0.7900390625\n",
      "{'0': 1720, '1': 6472}\n"
     ]
    }
   ],
   "source": [
    "theInputVector1 = [[-1, -1], [1, -1], [1, 1]]\n",
    "weightVector1=[1, 1]\n",
    "runNeuron(theInputVector=theInputVector1,\n",
    "          weightVector=weightVector1)"
   ]
  },
  {
   "cell_type": "markdown",
   "metadata": {},
   "source": [
    "## Experimento 2"
   ]
  },
  {
   "cell_type": "code",
   "execution_count": 8,
   "metadata": {},
   "outputs": [
    {
     "name": "stdout",
     "output_type": "stream",
     "text": [
      "[-1, -1, -1, -1] 0.5489501953125\n",
      "{'0': 3695, '1': 4497}\n",
      "[1, -1, -1, -1] 0.3651123046875\n",
      "{'0': 5201, '1': 2991}\n",
      "[1, 1, -1, -1] 0.3685302734375\n",
      "{'0': 5173, '1': 3019}\n",
      "[1, 1, 1, -1] 0.3077392578125\n",
      "{'0': 5671, '1': 2521}\n",
      "[1, 1, 1, 1] 0.9122314453125\n",
      "{'0': 719, '1': 7473}\n"
     ]
    }
   ],
   "source": [
    "theInputVector2 = [[-1, -1, -1, -1], [1, -1, -1, -1], [1, 1, -1, -1], [1, 1, 1, -1], [1, 1, 1, 1]]\n",
    "weightVector2=[1, 1, 1, 1]\n",
    "runNeuron(theInputVector=theInputVector2,\n",
    "          weightVector=weightVector2)"
   ]
  },
  {
   "cell_type": "code",
   "execution_count": null,
   "metadata": {},
   "outputs": [],
   "source": []
  }
 ],
 "metadata": {
  "environment": {
   "name": "tf2-gpu.2-3.m74",
   "type": "gcloud",
   "uri": "gcr.io/deeplearning-platform-release/tf2-gpu.2-3:m74"
  },
  "kernelspec": {
   "display_name": "Python 3",
   "language": "python",
   "name": "python3"
  },
  "language_info": {
   "codemirror_mode": {
    "name": "ipython",
    "version": 3
   },
   "file_extension": ".py",
   "mimetype": "text/x-python",
   "name": "python",
   "nbconvert_exporter": "python",
   "pygments_lexer": "ipython3",
   "version": "3.7.10"
  }
 },
 "nbformat": 4,
 "nbformat_minor": 4
}
