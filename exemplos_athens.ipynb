{
 "cells": [
  {
   "cell_type": "code",
   "execution_count": 28,
   "metadata": {},
   "outputs": [],
   "source": [
    "from encodingsource import InitializerUniformlyRotation\n",
    "from sf import sfGenerator\n",
    "from hsgs import hsgsGenerator\n",
    "import numpy as np\n",
    "import math\n",
    "import random\n",
    "from qiskit import execute, Aer, QuantumRegister, QuantumCircuit, ClassicalRegister\n",
    "from sympy.combinatorics.graycode import GrayCode\n",
    "# from qiskit.aqua.utils.controlled_circuit import apply_cu3\n",
    "from extrafunctions import *\n",
    "from neuron import *\n",
    "\n",
    "from qiskit import *\n",
    "from qiskit.visualization import plot_histogram\n",
    "from qiskit.tools.monitor import job_monitor\n",
    "\n",
    "np.random.seed(7)\n",
    "\n"
   ]
  },
  {
   "cell_type": "code",
   "execution_count": 29,
   "metadata": {},
   "outputs": [
    {
     "name": "stderr",
     "output_type": "stream",
     "text": [
      "configrc.store_credentials:WARNING:2021-06-08 17:11:42,611: Credentials already present. Set overwrite=True to overwrite.\n",
      "ibmqfactory.load_account:WARNING:2021-06-08 17:11:43,097: Credentials are already in use. The existing account in the session will be replaced.\n"
     ]
    },
    {
     "data": {
      "text/plain": [
       "<AccountProvider for IBMQ(hub='ibm-q', group='open', project='main')>"
      ]
     },
     "execution_count": 29,
     "metadata": {},
     "output_type": "execute_result"
    }
   ],
   "source": [
    "from qiskit import IBMQ, Aer\n",
    "# IBMQ.delete_account()\n",
    "IBMQ.save_account('6e180b7d965d969ce3f6350e381bde700ffda98202be1183fef7befe018038343f322103ab0eb3068bda7d4314080e1cddcbe0b9714669854d341446b0f1c940')\n",
    "IBMQ.load_account()\n",
    "# provider = IBMQ.load_account()\n",
    "# provider.backends()"
   ]
  },
  {
   "cell_type": "code",
   "execution_count": 30,
   "metadata": {},
   "outputs": [
    {
     "name": "stdout",
     "output_type": "stream",
     "text": [
      "\n",
      "Here is the list of cloud backends that are available to you:\n",
      "ibmq_qasm_simulator\n",
      "ibmqx2\n",
      "ibmq_16_melbourne\n",
      "ibmq_armonk\n",
      "ibmq_athens\n",
      "ibmq_santiago\n",
      "ibmq_lima\n",
      "ibmq_belem\n",
      "ibmq_quito\n",
      "simulator_statevector\n",
      "simulator_mps\n",
      "simulator_extended_stabilizer\n",
      "simulator_stabilizer\n",
      "ibmq_manila\n",
      "\n",
      "Here is the list of local backends that are available to you: \n",
      "aer_simulator\n",
      "aer_simulator_statevector\n",
      "aer_simulator_density_matrix\n",
      "aer_simulator_stabilizer\n",
      "aer_simulator_matrix_product_state\n",
      "aer_simulator_extended_stabilizer\n",
      "aer_simulator_unitary\n",
      "aer_simulator_superop\n",
      "qasm_simulator\n",
      "statevector_simulator\n",
      "unitary_simulator\n",
      "pulse_simulator\n"
     ]
    }
   ],
   "source": [
    "from qiskit import IBMQ, Aer\n",
    "# IBMQ.get_provider(hub='ibm-q', group='open', project='main')\n",
    "provider = IBMQ.get_provider(hub='ibm-q', group='open', project='main')\n",
    "available_cloud_backends = provider.backends() \n",
    "print('\\nHere is the list of cloud backends that are available to you:')\n",
    "for i in available_cloud_backends: print(i)\n",
    "\n",
    "available_local_backends = Aer.backends() \n",
    "print('\\nHere is the list of local backends that are available to you: ')\n",
    "for i in available_local_backends: print(i)"
   ]
  },
  {
   "cell_type": "code",
   "execution_count": 31,
   "metadata": {},
   "outputs": [],
   "source": [
    "# Cloud\n",
    "my_backend  = 'ibmq_athens'\n",
    "simulator  = provider.get_backend(my_backend)"
   ]
  },
  {
   "cell_type": "code",
   "execution_count": 32,
   "metadata": {},
   "outputs": [],
   "source": [
    "# Local\n",
    "# simulator = Aer.get_backend('qasm_simulator')"
   ]
  },
  {
   "cell_type": "markdown",
   "metadata": {},
   "source": [
    "# Experimento muito simples"
   ]
  },
  {
   "cell_type": "markdown",
   "metadata": {},
   "source": [
    "saca como é simples o experimento...\n",
    "Experimento 1: HSGS\n",
    "peso sempre é esse: weightVector = [1, 1]\n",
    "entradas: [-1, -1], [1, -1], [1, 1]\n",
    "\n",
    "Experimento 2: HSGS\n",
    "peso sempre é esse: weightVector = [1, 1, 1, 1]\n",
    "entradas: [-1, -1, -1, -1], [1, -1, -1, -1], [1, 1, -1, -1], [1, 1, 1, -1], [1, 1, 1, 1]"
   ]
  },
  {
   "cell_type": "code",
   "execution_count": 33,
   "metadata": {},
   "outputs": [],
   "source": [
    "def runNeuron(theInputVector, weightVector):\n",
    "    for i in range (len(theInputVector)):\n",
    "        neuron1 = createNeuron (inputVector=theInputVector[i],\n",
    "                                weightVector=weightVector,\n",
    "                                circuitGeneratorOfUOperator='hsgs',\n",
    "                                ancilla=False)\n",
    "\n",
    "        neuronout, counts = executeNeuron(neuron1,\n",
    "                             simulator=simulator,\n",
    "                             nshots=8192)\n",
    "        print(theInputVector[i], neuronout)\n",
    "        print(counts)\n",
    "        plot_histogram(counts)\n",
    "    "
   ]
  },
  {
   "cell_type": "markdown",
   "metadata": {},
   "source": [
    "## Experimento 1"
   ]
  },
  {
   "cell_type": "code",
   "execution_count": 34,
   "metadata": {},
   "outputs": [
    {
     "name": "stdout",
     "output_type": "stream",
     "text": [
      "[-1, -1] 0.9664306640625\n",
      "{'0': 275, '1': 7917}\n",
      "[1, -1] 0.0184326171875\n",
      "{'0': 8041, '1': 151}\n",
      "[1, 1] 0.9664306640625\n",
      "{'0': 275, '1': 7917}\n"
     ]
    }
   ],
   "source": [
    "theInputVector1 = [[-1, -1], [1, -1], [1, 1]]\n",
    "weightVector1=[1, 1]\n",
    "runNeuron(theInputVector=theInputVector1,\n",
    "          weightVector=weightVector1)"
   ]
  },
  {
   "cell_type": "markdown",
   "metadata": {},
   "source": [
    "## Experimento 2"
   ]
  },
  {
   "cell_type": "code",
   "execution_count": 35,
   "metadata": {},
   "outputs": [
    {
     "name": "stdout",
     "output_type": "stream",
     "text": [
      "[-1, -1, -1, -1] 0.8238525390625\n",
      "{'0': 1443, '1': 6749}\n",
      "[1, -1, -1, -1] 0.3070068359375\n",
      "{'0': 5677, '1': 2515}\n",
      "[1, 1, -1, -1] 0.0975341796875\n",
      "{'0': 7393, '1': 799}\n",
      "[1, 1, 1, -1] 0.2716064453125\n",
      "{'0': 5967, '1': 2225}\n",
      "[1, 1, 1, 1] 0.80859375\n",
      "{'0': 1568, '1': 6624}\n"
     ]
    }
   ],
   "source": [
    "theInputVector2 = [[-1, -1, -1, -1], [1, -1, -1, -1], [1, 1, -1, -1], [1, 1, 1, -1], [1, 1, 1, 1]]\n",
    "weightVector2=[1, 1, 1, 1]\n",
    "runNeuron(theInputVector=theInputVector2,\n",
    "          weightVector=weightVector2)"
   ]
  },
  {
   "cell_type": "code",
   "execution_count": null,
   "metadata": {},
   "outputs": [],
   "source": []
  }
 ],
 "metadata": {
  "environment": {
   "name": "tf2-gpu.2-3.m74",
   "type": "gcloud",
   "uri": "gcr.io/deeplearning-platform-release/tf2-gpu.2-3:m74"
  },
  "kernelspec": {
   "display_name": "Python 3",
   "language": "python",
   "name": "python3"
  },
  "language_info": {
   "codemirror_mode": {
    "name": "ipython",
    "version": 3
   },
   "file_extension": ".py",
   "mimetype": "text/x-python",
   "name": "python",
   "nbconvert_exporter": "python",
   "pygments_lexer": "ipython3",
   "version": "3.7.10"
  }
 },
 "nbformat": 4,
 "nbformat_minor": 4
}
