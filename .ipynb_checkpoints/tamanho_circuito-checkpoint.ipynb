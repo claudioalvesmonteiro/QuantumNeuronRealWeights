{
 "cells": [
  {
   "cell_type": "code",
   "execution_count": 10,
   "metadata": {
    "scrolled": true
   },
   "outputs": [
    {
     "name": "stderr",
     "output_type": "stream",
     "text": [
      "ibmqfactory.load_account:WARNING:2020-10-30 00:56:44,819: Credentials are already in use. The existing account in the session will be replaced.\n"
     ]
    },
    {
     "data": {
      "text/plain": [
       "<AccountProvider for IBMQ(hub='ibm-q', group='open', project='main')>"
      ]
     },
     "execution_count": 10,
     "metadata": {},
     "output_type": "execute_result"
    }
   ],
   "source": [
    "from neuron import *\n",
    "from encodingsource import *\n",
    "from hsgs import *\n",
    "from classical_neuron import *\n",
    "from classical_pso import *\n",
    "from sf import *\n",
    "import pandas as pd\n",
    "import numpy as np\n",
    "import matplotlib.pyplot as plt\n",
    "from qiskit import *\n",
    "import random\n",
    "import matplotlib\n",
    "import matplotlib.pyplot as plt\n",
    "import numpy as np\n",
    "from hsgs import dec_to_bin\n",
    "import sys\n",
    "import numpy\n",
    "\n",
    "\n",
    "from qiskit import IBMQ\n",
    "# IBMQ.delete_account()\n",
    "# IBMQ.save_account('')\n",
    "IBMQ.load_account()\n",
    "# my_provider.backends()\n"
   ]
  },
  {
   "cell_type": "code",
   "execution_count": 11,
   "metadata": {},
   "outputs": [],
   "source": [
    "allcombinations_input_weight = [([1, 1, 1, 1], [1, 1, 1, 1]),\n",
    " ([1, 1, 1, 1], [1, 1, 1, -1]),\n",
    " ([1, 1, 1, 1], [1, 1, -1, 1]),\n",
    " ([1, 1, 1, 1], [1, 1, -1, -1]),\n",
    " ([1, 1, 1, 1], [1, -1, 1, 1]),\n",
    " ([1, 1, 1, 1], [1, -1, 1, -1]),\n",
    " ([1, 1, 1, 1], [1, -1, -1, 1]),\n",
    " ([1, 1, 1, 1], [1, -1, -1, -1]),\n",
    " ([1, 1, 1, 1], [-1, 1, 1, 1]),\n",
    " ([1, 1, 1, 1], [-1, 1, 1, -1]),\n",
    " ([1, 1, 1, 1], [-1, 1, -1, 1]),\n",
    " ([1, 1, 1, 1], [-1, 1, -1, -1]),\n",
    " ([1, 1, 1, 1], [-1, -1, 1, 1]),\n",
    " ([1, 1, 1, 1], [-1, -1, 1, -1]),\n",
    " ([1, 1, 1, 1], [-1, -1, -1, 1]),\n",
    " ([1, 1, 1, 1], [-1, -1, -1, -1]),\n",
    " ([1, 1, 1, -1], [1, 1, 1, 1]),\n",
    " ([1, 1, 1, -1], [1, 1, 1, -1]),\n",
    " ([1, 1, 1, -1], [1, 1, -1, 1]),\n",
    " ([1, 1, 1, -1], [1, 1, -1, -1]),\n",
    " ([1, 1, 1, -1], [1, -1, 1, 1]),\n",
    " ([1, 1, 1, -1], [1, -1, 1, -1]),\n",
    " ([1, 1, 1, -1], [1, -1, -1, 1]),\n",
    " ([1, 1, 1, -1], [1, -1, -1, -1]),\n",
    " ([1, 1, 1, -1], [-1, 1, 1, 1]),\n",
    " ([1, 1, 1, -1], [-1, 1, 1, -1]),\n",
    " ([1, 1, 1, -1], [-1, 1, -1, 1]),\n",
    " ([1, 1, 1, -1], [-1, 1, -1, -1]),\n",
    " ([1, 1, 1, -1], [-1, -1, 1, 1]),\n",
    " ([1, 1, 1, -1], [-1, -1, 1, -1]),\n",
    " ([1, 1, 1, -1], [-1, -1, -1, 1]),\n",
    " ([1, 1, 1, -1], [-1, -1, -1, -1]),\n",
    " ([1, 1, -1, 1], [1, 1, 1, 1]),\n",
    " ([1, 1, -1, 1], [1, 1, 1, -1]),\n",
    " ([1, 1, -1, 1], [1, 1, -1, 1]),\n",
    " ([1, 1, -1, 1], [1, 1, -1, -1]),\n",
    " ([1, 1, -1, 1], [1, -1, 1, 1]),\n",
    " ([1, 1, -1, 1], [1, -1, 1, -1]),\n",
    " ([1, 1, -1, 1], [1, -1, -1, 1]),\n",
    " ([1, 1, -1, 1], [1, -1, -1, -1]),\n",
    " ([1, 1, -1, 1], [-1, 1, 1, 1]),\n",
    " ([1, 1, -1, 1], [-1, 1, 1, -1]),\n",
    " ([1, 1, -1, 1], [-1, 1, -1, 1]),\n",
    " ([1, 1, -1, 1], [-1, 1, -1, -1]),\n",
    " ([1, 1, -1, 1], [-1, -1, 1, 1]),\n",
    " ([1, 1, -1, 1], [-1, -1, 1, -1]),\n",
    " ([1, 1, -1, 1], [-1, -1, -1, 1]),\n",
    " ([1, 1, -1, 1], [-1, -1, -1, -1]),\n",
    " ([1, 1, -1, -1], [1, 1, 1, 1]),\n",
    " ([1, 1, -1, -1], [1, 1, 1, -1]),\n",
    " ([1, 1, -1, -1], [1, 1, -1, 1]),\n",
    " ([1, 1, -1, -1], [1, 1, -1, -1]),\n",
    " ([1, 1, -1, -1], [1, -1, 1, 1]),\n",
    " ([1, 1, -1, -1], [1, -1, 1, -1]),\n",
    " ([1, 1, -1, -1], [1, -1, -1, 1]),\n",
    " ([1, 1, -1, -1], [1, -1, -1, -1]),\n",
    " ([1, 1, -1, -1], [-1, 1, 1, 1]),\n",
    " ([1, 1, -1, -1], [-1, 1, 1, -1]),\n",
    " ([1, 1, -1, -1], [-1, 1, -1, 1]),\n",
    " ([1, 1, -1, -1], [-1, 1, -1, -1]),\n",
    " ([1, 1, -1, -1], [-1, -1, 1, 1]),\n",
    " ([1, 1, -1, -1], [-1, -1, 1, -1]),\n",
    " ([1, 1, -1, -1], [-1, -1, -1, 1]),\n",
    " ([1, 1, -1, -1], [-1, -1, -1, -1]),\n",
    " ([1, -1, 1, 1], [1, 1, 1, 1]),\n",
    " ([1, -1, 1, 1], [1, 1, 1, -1]),\n",
    " ([1, -1, 1, 1], [1, 1, -1, 1]),\n",
    " ([1, -1, 1, 1], [1, 1, -1, -1]),\n",
    " ([1, -1, 1, 1], [1, -1, 1, 1]),\n",
    " ([1, -1, 1, 1], [1, -1, 1, -1]),\n",
    " ([1, -1, 1, 1], [1, -1, -1, 1]),\n",
    " ([1, -1, 1, 1], [1, -1, -1, -1]),\n",
    " ([1, -1, 1, 1], [-1, 1, 1, 1]),\n",
    " ([1, -1, 1, 1], [-1, 1, 1, -1]),\n",
    " ([1, -1, 1, 1], [-1, 1, -1, 1]),\n",
    " ([1, -1, 1, 1], [-1, 1, -1, -1]),\n",
    " ([1, -1, 1, 1], [-1, -1, 1, 1]),\n",
    " ([1, -1, 1, 1], [-1, -1, 1, -1]),\n",
    " ([1, -1, 1, 1], [-1, -1, -1, 1]),\n",
    " ([1, -1, 1, 1], [-1, -1, -1, -1]),\n",
    " ([1, -1, 1, -1], [1, 1, 1, 1]),\n",
    " ([1, -1, 1, -1], [1, 1, 1, -1]),\n",
    " ([1, -1, 1, -1], [1, 1, -1, 1]),\n",
    " ([1, -1, 1, -1], [1, 1, -1, -1]),\n",
    " ([1, -1, 1, -1], [1, -1, 1, 1]),\n",
    " ([1, -1, 1, -1], [1, -1, 1, -1]),\n",
    " ([1, -1, 1, -1], [1, -1, -1, 1]),\n",
    " ([1, -1, 1, -1], [1, -1, -1, -1]),\n",
    " ([1, -1, 1, -1], [-1, 1, 1, 1]),\n",
    " ([1, -1, 1, -1], [-1, 1, 1, -1]),\n",
    " ([1, -1, 1, -1], [-1, 1, -1, 1]),\n",
    " ([1, -1, 1, -1], [-1, 1, -1, -1]),\n",
    " ([1, -1, 1, -1], [-1, -1, 1, 1]),\n",
    " ([1, -1, 1, -1], [-1, -1, 1, -1]),\n",
    " ([1, -1, 1, -1], [-1, -1, -1, 1]),\n",
    " ([1, -1, 1, -1], [-1, -1, -1, -1]),\n",
    " ([1, -1, -1, 1], [1, 1, 1, 1]),\n",
    " ([1, -1, -1, 1], [1, 1, 1, -1]),\n",
    " ([1, -1, -1, 1], [1, 1, -1, 1]),\n",
    " ([1, -1, -1, 1], [1, 1, -1, -1]),\n",
    " ([1, -1, -1, 1], [1, -1, 1, 1]),\n",
    " ([1, -1, -1, 1], [1, -1, 1, -1]),\n",
    " ([1, -1, -1, 1], [1, -1, -1, 1]),\n",
    " ([1, -1, -1, 1], [1, -1, -1, -1]),\n",
    " ([1, -1, -1, 1], [-1, 1, 1, 1]),\n",
    " ([1, -1, -1, 1], [-1, 1, 1, -1]),\n",
    " ([1, -1, -1, 1], [-1, 1, -1, 1]),\n",
    " ([1, -1, -1, 1], [-1, 1, -1, -1]),\n",
    " ([1, -1, -1, 1], [-1, -1, 1, 1]),\n",
    " ([1, -1, -1, 1], [-1, -1, 1, -1]),\n",
    " ([1, -1, -1, 1], [-1, -1, -1, 1]),\n",
    " ([1, -1, -1, 1], [-1, -1, -1, -1]),\n",
    " ([1, -1, -1, -1], [1, 1, 1, 1]),\n",
    " ([1, -1, -1, -1], [1, 1, 1, -1]),\n",
    " ([1, -1, -1, -1], [1, 1, -1, 1]),\n",
    " ([1, -1, -1, -1], [1, 1, -1, -1]),\n",
    " ([1, -1, -1, -1], [1, -1, 1, 1]),\n",
    " ([1, -1, -1, -1], [1, -1, 1, -1]),\n",
    " ([1, -1, -1, -1], [1, -1, -1, 1]),\n",
    " ([1, -1, -1, -1], [1, -1, -1, -1]),\n",
    " ([1, -1, -1, -1], [-1, 1, 1, 1]),\n",
    " ([1, -1, -1, -1], [-1, 1, 1, -1]),\n",
    " ([1, -1, -1, -1], [-1, 1, -1, 1]),\n",
    " ([1, -1, -1, -1], [-1, 1, -1, -1]),\n",
    " ([1, -1, -1, -1], [-1, -1, 1, 1]),\n",
    " ([1, -1, -1, -1], [-1, -1, 1, -1]),\n",
    " ([1, -1, -1, -1], [-1, -1, -1, 1]),\n",
    " ([1, -1, -1, -1], [-1, -1, -1, -1]),\n",
    " ([-1, 1, 1, 1], [1, 1, 1, 1]),\n",
    " ([-1, 1, 1, 1], [1, 1, 1, -1]),\n",
    " ([-1, 1, 1, 1], [1, 1, -1, 1]),\n",
    " ([-1, 1, 1, 1], [1, 1, -1, -1]),\n",
    " ([-1, 1, 1, 1], [1, -1, 1, 1]),\n",
    " ([-1, 1, 1, 1], [1, -1, 1, -1]),\n",
    " ([-1, 1, 1, 1], [1, -1, -1, 1]),\n",
    " ([-1, 1, 1, 1], [1, -1, -1, -1]),\n",
    " ([-1, 1, 1, 1], [-1, 1, 1, 1]),\n",
    " ([-1, 1, 1, 1], [-1, 1, 1, -1]),\n",
    " ([-1, 1, 1, 1], [-1, 1, -1, 1]),\n",
    " ([-1, 1, 1, 1], [-1, 1, -1, -1]),\n",
    " ([-1, 1, 1, 1], [-1, -1, 1, 1]),\n",
    " ([-1, 1, 1, 1], [-1, -1, 1, -1]),\n",
    " ([-1, 1, 1, 1], [-1, -1, -1, 1]),\n",
    " ([-1, 1, 1, 1], [-1, -1, -1, -1]),\n",
    " ([-1, 1, 1, -1], [1, 1, 1, 1]),\n",
    " ([-1, 1, 1, -1], [1, 1, 1, -1]),\n",
    " ([-1, 1, 1, -1], [1, 1, -1, 1]),\n",
    " ([-1, 1, 1, -1], [1, 1, -1, -1]),\n",
    " ([-1, 1, 1, -1], [1, -1, 1, 1]),\n",
    " ([-1, 1, 1, -1], [1, -1, 1, -1]),\n",
    " ([-1, 1, 1, -1], [1, -1, -1, 1]),\n",
    " ([-1, 1, 1, -1], [1, -1, -1, -1]),\n",
    " ([-1, 1, 1, -1], [-1, 1, 1, 1]),\n",
    " ([-1, 1, 1, -1], [-1, 1, 1, -1]),\n",
    " ([-1, 1, 1, -1], [-1, 1, -1, 1]),\n",
    " ([-1, 1, 1, -1], [-1, 1, -1, -1]),\n",
    " ([-1, 1, 1, -1], [-1, -1, 1, 1]),\n",
    " ([-1, 1, 1, -1], [-1, -1, 1, -1]),\n",
    " ([-1, 1, 1, -1], [-1, -1, -1, 1]),\n",
    " ([-1, 1, 1, -1], [-1, -1, -1, -1]),\n",
    " ([-1, 1, -1, 1], [1, 1, 1, 1]),\n",
    " ([-1, 1, -1, 1], [1, 1, 1, -1]),\n",
    " ([-1, 1, -1, 1], [1, 1, -1, 1]),\n",
    " ([-1, 1, -1, 1], [1, 1, -1, -1]),\n",
    " ([-1, 1, -1, 1], [1, -1, 1, 1]),\n",
    " ([-1, 1, -1, 1], [1, -1, 1, -1]),\n",
    " ([-1, 1, -1, 1], [1, -1, -1, 1]),\n",
    " ([-1, 1, -1, 1], [1, -1, -1, -1]),\n",
    " ([-1, 1, -1, 1], [-1, 1, 1, 1]),\n",
    " ([-1, 1, -1, 1], [-1, 1, 1, -1]),\n",
    " ([-1, 1, -1, 1], [-1, 1, -1, 1]),\n",
    " ([-1, 1, -1, 1], [-1, 1, -1, -1]),\n",
    " ([-1, 1, -1, 1], [-1, -1, 1, 1]),\n",
    " ([-1, 1, -1, 1], [-1, -1, 1, -1]),\n",
    " ([-1, 1, -1, 1], [-1, -1, -1, 1]),\n",
    " ([-1, 1, -1, 1], [-1, -1, -1, -1]),\n",
    " ([-1, 1, -1, -1], [1, 1, 1, 1]),\n",
    " ([-1, 1, -1, -1], [1, 1, 1, -1]),\n",
    " ([-1, 1, -1, -1], [1, 1, -1, 1]),\n",
    " ([-1, 1, -1, -1], [1, 1, -1, -1]),\n",
    " ([-1, 1, -1, -1], [1, -1, 1, 1]),\n",
    " ([-1, 1, -1, -1], [1, -1, 1, -1]),\n",
    " ([-1, 1, -1, -1], [1, -1, -1, 1]),\n",
    " ([-1, 1, -1, -1], [1, -1, -1, -1]),\n",
    " ([-1, 1, -1, -1], [-1, 1, 1, 1]),\n",
    " ([-1, 1, -1, -1], [-1, 1, 1, -1]),\n",
    " ([-1, 1, -1, -1], [-1, 1, -1, 1]),\n",
    " ([-1, 1, -1, -1], [-1, 1, -1, -1]),\n",
    " ([-1, 1, -1, -1], [-1, -1, 1, 1]),\n",
    " ([-1, 1, -1, -1], [-1, -1, 1, -1]),\n",
    " ([-1, 1, -1, -1], [-1, -1, -1, 1]),\n",
    " ([-1, 1, -1, -1], [-1, -1, -1, -1]),\n",
    " ([-1, -1, 1, 1], [1, 1, 1, 1]),\n",
    " ([-1, -1, 1, 1], [1, 1, 1, -1]),\n",
    " ([-1, -1, 1, 1], [1, 1, -1, 1]),\n",
    " ([-1, -1, 1, 1], [1, 1, -1, -1]),\n",
    " ([-1, -1, 1, 1], [1, -1, 1, 1]),\n",
    " ([-1, -1, 1, 1], [1, -1, 1, -1]),\n",
    " ([-1, -1, 1, 1], [1, -1, -1, 1]),\n",
    " ([-1, -1, 1, 1], [1, -1, -1, -1]),\n",
    " ([-1, -1, 1, 1], [-1, 1, 1, 1]),\n",
    " ([-1, -1, 1, 1], [-1, 1, 1, -1]),\n",
    " ([-1, -1, 1, 1], [-1, 1, -1, 1]),\n",
    " ([-1, -1, 1, 1], [-1, 1, -1, -1]),\n",
    " ([-1, -1, 1, 1], [-1, -1, 1, 1]),\n",
    " ([-1, -1, 1, 1], [-1, -1, 1, -1]),\n",
    " ([-1, -1, 1, 1], [-1, -1, -1, 1]),\n",
    " ([-1, -1, 1, 1], [-1, -1, -1, -1]),\n",
    " ([-1, -1, 1, -1], [1, 1, 1, 1]),\n",
    " ([-1, -1, 1, -1], [1, 1, 1, -1]),\n",
    " ([-1, -1, 1, -1], [1, 1, -1, 1]),\n",
    " ([-1, -1, 1, -1], [1, 1, -1, -1]),\n",
    " ([-1, -1, 1, -1], [1, -1, 1, 1]),\n",
    " ([-1, -1, 1, -1], [1, -1, 1, -1]),\n",
    " ([-1, -1, 1, -1], [1, -1, -1, 1]),\n",
    " ([-1, -1, 1, -1], [1, -1, -1, -1]),\n",
    " ([-1, -1, 1, -1], [-1, 1, 1, 1]),\n",
    " ([-1, -1, 1, -1], [-1, 1, 1, -1]),\n",
    " ([-1, -1, 1, -1], [-1, 1, -1, 1]),\n",
    " ([-1, -1, 1, -1], [-1, 1, -1, -1]),\n",
    " ([-1, -1, 1, -1], [-1, -1, 1, 1]),\n",
    " ([-1, -1, 1, -1], [-1, -1, 1, -1]),\n",
    " ([-1, -1, 1, -1], [-1, -1, -1, 1]),\n",
    " ([-1, -1, 1, -1], [-1, -1, -1, -1]),\n",
    " ([-1, -1, -1, 1], [1, 1, 1, 1]),\n",
    " ([-1, -1, -1, 1], [1, 1, 1, -1]),\n",
    " ([-1, -1, -1, 1], [1, 1, -1, 1]),\n",
    " ([-1, -1, -1, 1], [1, 1, -1, -1]),\n",
    " ([-1, -1, -1, 1], [1, -1, 1, 1]),\n",
    " ([-1, -1, -1, 1], [1, -1, 1, -1]),\n",
    " ([-1, -1, -1, 1], [1, -1, -1, 1]),\n",
    " ([-1, -1, -1, 1], [1, -1, -1, -1]),\n",
    " ([-1, -1, -1, 1], [-1, 1, 1, 1]),\n",
    " ([-1, -1, -1, 1], [-1, 1, 1, -1]),\n",
    " ([-1, -1, -1, 1], [-1, 1, -1, 1]),\n",
    " ([-1, -1, -1, 1], [-1, 1, -1, -1]),\n",
    " ([-1, -1, -1, 1], [-1, -1, 1, 1]),\n",
    " ([-1, -1, -1, 1], [-1, -1, 1, -1]),\n",
    " ([-1, -1, -1, 1], [-1, -1, -1, 1]),\n",
    " ([-1, -1, -1, 1], [-1, -1, -1, -1]),\n",
    " ([-1, -1, -1, -1], [1, 1, 1, 1]),\n",
    " ([-1, -1, -1, -1], [1, 1, 1, -1]),\n",
    " ([-1, -1, -1, -1], [1, 1, -1, 1]),\n",
    " ([-1, -1, -1, -1], [1, 1, -1, -1]),\n",
    " ([-1, -1, -1, -1], [1, -1, 1, 1]),\n",
    " ([-1, -1, -1, -1], [1, -1, 1, -1]),\n",
    " ([-1, -1, -1, -1], [1, -1, -1, 1]),\n",
    " ([-1, -1, -1, -1], [1, -1, -1, -1]),\n",
    " ([-1, -1, -1, -1], [-1, 1, 1, 1]),\n",
    " ([-1, -1, -1, -1], [-1, 1, 1, -1]),\n",
    " ([-1, -1, -1, -1], [-1, 1, -1, 1]),\n",
    " ([-1, -1, -1, -1], [-1, 1, -1, -1]),\n",
    " ([-1, -1, -1, -1], [-1, -1, 1, 1]),\n",
    " ([-1, -1, -1, -1], [-1, -1, 1, -1]),\n",
    " ([-1, -1, -1, -1], [-1, -1, -1, 1]),\n",
    " ([-1, -1, -1, -1], [-1, -1, -1, -1])]"
   ]
  },
  {
   "cell_type": "code",
   "execution_count": 12,
   "metadata": {},
   "outputs": [],
   "source": [
    "def compareCircuitSize(testSet=allcombinations_input_weight):\n",
    "    \n",
    "    simulator = Aer.get_backend('qasm_simulator')\n",
    "    print(\"Using local qasm_simulator\", \"testSet size:\", len(testSet))\n",
    "\n",
    "    sizeHSGS = []\n",
    "    sizeEncoding = []\n",
    "    \n",
    "    for i in range(len(testSet)):\n",
    "        \n",
    "        print(i, end = '')\n",
    "        \n",
    "        (inputVector, weightVector) = testSet[i]\n",
    "\n",
    "        # HSGS\n",
    "        operator = \"hsgs\"\n",
    "        neuron = createNeuron(inputVector, weightVector, operator)\n",
    "        sizeHSGS.append(neuron.size())\n",
    "\n",
    "        # encoding-weight\n",
    "        operator = \"encoding-weight\"\n",
    "        neuron = createNeuron( inputVector, weightVector, operator)\n",
    "        sizeEncoding.append(neuron.size())\n",
    "    \n",
    "    return [sizeHSGS, sizeEncoding]"
   ]
  },
  {
   "cell_type": "markdown",
   "metadata": {},
   "source": [
    "### n=2"
   ]
  },
  {
   "cell_type": "code",
   "execution_count": 14,
   "metadata": {},
   "outputs": [],
   "source": [
    "random.shuffle(allcombinations_input_weight)\n",
    "testSet = allcombinations_input_weight[:4]"
   ]
  },
  {
   "cell_type": "code",
   "execution_count": 15,
   "metadata": {},
   "outputs": [
    {
     "name": "stdout",
     "output_type": "stream",
     "text": [
      "Using local qasm_simulator testSet size: 4\n",
      "0123"
     ]
    },
    {
     "data": {
      "text/plain": [
       "[[13, 15, 16, 15], [17, 17, 18, 17]]"
      ]
     },
     "execution_count": 15,
     "metadata": {},
     "output_type": "execute_result"
    }
   ],
   "source": [
    "compareCircuitSize(testSet)"
   ]
  },
  {
   "cell_type": "markdown",
   "metadata": {},
   "source": [
    "### n=4"
   ]
  },
  {
   "cell_type": "code",
   "execution_count": 8,
   "metadata": {},
   "outputs": [],
   "source": [
    "testSet = [([-1, 1, 1, -1, -1, -1, 1, 1], [-1, 1, 1, -1, -1, -1, 1, -1]),\n",
    "           ([1, -1, 1, -1, -1, -1, 1, 1], [-1, -1, 1, -1, 1, -1, 1, -1]),\n",
    "           ([-1, 1, 1, -1, 1, -1, -1, 1], [-1, 1, 1, -1, -1, -1, -1, 1]),\n",
    "           ([-1, 1, 1, -1, -1, -1, 1, 1], [-1, 1, -1, -1, -1, 1, 1, -1])]"
   ]
  },
  {
   "cell_type": "code",
   "execution_count": 9,
   "metadata": {},
   "outputs": [
    {
     "name": "stdout",
     "output_type": "stream",
     "text": [
      "Using local qasm_simulator testSet size: 4\n",
      "0123"
     ]
    },
    {
     "data": {
      "text/plain": [
       "[[34, 37, 35, 34], [57, 58, 57, 57]]"
      ]
     },
     "execution_count": 9,
     "metadata": {},
     "output_type": "execute_result"
    }
   ],
   "source": [
    "compareCircuitSize(testSet)"
   ]
  },
  {
   "cell_type": "code",
   "execution_count": null,
   "metadata": {},
   "outputs": [],
   "source": []
  },
  {
   "cell_type": "code",
   "execution_count": null,
   "metadata": {},
   "outputs": [],
   "source": []
  },
  {
   "cell_type": "code",
   "execution_count": 3,
   "metadata": {},
   "outputs": [],
   "source": [
    "athensResult = [[1.0, 0.25, 0.0],\n",
    "                [0.9095458984375, 0.273193359375, 0.0880126953125],\n",
    "                [0.84765625, 0.2803955078125, 0.090576171875]]"
   ]
  },
  {
   "cell_type": "code",
   "execution_count": 4,
   "metadata": {},
   "outputs": [],
   "source": [
    "simulatorResult = [[1.0, 0.25, 0.0],\n",
    "                   [1.0, 0.248046875, 0.0],\n",
    "                   [1.0, 0.250732421875, 0.0]]"
   ]
  },
  {
   "cell_type": "code",
   "execution_count": 5,
   "metadata": {},
   "outputs": [],
   "source": [
    "classical = simulatorResult[0]\n",
    "hsgsSimulator = simulatorResult[1]\n",
    "hsgsAthens = athensResult[1]\n",
    "encodingSimulator = simulatorResult[2]\n",
    "encodingAthens = athensResult[2]"
   ]
  },
  {
   "cell_type": "code",
   "execution_count": 6,
   "metadata": {},
   "outputs": [
    {
     "data": {
      "image/png": "[encoded data removed]",
      "text/plain": [
       "<Figure size 432x288 with 1 Axes>"
      ]
     },
     "metadata": {
      "needs_background": "light"
     },
     "output_type": "display_data"
    }
   ],
   "source": [
    "x = np.arange(len(encodingSimulator))  # the label locations\n",
    "width = 0.16  # the width of the bars\n",
    "\n",
    "# Set position of bar on X axis\n",
    "r1 = np.arange(len(classical))\n",
    "r2 = [x + width for x in r1]\n",
    "r3 = [x + width for x in r2]\n",
    "r4 = [x + width for x in r3]\n",
    "r5 = [x + width for x in r4]\n",
    "\n",
    "fig, ax = plt.subplots()\n",
    "\n",
    "rects1 = ax.bar(r1, classical, width, label='classical')\n",
    "\n",
    "rects2 = ax.bar(r2, hsgsSimulator, width, label='simulator hsgs')\n",
    "rects3 = ax.bar(r3, encodingSimulator, width, label='simulator encoding')\n",
    "\n",
    "rects4 = ax.bar(r4, hsgsAthens, width, label='athens hsgs')\n",
    "rects5 = ax.bar(r5, encodingAthens, width, label='athens encoding')\n",
    "\n",
    "# Add some text for labels, title and custom x-axis tick labels, etc.\n",
    "ax.set_ylabel('Neuron Output')\n",
    "ax.set_title('Output from a couple of samples')\n",
    "ax.set_xticks(x)\n",
    "ax.legend()\n",
    "\n",
    "fig.tight_layout()\n",
    "\n",
    "plt.show()"
   ]
  },
  {
   "cell_type": "code",
   "execution_count": 7,
   "metadata": {},
   "outputs": [
    {
     "data": {
      "image/png": "[encoded data removed]",
      "text/plain": [
       "<Figure size 432x288 with 1 Axes>"
      ]
     },
     "metadata": {
      "needs_background": "light"
     },
     "output_type": "display_data"
    }
   ],
   "source": [
    "x = np.arange(len(encodingSimulator))  # the label locations\n",
    "width = 0.25  # the width of the bars\n",
    "\n",
    "# Set position of bar on X axis\n",
    "r1 = np.arange(len(classical))\n",
    "r2 = [x + width for x in r1]\n",
    "r3 = [x + width for x in r2]\n",
    "\n",
    "fig, ax = plt.subplots()\n",
    "rects1 = ax.bar(r1, classical, width, label='classical')\n",
    "rects1 = ax.bar(r2, encodingSimulator, width, label='simulator')\n",
    "rects2 = ax.bar(r3, encodingAthens, width, label='athens')\n",
    "\n",
    "# Add some text for labels, title and custom x-axis tick labels, etc.\n",
    "ax.set_ylabel('Neuron Output')\n",
    "ax.set_title('Encoding-weight output from a couple of samples')\n",
    "ax.set_xticks(x)\n",
    "ax.legend()\n",
    "\n",
    "fig.tight_layout()\n",
    "\n",
    "plt.show()"
   ]
  },
  {
   "cell_type": "code",
   "execution_count": 8,
   "metadata": {},
   "outputs": [
    {
     "data": {
      "image/png": "[encoded data removed]",
      "text/plain": [
       "<Figure size 432x288 with 1 Axes>"
      ]
     },
     "metadata": {
      "needs_background": "light"
     },
     "output_type": "display_data"
    }
   ],
   "source": [
    "x = np.arange(len(encodingSimulator))  # the label locations\n",
    "width = 0.25  # the width of the bars\n",
    "\n",
    "# Set position of bar on X axis\n",
    "r1 = np.arange(len(classical))\n",
    "r2 = [x + width for x in r1]\n",
    "r3 = [x + width for x in r2]\n",
    "\n",
    "fig, ax = plt.subplots()\n",
    "rects1 = ax.bar(r1, classical, width, label='classical')\n",
    "rects1 = ax.bar(r2, hsgsSimulator, width, label='simulator')\n",
    "rects2 = ax.bar(r3, hsgsAthens, width, label='athens')\n",
    "\n",
    "# Add some text for labels, title and custom x-axis tick labels, etc.\n",
    "ax.set_ylabel('Neuron Output')\n",
    "ax.set_title('HSGS output from a couple of samples')\n",
    "ax.set_xticks(x)\n",
    "ax.legend()\n",
    "\n",
    "fig.tight_layout()\n",
    "\n",
    "plt.show()"
   ]
  },
  {
   "cell_type": "code",
   "execution_count": null,
   "metadata": {},
   "outputs": [],
   "source": []
  }
 ],
 "metadata": {
  "kernelspec": {
   "display_name": "Python 3",
   "language": "python",
   "name": "python3"
  },
  "language_info": {
   "codemirror_mode": {
    "name": "ipython",
    "version": 3
   },
   "file_extension": ".py",
   "mimetype": "text/x-python",
   "name": "python",
   "nbconvert_exporter": "python",
   "pygments_lexer": "ipython3",
   "version": "3.8.3"
  }
 },
 "nbformat": 4,
 "nbformat_minor": 2
}
