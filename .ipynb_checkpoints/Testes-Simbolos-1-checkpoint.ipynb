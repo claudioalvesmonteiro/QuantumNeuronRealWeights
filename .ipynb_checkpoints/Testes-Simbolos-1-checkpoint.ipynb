{
 "cells": [
  {
   "cell_type": "code",
   "execution_count": 1,
   "metadata": {},
   "outputs": [
    {
     "name": "stderr",
     "output_type": "stream",
     "text": [
      "/anaconda3/lib/python3.7/site-packages/requests/__init__.py:91: RequestsDependencyWarning: urllib3 (1.25.10) or chardet (3.0.4) doesn't match a supported version!\n",
      "  RequestsDependencyWarning)\n"
     ]
    }
   ],
   "source": [
    "from neuron import *\n",
    "from encodingsource import *\n",
    "from hsgs import *\n",
    "from classical_neuron import *\n",
    "from classical_pso import *\n",
    "from sf import *\n",
    "simulator = Aer.get_backend('qasm_simulator')\n",
    "import pandas as pd\n",
    "import numpy as np\n",
    "import matplotlib.pyplot as plt\n"
   ]
  },
  {
   "cell_type": "markdown",
   "metadata": {},
   "source": [
    "### Criando neuronio usando hsgs, sf, encoding e comparando com o resultado clássico\n"
   ]
  },
  {
   "cell_type": "code",
   "execution_count": 5,
   "metadata": {},
   "outputs": [
    {
     "name": "stdout",
     "output_type": "stream",
     "text": [
      "encoding-input 0.0465087890625\n",
      "encoding-weight 0.21630859375\n",
      "hsgs 0.25537109375\n",
      "classico 0.21734167312340363\n"
     ]
    }
   ],
   "source": [
    "inputVector = [-1,-1,1,1]#[1,1,1,1,1,1,1,1,1,1,1,1,1,1,1,1]#[1, 1, 1, 1, -1, 1, -1, 1, 1, 1, 1, 1, 1, 1, 1, 1]\n",
    "weightVector = [1,1,-1,1] #[-1,1,-1,-1,1,1,1,1,1,1,1,1,1,1,1,1]#[1, -1, 1, 1, -1, 1, 1, -1, -1, 1, 1, 1, 1, -1, 1, 1]\n",
    "\n",
    "inputVector = [-1, 1, 1, 1, -1, 1, 1, -1, 1, -1, -1, -1, 1, 1, -1, -1, -1, -1, -1, 1, -1, -1, -1, -1, -1, 1, -1, 1, -1, -1, -1, 1, 1, -1, -1, -1, -1, -1, -1, 1, -1, 1, 1, -1, -1, -1, 1, -1, 1, -1, -1, -1, -1, -1, 1, -1, 1, -1, 1, 1, -1, 1, 1, -1]\n",
    "weightVector = [-0.03216409993230598, -0.1520999574184498, 0.11549307734856797, 0.07819667776917735, -0.08683451299393112, 0.07428209202455867, -0.011628350965060036, -0.058852035623669065, 0.02091024109530386, 0.18422984345689053, -0.12001327917718091, -0.17281808213991004, 0.004445115622186578, 0.09949334308845695, 0.0644906589346581, 0.17559849756856852, -0.088707282935652, -0.017908127406289862, -0.1026406028784107, 0.1885141061843412, 0.04853405915763267, -0.1894412214705037, -0.18971428207273894, -0.16080045829897144, -0.14494276618814597, 0.16133137423246743, 0.032410503109816365, 0.1554236889112614, -0.18999964114222914, -0.02773208631445002, -0.1769047447607832, 0.07340800548043382, 0.04977970093090443, -0.18319674721020804, -0.1611156274775103, -0.08041675891466839, -0.10661038807499998, -0.15819257805946796, -0.07129341872229379, 0.17219959076743557, -0.012891323765141861, 0.13884392920174257, -0.03493177735039414, -0.16967932466594843, -0.1344533324680956, 0.07710909951302578, 0.16230727329009179, -0.11811109546183819, 0.05762967585657125, 0.15720292553372192, -0.16562784891930163, -0.07348394951216673, -0.1298264325738957, -0.06989954242058431, 0.1662649564426879, 0.15549686702988463, -0.1345078290406552, 0.07132344671653838, 0.13820247035438069, -0.06455638157173038, 0.1549689794465881, -0.18061152100490427, 0.021178877641755214, -0.15711833018132063]\n",
    "\n",
    "operator = \"encoding-input\"\n",
    "neuron = createNeuron( inputVector, weightVector, operator)\n",
    "resultadoEncoding = executeNeuron(neuron, simulator, threshold=None)\n",
    "print(\"encoding-input\", resultadoEncoding)   \n",
    "operator = \"encoding-weight\"\n",
    "neuron = createNeuron( inputVector, weightVector, operator)\n",
    "resultadoEncoding = executeNeuron(neuron, simulator, threshold=None)\n",
    "print(\"encoding-weight\", resultadoEncoding)   \n",
    "operator = \"hsgs\"\n",
    "neuron = createNeuron(inputVector, weightVector, operator)\n",
    "resultadoHSGS = executeNeuron(neuron, simulator, threshold=None)\n",
    "print(\"hsgs\", resultadoHSGS)\n",
    "\n",
    "resultadoClassico = runClassicalNeuronReturnProbability(inputVector, weightVector)\n",
    "print(\"classico\", resultadoClassico)  "
   ]
  },
  {
   "cell_type": "markdown",
   "metadata": {},
   "source": []
  },
  {
   "cell_type": "code",
   "execution_count": null,
   "metadata": {},
   "outputs": [],
   "source": []
  },
  {
   "cell_type": "code",
   "execution_count": null,
   "metadata": {},
   "outputs": [],
   "source": []
  },
  {
   "cell_type": "markdown",
   "metadata": {},
   "source": []
  },
  {
   "cell_type": "code",
   "execution_count": null,
   "metadata": {},
   "outputs": [],
   "source": []
  },
  {
   "cell_type": "markdown",
   "metadata": {},
   "source": []
  },
  {
   "cell_type": "code",
   "execution_count": null,
   "metadata": {
    "scrolled": true
   },
   "outputs": [],
   "source": []
  },
  {
   "cell_type": "markdown",
   "metadata": {},
   "source": []
  },
  {
   "cell_type": "code",
   "execution_count": null,
   "metadata": {
    "scrolled": true
   },
   "outputs": [],
   "source": []
  },
  {
   "cell_type": "markdown",
   "metadata": {},
   "source": []
  },
  {
   "cell_type": "code",
   "execution_count": null,
   "metadata": {},
   "outputs": [],
   "source": []
  },
  {
   "cell_type": "markdown",
   "metadata": {},
   "source": [
    "### Treinando neuronio Quântico com Regra Delta"
   ]
  },
  {
   "cell_type": "code",
   "execution_count": null,
   "metadata": {},
   "outputs": [],
   "source": []
  },
  {
   "cell_type": "code",
   "execution_count": null,
   "metadata": {},
   "outputs": [],
   "source": []
  },
  {
   "cell_type": "markdown",
   "metadata": {},
   "source": [
    "## Treinando Base simples, que possui 2 classes alvo - não finalizado"
   ]
  },
  {
   "cell_type": "markdown",
   "metadata": {},
   "source": [
    "## nao finalizado"
   ]
  },
  {
   "cell_type": "code",
   "execution_count": 112,
   "metadata": {},
   "outputs": [
    {
     "name": "stdout",
     "output_type": "stream",
     "text": [
      "[[-1, 1, 1, -1, 1, -1, -1, 1, 1, -1, -1, 1, -1, 1, 1, -1], [-1, -1, -1, -1, -1, 1, 1, -1, -1, 1, 1, -1, -1, -1, -1, -1], [1, -1, -1, 1, -1, 1, 1, -1, -1, 1, 1, -1, 1, -1, -1, 1]]\n",
      "[0, 1, 2]\n",
      "[[-1, 1, -1, -1, 1, -1, -1, 1, 1, -1, -1, 1, -1, 1, 1, -1], [-1, 1, 1, -1, 1, -1, -1, 1, 1, -1, -1, -1, -1, 1, 1, -1], [-1, -1, -1, -1, -1, -1, 1, -1, -1, 1, 1, -1, -1, -1, -1, -1], [-1, -1, -1, -1, -1, 1, 1, -1, -1, -1, 1, -1, -1, -1, -1, -1], [1, -1, -1, -1, -1, 1, 1, -1, -1, 1, 1, -1, 1, -1, -1, 1], [1, 1, -1, 1, -1, 1, 1, -1, -1, 1, 1, -1, 1, -1, -1, 1]]\n",
      "[0, 0, 1, 1, 2, 2]\n"
     ]
    }
   ],
   "source": [
    "import matplotlib.pyplot as plt\n",
    "from mpl_toolkits.mplot3d import Axes3D\n",
    "from sklearn import datasets\n",
    "from sklearn.decomposition import PCA\n",
    "from sklearn.model_selection import train_test_split\n",
    "\n",
    "\n",
    "X1 = [-1,  1,  1, -1,\n",
    "       1, -1, -1,  1,\n",
    "       1, -1, -1,  1,\n",
    "      -1,  1,  1, -1]\n",
    "\n",
    "Q1 = [-1, -1, -1, -1,\n",
    "      -1,  1,  1, -1,\n",
    "      -1,  1,  1, -1,\n",
    "      -1, -1, -1, -1]\n",
    "\n",
    "C1 = [ 1, -1, -1,  1,\n",
    "      -1,  1,  1, -1,\n",
    "      -1,  1,  1, -1,\n",
    "       1, -1, -1,  1]\n",
    "\n",
    "X2 = [-1,  1, -1, -1,\n",
    "       1, -1, -1,  1,\n",
    "       1, -1, -1,  1,\n",
    "      -1,  1,  1, -1]\n",
    "X3 = [-1,  1,  1, -1,\n",
    "       1, -1, -1,  1,\n",
    "       1, -1, -1, -1,\n",
    "      -1,  1,  1, -1]\n",
    "\n",
    "Q2 = [-1, -1, -1, -1,\n",
    "      -1, -1,  1, -1,\n",
    "      -1,  1,  1, -1,\n",
    "      -1, -1, -1, -1]\n",
    "Q3 = [-1, -1, -1, -1,\n",
    "      -1,  1,  1, -1,\n",
    "      -1, -1,  1, -1,\n",
    "      -1, -1, -1, -1]\n",
    "C2 = [ 1, -1, -1, -1,\n",
    "      -1,  1,  1, -1,\n",
    "      -1,  1,  1, -1,\n",
    "       1, -1, -1,  1]\n",
    "C3 = [ 1,  1, -1,  1,\n",
    "      -1,  1,  1, -1,\n",
    "      -1,  1,  1, -1,\n",
    "       1, -1, -1,  1]\n",
    "\n",
    "#X = [[-1,-1,-1,-1], [1,-1,-1,-1],[1,1,1,-1], [1,1,-1,-1]]\n",
    "#y = [0,0,1,1]\n",
    "\n",
    "#Xs_train, Xs_test, ys_train, ys_test = train_test_split(X, y, test_size=0.5, stratify=y,  random_state = 123)\n",
    "\n",
    "Xs_train = [X1, Q1, C1]\n",
    "ys_train = [0, 1, 2]\n",
    "\n",
    "Xs_test = [X2, X3, Q2, Q3, C2, C3]\n",
    "ys_test = [0, 0, 1, 1, 2, 2]\n",
    "print(Xs_train)\n",
    "print(ys_train)\n",
    "print(Xs_test)\n",
    "print(ys_test)\n",
    "\n"
   ]
  },
  {
   "cell_type": "code",
   "execution_count": 90,
   "metadata": {},
   "outputs": [
    {
     "name": "stdout",
     "output_type": "stream",
     "text": [
      "taxa de aprendizado 0.1\n",
      "erro HSGS 0.74853515625 erro encoding 0.7535400390625\n",
      "erro HSGS 0.7574462890625 erro encoding 0.689208984375\n",
      "erro HSGS 0.749755859375 erro encoding 0.653564453125\n",
      "erro HSGS 0.752685546875 erro encoding 0.59716796875\n",
      "erro HSGS 0.74951171875 erro encoding 0.557373046875\n",
      "erro HSGS 0.748291015625 erro encoding 0.5264892578125\n",
      "erro HSGS 0.7474365234375 erro encoding 0.4931640625\n",
      "erro HSGS 0.7491455078125 erro encoding 0.472900390625\n",
      "erro HSGS 0.7508544921875 erro encoding 0.4486083984375\n",
      "erro HSGS 0.75048828125 erro encoding 0.4263916015625\n",
      "erro HSGS 0.7545166015625 erro encoding 0.399658203125\n",
      "erro HSGS 0.75830078125 erro encoding 0.3831787109375\n",
      "erro HSGS 0.748046875 erro encoding 0.357421875\n",
      "erro HSGS 0.7508544921875 erro encoding 0.3555908203125\n",
      "erro HSGS 0.0 erro encoding 0.34130859375\n",
      "erro HSGS 0.0 erro encoding 0.3319091796875\n",
      "erro HSGS 0.0 erro encoding 0.3143310546875\n",
      "erro HSGS 0.0 erro encoding 0.2967529296875\n",
      "erro HSGS 0.0 erro encoding 0.303466796875\n",
      "erro HSGS 0.0 erro encoding 0.290771484375\n",
      "erro HSGS 0.0 erro encoding 0.2681884765625\n",
      "erro HSGS 0.0 erro encoding 0.2689208984375\n",
      "erro HSGS 0.0 erro encoding 0.2640380859375\n",
      "erro HSGS 0.0 erro encoding 0.258544921875\n",
      "erro HSGS 0.0 erro encoding 0.2469482421875\n",
      "erro HSGS 0.0 erro encoding 0.235595703125\n",
      "erro HSGS 0.0 erro encoding 0.2430419921875\n",
      "erro HSGS 0.0 erro encoding 0.2337646484375\n",
      "erro HSGS 0.0 erro encoding 0.21484375\n",
      "erro HSGS 0.0 erro encoding 0.2183837890625\n",
      "erro HSGS 0.0 erro encoding 0.22265625\n",
      "erro HSGS 0.0 erro encoding 0.21337890625\n",
      "erro HSGS 0.0 erro encoding 0.2125244140625\n",
      "erro HSGS 0.0 erro encoding 0.2032470703125\n",
      "erro HSGS 0.0 erro encoding 0.201416015625\n",
      "erro HSGS 0.0 erro encoding 0.1954345703125\n",
      "erro HSGS 0.0 erro encoding 0.1944580078125\n",
      "erro HSGS 0.0 erro encoding 0.1925048828125\n",
      "erro HSGS 0.0 erro encoding 0.1865234375\n",
      "erro HSGS 0.0 erro encoding 0.1781005859375\n",
      "erro HSGS 0.0 erro encoding 0.188720703125\n",
      "erro HSGS 0.0 erro encoding 0.16552734375\n",
      "erro HSGS 0.0 erro encoding 0.1690673828125\n",
      "erro HSGS 0.0 erro encoding 0.171630859375\n",
      "erro HSGS 0.0 erro encoding 0.17333984375\n",
      "erro HSGS 0.0 erro encoding 0.170654296875\n",
      "erro HSGS 0.0 erro encoding 0.1630859375\n",
      "erro HSGS 0.0 erro encoding 0.158203125\n",
      "erro HSGS 0.0 erro encoding 0.1630859375\n",
      "erro HSGS 0.0 erro encoding 0.16064453125\n",
      "erro HSGS 0.0 erro encoding 0.1522216796875\n",
      "erro HSGS 0.0 erro encoding 0.1480712890625\n",
      "erro HSGS 0.0 erro encoding 0.1517333984375\n",
      "erro HSGS 0.0 erro encoding 0.1513671875\n",
      "erro HSGS 0.0 erro encoding 0.1558837890625\n",
      "erro HSGS 0.0 erro encoding 0.1483154296875\n",
      "erro HSGS 0.0 erro encoding 0.1419677734375\n",
      "erro HSGS 0.0 erro encoding 0.14013671875\n",
      "erro HSGS 0.0 erro encoding 0.1407470703125\n",
      "erro HSGS 0.0 erro encoding 0.145751953125\n",
      "erro HSGS 0.0 erro encoding 0.1392822265625\n",
      "erro HSGS 0.0 erro encoding 0.1397705078125\n",
      "erro HSGS 0.0 erro encoding 0.1365966796875\n",
      "erro HSGS 0.0 erro encoding 0.1409912109375\n",
      "erro HSGS 0.0 erro encoding 0.1337890625\n",
      "erro HSGS 0.0 erro encoding 0.1243896484375\n",
      "erro HSGS 0.0 erro encoding 0.13720703125\n",
      "erro HSGS 0.0 erro encoding 0.1251220703125\n",
      "erro HSGS 0.0 erro encoding 0.1297607421875\n",
      "erro HSGS 0.0 erro encoding 0.127197265625\n",
      "erro HSGS 0.0 erro encoding 0.12255859375\n",
      "erro HSGS 0.0 erro encoding 0.123046875\n",
      "erro HSGS 0.0 erro encoding 0.1212158203125\n",
      "erro HSGS 0.0 erro encoding 0.1201171875\n",
      "erro HSGS 0.0 erro encoding 0.117919921875\n",
      "erro HSGS 0.0 erro encoding 0.124267578125\n",
      "erro HSGS 0.0 erro encoding 0.11767578125\n",
      "erro HSGS 0.0 erro encoding 0.1239013671875\n",
      "erro HSGS 0.0 erro encoding 0.1129150390625\n",
      "erro HSGS 0.0 erro encoding 0.1175537109375\n",
      "erro HSGS 0.0 erro encoding 0.1143798828125\n",
      "erro HSGS 0.0 erro encoding 0.11279296875\n",
      "erro HSGS 0.0 erro encoding 0.1187744140625\n",
      "erro HSGS 0.0 erro encoding 0.114013671875\n",
      "erro HSGS 0.0 erro encoding 0.1102294921875\n",
      "erro HSGS 0.0 erro encoding 0.107666015625\n",
      "erro HSGS 0.0 erro encoding 0.1168212890625\n",
      "erro HSGS 0.0 erro encoding 0.1051025390625\n",
      "erro HSGS 0.0 erro encoding 0.107421875\n",
      "erro HSGS 0.0 erro encoding 0.111083984375\n",
      "erro HSGS 0.0 erro encoding 0.106689453125\n",
      "erro HSGS 0.0 erro encoding 0.104736328125\n",
      "erro HSGS 0.0 erro encoding 0.102294921875\n",
      "erro HSGS 0.0 erro encoding 0.1048583984375\n",
      "erro HSGS 0.0 erro encoding 0.10791015625\n",
      "erro HSGS 0.0 erro encoding 0.0987548828125\n",
      "erro HSGS 0.0 erro encoding 0.0975341796875\n",
      "erro HSGS 0.0 erro encoding 0.0972900390625\n",
      "erro HSGS 0.0 erro encoding 0.0928955078125\n",
      "erro HSGS 0.0 erro encoding 0.1025390625\n",
      "erros [0.0, 0.0] [0.0, 0.1025390625]\n"
     ]
    }
   ],
   "source": [
    "\n",
    "thresholdParameter = 0.5\n",
    "\n",
    "def treinamentoNeuronio(operator,inputVector, weightVector, y_train):\n",
    "    if (operator == \"hsgs\"):\n",
    "        wBinaryBinary = deterministicBinarization(weightVector) # Binarization of Real weights\n",
    "        neuron = createNeuron(inputVector, wBinaryBinary, operator)\n",
    "        resultado = executeNeuron(neuron, simulator, threshold=None)\n",
    "        deltaRule(inputVector, weightVector, threshold=thresholdParameter, lr=lrParameter, y_train=y_train, out=resultado)\n",
    "        return resultado\n",
    "    elif (operator == \"encoding-weight\"):\n",
    "        #wBinaryBinary = deterministicBinarization(weightVector) # Binarization of Real weights\n",
    "        neuron = createNeuron(inputVector, weightVector, operator)\n",
    "        resultado = executeNeuron(neuron, simulator, threshold=None)\n",
    "        deltaRule(inputVector, weightVector, threshold=thresholdParameter, lr=lrParameter, y_train=y_train, out=resultado)\n",
    "        return resultado\n",
    "        \n",
    "        \n",
    "nClasses = 3\n",
    "weightVectorsHSGS = []#[[-1, -1, -1, -1], [1, 1, 1, -1]]#[[-1, -1, -1, -1], [-1, -1, -1, -1]]#[[1,1,1,1]]*nClasses\n",
    "weightVectorsEncoding = []#[[-1, -1, -1, -1], [1, 1, 1, -1]]#[[-1, -1, -1, -1], [-1, -1, -1, -1]]#[[1,1,1,1]]*nClasses\n",
    "\n",
    "input_dim = 2**4\n",
    "\n",
    "for i in range(nClasses):\n",
    "    weightVectorHSGS.append(deterministicBinarization(np.random.uniform(-1, 1, input_dim)))\n",
    "    weightVectorsEncoding.append(deterministicBinarization(np.random.uniform(-1, 1, input_dim)))\n",
    "\n",
    "limiarErroToleravel = 0.03\n",
    "\n",
    "n_epochs = 100\n",
    "for lrParameter in [0.1]:\n",
    "    print(\"taxa de aprendizado\",lrParameter )\n",
    "    tamTreinamento = len(Xs_train)\n",
    "\n",
    "    for iteration in range(n_epochs):\n",
    "        erroHSGS = 0\n",
    "        erroEncoding = 0\n",
    "\n",
    "        errosHSGS=[]\n",
    "        errosEncoding = []\n",
    "        for posicaoTreinamento in range(tamTreinamento):\n",
    "            \n",
    "            inputVector = Xs_train[posicaoTreinamento] # inputVectors[posicaoTreinamento]\n",
    "            y_train = ys_train[posicaoTreinamento]\n",
    "\n",
    "            #print(inputVector, y_train)\n",
    "\n",
    "            \"\"\"\n",
    "            executando o HSGS\n",
    "            \"\"\"\n",
    "            operator = \"hsgs\"\n",
    "            resultadoHSGS = treinamentoNeuronio(operator,inputVector, weightVectorsHSGS[y_train], y_train=1)\n",
    "            \"\"\"\n",
    "            executando o encoding\n",
    "            \"\"\"\n",
    "            operator = \"encoding-weight\"\n",
    "            resultadoEncoding = treinamentoNeuronio(operator,inputVector, weightVectorsEncoding[y_train], y_train=1)\n",
    "\n",
    "            #print(\"PESOS ENCODING\",weightVectorsEncoding)\n",
    "\n",
    "\n",
    "            #print(\"resultadoHSGS\", resultadoHSGS)\n",
    "            #print(\"encoding\", resultadoEncoding)\n",
    "            \"\"\"\n",
    "            erros\n",
    "            \"\"\"\n",
    "            \"\"\"\n",
    "            #old\n",
    "            resultadoEncoding_bin = 0\n",
    "            if abs(resultadoEncoding) > threshold:\n",
    "                resultadoEncoding_bin = 1\n",
    "\n",
    "            resultadoHSGS_bin = 0\n",
    "            if abs(resultadoHSGS) > threshold:\n",
    "                resultadoHSGS_bin = 1\n",
    "\n",
    "\n",
    "            erroHSGS += abs(resultadoHSGS_bin)####abs(resultadoHSGS_bin-y_train)\n",
    "            erroEncoding += abs(resultadoEncoding_bin)####abs(resultadoEncoding_bin-y_train)\n",
    "            \"\"\"\n",
    "            errosHSGS.append(1-resultadoHSGS)\n",
    "            errosEncoding.append(1-resultadoEncoding)\n",
    "\n",
    "            erroHSGS += abs(1-resultadoHSGS)####abs(resultadoHSGS_bin-y_train)\n",
    "            erroEncoding += abs(1-resultadoEncoding)####abs(resultadoEncoding_bin-y_train)\n",
    "            \n",
    "        print(\"erro HSGS\", erroHSGS, \"erro encoding\", erroEncoding)\n",
    "        #print(\"erros\", errosHSGS, errosEncoding)\n",
    "        #if erroEncoding < limiarErroToleravel or erroHSGS < limiarErroToleravel:\n",
    "        #        break\n",
    "    print(\"erros\", errosHSGS, errosEncoding)\n"
   ]
  },
  {
   "cell_type": "markdown",
   "metadata": {},
   "source": [
    "## Fazendo teste"
   ]
  },
  {
   "cell_type": "code",
   "execution_count": 110,
   "metadata": {
    "scrolled": false
   },
   "outputs": [
    {
     "name": "stdout",
     "output_type": "stream",
     "text": [
      "[[-2.0515869140625003, 0.05158691406250002, 0.05158691406250002, 0.05158691406250002], [1.0, 1.0, 1.0, -1.0]]\n",
      "[[-1.1274536132812496, 3.127453613281249, 3.127453613281249, 3.127453613281249], [1.0, 1.0, 1.0, -1.0]]\n",
      "\n",
      "erro HSGS 1 erro encoding 0\n"
     ]
    }
   ],
   "source": [
    "erroHSGS = 0\n",
    "erroEncoding = 0\n",
    "\n",
    "limiar=0.5\n",
    "\n",
    "print(weightVectorsHSGS)\n",
    "\n",
    "\n",
    "\n",
    "print(weightVectorsEncoding)\n",
    "\n",
    "for posicaoTreinamento in range(len(Xs_test)):\n",
    "\n",
    "    inputVector = Xs_test[posicaoTreinamento] # inputVectors[posicaoTreinamento]\n",
    "    y_train = ys_test[posicaoTreinamento]\n",
    "    \n",
    "    valorMaiorHSGS=0\n",
    "    neuronMaiorHSGS=0\n",
    "    \n",
    "    valorMaiorEncoding=0\n",
    "    neuronMaiorEncoding=0\n",
    "    \n",
    "    for neuronClass in range(nClasses):\n",
    "        operator = \"hsgs\"\n",
    "        wBinaryBinary = deterministicBinarization(weightVectorsHSGS[neuronClass]) # Binarization of Real weights\n",
    "        neuron = createNeuron(inputVector, wBinaryBinary, operator)\n",
    "        resultadoHSGS1 = executeNeuron(neuron, simulator, threshold=None)\n",
    "        \n",
    "        if(resultadoHSGS1>valorMaiorHSGS):\n",
    "            neuronMaiorHSGS = neuronClass\n",
    "            valorMaiorHSGS = resultadoHSGS1\n",
    "        \n",
    "        operator = \"encoding-weight\"\n",
    "        #wBinaryBinary = deterministicBinarization(weightVectorsEncoding[neuronClass]) # Binarization of Real weights\n",
    "        neuron = createNeuron(inputVector, weightVectorsEncoding[neuronClass], operator)\n",
    "        resultadoEncoding1 = executeNeuron(neuron, simulator, threshold=None)\n",
    "\n",
    "        if(resultadoEncoding1 > valorMaiorEncoding):\n",
    "            neuronMaiorEncoding = neuronClass\n",
    "            valorMaiorEncoding = resultadoEncoding1\n",
    "            \n",
    "        \n",
    "    \"\"\"\n",
    "    erros\n",
    "    \"\"\"\n",
    "    erroHSGS_bin = 0\n",
    "    if (neuronMaiorHSGS != y_train):   \n",
    "        erroHSGS_bin = 1\n",
    "    \n",
    "    erroEncoding_bin = 0\n",
    "    if (neuronMaiorEncoding != y_train):   \n",
    "        erroEncoding_bin = 1\n",
    "    \n",
    "      \n",
    "    #print(\"\\nerro Encoding:\", abs(resultadoEncoding_bin-y_train))\n",
    "    #print(\"erro HSGS:\", abs(resultadoHSGS_bin-y_train))\n",
    "    erroHSGS += erroHSGS_bin####abs(resultadoHSGS_bin-y_train)\n",
    "    erroEncoding += erroEncoding_bin####abs(resultadoEncoding_bin-y_train)\n",
    "print()\n",
    "print(\"erro HSGS\", erroHSGS, \"erro encoding\", erroEncoding)"
   ]
  },
  {
   "cell_type": "code",
   "execution_count": null,
   "metadata": {},
   "outputs": [],
   "source": []
  },
  {
   "cell_type": "code",
   "execution_count": null,
   "metadata": {},
   "outputs": [],
   "source": []
  }
 ],
 "metadata": {
  "kernelspec": {
   "display_name": "Python 3",
   "language": "python",
   "name": "python3"
  },
  "language_info": {
   "codemirror_mode": {
    "name": "ipython",
    "version": 3
   },
   "file_extension": ".py",
   "mimetype": "text/x-python",
   "name": "python",
   "nbconvert_exporter": "python",
   "pygments_lexer": "ipython3",
   "version": "3.7.3"
  }
 },
 "nbformat": 4,
 "nbformat_minor": 4
}
