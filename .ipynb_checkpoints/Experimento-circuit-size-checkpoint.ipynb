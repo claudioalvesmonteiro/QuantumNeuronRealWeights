{
 "cells": [
  {
   "cell_type": "code",
   "execution_count": 5,
   "metadata": {
    "scrolled": false
   },
   "outputs": [
    {
     "name": "stderr",
     "output_type": "stream",
     "text": [
      "ibmqfactory.load_account:WARNING:2020-10-23 13:19:27,756: Credentials are already in use. The existing account in the session will be replaced.\n"
     ]
    },
    {
     "data": {
      "text/plain": [
       "<AccountProvider for IBMQ(hub='ibm-q', group='open', project='main')>"
      ]
     },
     "execution_count": 5,
     "metadata": {},
     "output_type": "execute_result"
    }
   ],
   "source": [
    "from neuron import *\n",
    "from encodingsource import *\n",
    "from hsgs import *\n",
    "from classical_neuron import *\n",
    "from classical_pso import *\n",
    "from sf import *\n",
    "import pandas as pd\n",
    "import numpy as np\n",
    "import matplotlib.pyplot as plt\n",
    "from qiskit import *\n",
    "import random\n",
    "import matplotlib\n",
    "import matplotlib.pyplot as plt\n",
    "import numpy as np\n",
    "\n",
    "\n",
    "from qiskit import IBMQ\n",
    "# IBMQ.delete_account()\n",
    "# IBMQ.save_account('')\n",
    "IBMQ.load_account()\n",
    "# my_provider.backends()\n"
   ]
  },
  {
   "cell_type": "code",
   "execution_count": 6,
   "metadata": {},
   "outputs": [
    {
     "data": {
      "text/plain": [
       "[<IBMQSimulator('ibmq_qasm_simulator') from IBMQ(hub='ibm-q', group='open', project='main')>,\n",
       " <IBMQBackend('ibmqx2') from IBMQ(hub='ibm-q', group='open', project='main')>,\n",
       " <IBMQBackend('ibmq_16_melbourne') from IBMQ(hub='ibm-q', group='open', project='main')>,\n",
       " <IBMQBackend('ibmq_vigo') from IBMQ(hub='ibm-q', group='open', project='main')>,\n",
       " <IBMQBackend('ibmq_ourense') from IBMQ(hub='ibm-q', group='open', project='main')>,\n",
       " <IBMQBackend('ibmq_valencia') from IBMQ(hub='ibm-q', group='open', project='main')>,\n",
       " <IBMQBackend('ibmq_armonk') from IBMQ(hub='ibm-q', group='open', project='main')>,\n",
       " <IBMQBackend('ibmq_athens') from IBMQ(hub='ibm-q', group='open', project='main')>,\n",
       " <IBMQBackend('ibmq_santiago') from IBMQ(hub='ibm-q', group='open', project='main')>]"
      ]
     },
     "execution_count": 6,
     "metadata": {},
     "output_type": "execute_result"
    }
   ],
   "source": [
    "my_provider = IBMQ.get_provider()\n",
    "my_provider.backends()"
   ]
  },
  {
   "cell_type": "code",
   "execution_count": 7,
   "metadata": {},
   "outputs": [],
   "source": [
    "def compareAll(testSet=None, runLocal=False, backend='ibmq_qasm_simulator'):\n",
    "    \n",
    "    my_provider = IBMQ.get_provider()\n",
    "    simulator  = my_provider.get_backend(backend)\n",
    "    \n",
    "    if runLocal:\n",
    "        simulator = Aer.get_backend('qasm_simulator')\n",
    "        print(\"Using local qasm_simulator\", \"testSet size:\", len(testSet))\n",
    "    else: print(\"Using backend:\", backend, \"testSet size:\", len(testSet))\n",
    "    \n",
    "    classicalResult = []\n",
    "    hsgsResult = []\n",
    "    encodingWeightResult = []\n",
    "    \n",
    "    for i in range(len(testSet)):\n",
    "        \n",
    "        print(i, end = '')\n",
    "        \n",
    "        (inputVector, weightVector) = testSet[i]\n",
    "\n",
    "        # Classico\n",
    "        resultadoClassico = runClassicalNeuronReturnProbability(inputVector, weightVector)\n",
    "        classicalResult.append(resultadoClassico)\n",
    "\n",
    "        # HSGS\n",
    "        operator = \"hsgs\"\n",
    "        neuron = createNeuron(inputVector, weightVector, operator)\n",
    "#         print(neuron)\n",
    "        resultadoHSGS = executeNeuron(neuron, simulator, threshold=None)\n",
    "        hsgsResult.append(resultadoHSGS)\n",
    "\n",
    "        # encoding-weight\n",
    "        operator = \"encoding-weight\"\n",
    "        neuron = createNeuron( inputVector, weightVector, operator)\n",
    "        resultadoEncoding = executeNeuron(neuron, simulator, threshold=None)\n",
    "        encodingWeightResult.append(resultadoEncoding)\n",
    "    \n",
    "    return [classicalResult, hsgsResult, encodingWeightResult]\n"
   ]
  },
  {
   "cell_type": "code",
   "execution_count": 8,
   "metadata": {},
   "outputs": [
    {
     "data": {
      "text/plain": [
       "[([-1, 1, -1, 1, 1, 1, 1, 1], [1, -1, 1, -1, -1, -1, -1, -1]),\n",
       " ([-1, 1, 1, 1, 1, 1, -1, -1], [1, -1, 1, 1, 1, -1, -1, -1]),\n",
       " ([1, -1, 1, -1, -1, -1, -1, -1], [1, -1, 1, -1, 1, -1, -1, -1]),\n",
       " ([1, 1, -1, -1, -1, -1, -1, 1], [1, 1, -1, -1, -1, -1, 1, -1])]"
      ]
     },
     "execution_count": 8,
     "metadata": {},
     "output_type": "execute_result"
    }
   ],
   "source": [
    "testSet = [([-1, 1, -1, 1, 1, 1, 1, 1], [1, -1, 1, -1, -1, -1, -1, -1]),\n",
    "           ([-1, 1, 1, 1, 1, 1, -1, -1], [1, -1, 1, 1, 1, -1, -1, -1]),\n",
    "           ([1, -1, 1, -1, -1, -1, -1, -1], [1, -1, 1, -1, 1, -1, -1, -1]),\n",
    "           ([1, 1, -1, -1, -1, -1, -1, 1], [1, 1, -1, -1, -1, -1, 1, -1])]\n",
    "testSet"
   ]
  },
  {
   "cell_type": "code",
   "execution_count": 9,
   "metadata": {
    "scrolled": false
   },
   "outputs": [
    {
     "name": "stdout",
     "output_type": "stream",
     "text": [
      "Using backend: ibmq_athens testSet size: 4\n",
      "0123"
     ]
    },
    {
     "data": {
      "text/plain": [
       "[[0.9999999999999998,\n",
       "  0.06249999999999997,\n",
       "  0.5624999999999998,\n",
       "  0.2499999999999999],\n",
       " [0.2613525390625, 0.3045654296875, 0.2919921875, 0.3243408203125],\n",
       " [0.3140869140625, 0.357177734375, 0.3372802734375, 0.3497314453125]]"
      ]
     },
     "execution_count": 9,
     "metadata": {},
     "output_type": "execute_result"
    }
   ],
   "source": [
    "athensResult = compareAll(testSet=testSet,\n",
    "                        runLocal=False,\n",
    "                        backend='ibmq_athens')\n",
    "athensResult"
   ]
  },
  {
   "cell_type": "code",
   "execution_count": 10,
   "metadata": {},
   "outputs": [
    {
     "name": "stdout",
     "output_type": "stream",
     "text": [
      "Using backend: ibmq_qasm_simulator testSet size: 4\n",
      "0123"
     ]
    },
    {
     "data": {
      "text/plain": [
       "[[0.9999999999999998,\n",
       "  0.06249999999999997,\n",
       "  0.5624999999999998,\n",
       "  0.2499999999999999],\n",
       " [1.0, 0.0626220703125, 0.5670166015625, 0.2506103515625],\n",
       " [1.0, 0.0623779296875, 0.5653076171875, 0.2447509765625]]"
      ]
     },
     "execution_count": 10,
     "metadata": {},
     "output_type": "execute_result"
    }
   ],
   "source": [
    "simulatorResult = compareAll(testSet=testSet,\n",
    "                             runLocal=False,\n",
    "                             backend='ibmq_qasm_simulator')\n",
    "simulatorResult"
   ]
  },
  {
   "cell_type": "code",
   "execution_count": null,
   "metadata": {},
   "outputs": [],
   "source": []
  },
  {
   "cell_type": "code",
   "execution_count": null,
   "metadata": {},
   "outputs": [],
   "source": []
  },
  {
   "cell_type": "code",
   "execution_count": 11,
   "metadata": {},
   "outputs": [
    {
     "data": {
      "image/png": "[encoded data removed]",
      "text/plain": [
       "<Figure size 432x288 with 1 Axes>"
      ]
     },
     "metadata": {
      "needs_background": "light"
     },
     "output_type": "display_data"
    }
   ],
   "source": [
    "classical = simulatorResult[0]\n",
    "encodingSimulator = simulatorResult[2]\n",
    "encodingReal = athensResult[2]\n",
    "hsgsSimulator = simulatorResult[1]\n",
    "hsgsReal = athensResult[1]\n",
    "\n",
    "# encodingValencia = valenciaResult[2]\n",
    "# hsgsValencia = valenciaResult[1]\n",
    "# encodingOurense = ourenseResult[2]\n",
    "# hsgsOurense = ourenseResult[1]\n",
    "\n",
    "x = np.arange(len(classical))  # the label locations\n",
    "width = 0.16  # the width of the bars\n",
    "\n",
    "# Set position of bar on X axis\n",
    "r1 = np.arange(len(classical))\n",
    "r2 = [x + width for x in r1]\n",
    "r3 = [x + width for x in r2]\n",
    "r4 = [x + width for x in r3]\n",
    "r5 = [x + width for x in r4]\n",
    "# r6 = [x + width for x in r5]\n",
    "# r7 = [x + width for x in r6]\n",
    "# r8 = [x + width for x in r7]\n",
    "# r9 = [x + width for x in r8]\n",
    "\n",
    "fig, ax = plt.subplots()\n",
    "\n",
    "rects1 = ax.bar(r1, classical, width, label='classical')\n",
    "\n",
    "rects2 = ax.bar(r2, hsgsSimulator, width, label='simulator hsgs')\n",
    "rects3 = ax.bar(r3, encodingSimulator, width, label='simulator encoding')\n",
    "\n",
    "rects4 = ax.bar(r4, hsgsReal, width, label='athens hsgs')\n",
    "rects5 = ax.bar(r5, encodingReal, width, label='athens encoding')\n",
    "\n",
    "# rects6 = ax.bar(r6, hsgsValencia, width, label='valencia hsgs')\n",
    "# rects7 = ax.bar(r7, encodingValencia, width, label='valencia encoding')\n",
    "\n",
    "# rects8 = ax.bar(r8, hsgsOurense, width, label='ourense hsgs')\n",
    "# rects9 = ax.bar(r9, encodingOurense, width, label='ourense encoding')\n",
    "\n",
    "# Add some text for labels, title and custom x-axis tick labels, etc.\n",
    "ax.set_ylabel('Neuron Output')\n",
    "ax.set_title('Output from a couple of samples')\n",
    "ax.set_xticks(x)\n",
    "ax.legend()\n",
    "\n",
    "fig.tight_layout()\n",
    "\n",
    "plt.show()"
   ]
  },
  {
   "cell_type": "code",
   "execution_count": null,
   "metadata": {},
   "outputs": [],
   "source": []
  }
 ],
 "metadata": {
  "kernelspec": {
   "display_name": "Python 3",
   "language": "python",
   "name": "python3"
  },
  "language_info": {
   "codemirror_mode": {
    "name": "ipython",
    "version": 3
   },
   "file_extension": ".py",
   "mimetype": "text/x-python",
   "name": "python",
   "nbconvert_exporter": "python",
   "pygments_lexer": "ipython3",
   "version": "3.8.3"
  }
 },
 "nbformat": 4,
 "nbformat_minor": 2
}
